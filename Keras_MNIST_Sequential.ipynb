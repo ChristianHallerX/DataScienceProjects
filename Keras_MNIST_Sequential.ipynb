{
 "cells": [
  {
   "cell_type": "markdown",
   "metadata": {},
   "source": [
    "# MNIST with Keras high-level language (Sequential model) - With vs without Convolutional Layers\n",
    "\n",
    "Note: You may have to install a few libraries working in the background if you want to run this model by yourself. For running Keras on your Nvidia GPU follow the following instructions: [Link](https://github.com/antoniosehk/keras-tensorflow-windows-installation)\n",
    "\n",
    "# Approach 1: Without convolutional layers\n",
    "\n",
    "## Define dense layers"
   ]
  },
  {
   "cell_type": "code",
   "execution_count": 1,
   "metadata": {},
   "outputs": [],
   "source": [
    "num_classes = 10 # ten handwritten digits (0 to 9) to classify"
   ]
  },
  {
   "cell_type": "code",
   "execution_count": 2,
   "metadata": {},
   "outputs": [
    {
     "name": "stderr",
     "output_type": "stream",
     "text": [
      "Using TensorFlow backend.\n",
      "WARNING: Logging before flag parsing goes to stderr.\n",
      "W0816 17:38:51.408221  1288 deprecation_wrapper.py:119] From C:\\Users\\ChristianV700\\Anaconda3\\envs\\keras-gpu\\lib\\site-packages\\keras\\backend\\tensorflow_backend.py:74: The name tf.get_default_graph is deprecated. Please use tf.compat.v1.get_default_graph instead.\n",
      "\n"
     ]
    },
    {
     "data": {
      "text/plain": [
       "<keras.layers.core.Dense at 0x19164ccb6a0>"
      ]
     },
     "execution_count": 2,
     "metadata": {},
     "output_type": "execute_result"
    }
   ],
   "source": [
    "from keras.layers import Dense, Activation\n",
    "\n",
    "Dense(units=num_classes, # number of output neurons\n",
    "      activation = None, # activation function by name\n",
    "      use_bias = True, # use bias term or not\n",
    "      kernel_initializer = 'glorot_uniform',\n",
    "      bias_initializer = 'zeros')"
   ]
  },
  {
   "cell_type": "markdown",
   "metadata": {},
   "source": [
    "## Define dropout layers"
   ]
  },
  {
   "cell_type": "code",
   "execution_count": 3,
   "metadata": {},
   "outputs": [
    {
     "data": {
      "text/plain": [
       "<keras.layers.core.Dropout at 0x19164ccba58>"
      ]
     },
     "execution_count": 3,
     "metadata": {},
     "output_type": "execute_result"
    }
   ],
   "source": [
    "from keras.layers import Dropout\n",
    "\n",
    "rate = 0.2 # dropout rate 0 to 1\n",
    "\n",
    "Dropout(rate,  # fraction of units to drop\n",
    "       seed = None) # random seed for reproducibility"
   ]
  },
  {
   "cell_type": "markdown",
   "metadata": {},
   "source": [
    "## Imports and loading data"
   ]
  },
  {
   "cell_type": "code",
   "execution_count": 4,
   "metadata": {},
   "outputs": [],
   "source": [
    "import keras\n",
    "from keras.datasets import mnist\n",
    "from keras.utils import to_categorical\n",
    "from keras.models import Sequential\n",
    "from keras.layers import Dropout, Dense\n",
    "\n",
    "batch_size = 128\n",
    "epochs = 20\n",
    "\n",
    "(x_train, y_train), (x_test, y_test) = mnist.load_data()"
   ]
  },
  {
   "cell_type": "markdown",
   "metadata": {},
   "source": [
    "## Data preprocessing"
   ]
  },
  {
   "cell_type": "code",
   "execution_count": 5,
   "metadata": {},
   "outputs": [
    {
     "name": "stdout",
     "output_type": "stream",
     "text": [
      "x_train shape: (60000, 784)\n",
      "y_train shape: (60000, 10)\n",
      "\n",
      "x_test shape: (10000, 784)\n",
      "y_test shape: (10000, 10)\n"
     ]
    }
   ],
   "source": [
    "# 60000 samples (pictures), 28*28 features (pixels)\n",
    "x_train = x_train.reshape(60000, 784) \n",
    "x_test = x_test.reshape(10000, 784)\n",
    "\n",
    "# used to be integer greysacle, now needs to be float when converted 0 to 1\n",
    "x_train = x_train.astype('float32') \n",
    "x_test = x_test.astype('float32')\n",
    "\n",
    "# normalize greyscale (0 to 255)) to values 0 to 1\n",
    "x_train /= 255 \n",
    "x_test /= 255\n",
    "\n",
    "# create y labels (digits)\n",
    "y_train = keras.utils.to_categorical(y_train, num_classes)\n",
    "y_test = keras.utils.to_categorical(y_test, num_classes)\n",
    "\n",
    "# check matrix sizes\n",
    "print('x_train shape:', x_train.shape)\n",
    "print('y_train shape:', y_train.shape)\n",
    "\n",
    "print('\\nx_test shape:', x_test.shape)\n",
    "print('y_test shape:', y_test.shape)"
   ]
  },
  {
   "cell_type": "markdown",
   "metadata": {},
   "source": [
    "\n",
    "## Defining and compiling the model"
   ]
  },
  {
   "cell_type": "code",
   "execution_count": 6,
   "metadata": {},
   "outputs": [
    {
     "name": "stderr",
     "output_type": "stream",
     "text": [
      "W0816 17:38:51.970582  1288 deprecation_wrapper.py:119] From C:\\Users\\ChristianV700\\Anaconda3\\envs\\keras-gpu\\lib\\site-packages\\keras\\backend\\tensorflow_backend.py:517: The name tf.placeholder is deprecated. Please use tf.compat.v1.placeholder instead.\n",
      "\n",
      "W0816 17:38:51.986203  1288 deprecation_wrapper.py:119] From C:\\Users\\ChristianV700\\Anaconda3\\envs\\keras-gpu\\lib\\site-packages\\keras\\backend\\tensorflow_backend.py:4138: The name tf.random_uniform is deprecated. Please use tf.random.uniform instead.\n",
      "\n",
      "W0816 17:38:52.001825  1288 deprecation_wrapper.py:119] From C:\\Users\\ChristianV700\\Anaconda3\\envs\\keras-gpu\\lib\\site-packages\\keras\\backend\\tensorflow_backend.py:133: The name tf.placeholder_with_default is deprecated. Please use tf.compat.v1.placeholder_with_default instead.\n",
      "\n",
      "W0816 17:38:52.017455  1288 deprecation.py:506] From C:\\Users\\ChristianV700\\Anaconda3\\envs\\keras-gpu\\lib\\site-packages\\keras\\backend\\tensorflow_backend.py:3445: calling dropout (from tensorflow.python.ops.nn_ops) with keep_prob is deprecated and will be removed in a future version.\n",
      "Instructions for updating:\n",
      "Please use `rate` instead of `keep_prob`. Rate should be set to `rate = 1 - keep_prob`.\n",
      "W0816 17:38:52.095553  1288 deprecation_wrapper.py:119] From C:\\Users\\ChristianV700\\Anaconda3\\envs\\keras-gpu\\lib\\site-packages\\keras\\optimizers.py:790: The name tf.train.Optimizer is deprecated. Please use tf.compat.v1.train.Optimizer instead.\n",
      "\n",
      "W0816 17:38:52.111174  1288 deprecation_wrapper.py:119] From C:\\Users\\ChristianV700\\Anaconda3\\envs\\keras-gpu\\lib\\site-packages\\keras\\backend\\tensorflow_backend.py:3295: The name tf.log is deprecated. Please use tf.math.log instead.\n",
      "\n"
     ]
    },
    {
     "name": "stdout",
     "output_type": "stream",
     "text": [
      "_________________________________________________________________\n",
      "Layer (type)                 Output Shape              Param #   \n",
      "=================================================================\n",
      "dense_2 (Dense)              (None, 512)               401920    \n",
      "_________________________________________________________________\n",
      "dropout_2 (Dropout)          (None, 512)               0         \n",
      "_________________________________________________________________\n",
      "dense_3 (Dense)              (None, 512)               262656    \n",
      "_________________________________________________________________\n",
      "dropout_3 (Dropout)          (None, 512)               0         \n",
      "_________________________________________________________________\n",
      "dense_4 (Dense)              (None, 10)                5130      \n",
      "=================================================================\n",
      "Total params: 669,706\n",
      "Trainable params: 669,706\n",
      "Non-trainable params: 0\n",
      "_________________________________________________________________\n"
     ]
    }
   ],
   "source": [
    "from keras.optimizers import SGD # Stochastic Gradient Descent\n",
    "from keras.utils.vis_utils import plot_model\n",
    "import pydot\n",
    "\n",
    "# define model layers\n",
    "model = Sequential()\n",
    "model.add(Dense(512, activation = 'relu', input_shape=(784,))) # first layer only\n",
    "model.add(Dropout(rate))\n",
    "model.add(Dense(512, activation = 'relu'))\n",
    "model.add(Dropout(rate))\n",
    "model.add(Dense(num_classes, activation = 'softmax')) # output layer with 10 endpoints and softmax probability (0 to 1)\n",
    "\n",
    "sgd = SGD(lr=0.01, decay=1e-6, momentum=0.9, nesterov=True) # lr = learning rate , decay = earning rate decay over each update\n",
    "model.compile(loss='categorical_crossentropy', optimizer=sgd, metrics=['accuracy'])\n",
    "\n",
    "# not so nice model representation\n",
    "model.summary()"
   ]
  },
  {
   "cell_type": "code",
   "execution_count": 7,
   "metadata": {},
   "outputs": [
    {
     "data": {
      "image/svg+xml": [
       "<svg height=\"410pt\" viewBox=\"0.00 0.00 138.00 410.00\" width=\"138pt\" xmlns=\"http://www.w3.org/2000/svg\" xmlns:xlink=\"http://www.w3.org/1999/xlink\">\n",
       "<g class=\"graph\" id=\"graph0\" transform=\"scale(1 1) rotate(0) translate(4 406)\">\n",
       "<title>G</title>\n",
       "<polygon fill=\"white\" points=\"-4,4 -4,-406 134,-406 134,4 -4,4\" stroke=\"none\"/>\n",
       "<!-- 1724362056648 -->\n",
       "<g class=\"node\" id=\"node1\"><title>1724362056648</title>\n",
       "<polygon fill=\"none\" points=\"13,-292.5 13,-328.5 117,-328.5 117,-292.5 13,-292.5\" stroke=\"black\"/>\n",
       "<text font-family=\"Times New Roman,serif\" font-size=\"14.00\" text-anchor=\"middle\" x=\"65\" y=\"-306.8\">dense_2: Dense</text>\n",
       "</g>\n",
       "<!-- 1724362056816 -->\n",
       "<g class=\"node\" id=\"node2\"><title>1724362056816</title>\n",
       "<polygon fill=\"none\" points=\"0,-219.5 0,-255.5 130,-255.5 130,-219.5 0,-219.5\" stroke=\"black\"/>\n",
       "<text font-family=\"Times New Roman,serif\" font-size=\"14.00\" text-anchor=\"middle\" x=\"65\" y=\"-233.8\">dropout_2: Dropout</text>\n",
       "</g>\n",
       "<!-- 1724362056648&#45;&gt;1724362056816 -->\n",
       "<g class=\"edge\" id=\"edge2\"><title>1724362056648-&gt;1724362056816</title>\n",
       "<path d=\"M65,-292.313C65,-284.289 65,-274.547 65,-265.569\" fill=\"none\" stroke=\"black\"/>\n",
       "<polygon fill=\"black\" points=\"68.5001,-265.529 65,-255.529 61.5001,-265.529 68.5001,-265.529\" stroke=\"black\"/>\n",
       "</g>\n",
       "<!-- 1724362058048 -->\n",
       "<g class=\"node\" id=\"node3\"><title>1724362058048</title>\n",
       "<polygon fill=\"none\" points=\"13,-146.5 13,-182.5 117,-182.5 117,-146.5 13,-146.5\" stroke=\"black\"/>\n",
       "<text font-family=\"Times New Roman,serif\" font-size=\"14.00\" text-anchor=\"middle\" x=\"65\" y=\"-160.8\">dense_3: Dense</text>\n",
       "</g>\n",
       "<!-- 1724362056816&#45;&gt;1724362058048 -->\n",
       "<g class=\"edge\" id=\"edge3\"><title>1724362056816-&gt;1724362058048</title>\n",
       "<path d=\"M65,-219.313C65,-211.289 65,-201.547 65,-192.569\" fill=\"none\" stroke=\"black\"/>\n",
       "<polygon fill=\"black\" points=\"68.5001,-192.529 65,-182.529 61.5001,-192.529 68.5001,-192.529\" stroke=\"black\"/>\n",
       "</g>\n",
       "<!-- 1724362057992 -->\n",
       "<g class=\"node\" id=\"node4\"><title>1724362057992</title>\n",
       "<polygon fill=\"none\" points=\"0,-73.5 0,-109.5 130,-109.5 130,-73.5 0,-73.5\" stroke=\"black\"/>\n",
       "<text font-family=\"Times New Roman,serif\" font-size=\"14.00\" text-anchor=\"middle\" x=\"65\" y=\"-87.8\">dropout_3: Dropout</text>\n",
       "</g>\n",
       "<!-- 1724362058048&#45;&gt;1724362057992 -->\n",
       "<g class=\"edge\" id=\"edge4\"><title>1724362058048-&gt;1724362057992</title>\n",
       "<path d=\"M65,-146.313C65,-138.289 65,-128.547 65,-119.569\" fill=\"none\" stroke=\"black\"/>\n",
       "<polygon fill=\"black\" points=\"68.5001,-119.529 65,-109.529 61.5001,-119.529 68.5001,-119.529\" stroke=\"black\"/>\n",
       "</g>\n",
       "<!-- 1724362058272 -->\n",
       "<g class=\"node\" id=\"node5\"><title>1724362058272</title>\n",
       "<polygon fill=\"none\" points=\"13,-0.5 13,-36.5 117,-36.5 117,-0.5 13,-0.5\" stroke=\"black\"/>\n",
       "<text font-family=\"Times New Roman,serif\" font-size=\"14.00\" text-anchor=\"middle\" x=\"65\" y=\"-14.8\">dense_4: Dense</text>\n",
       "</g>\n",
       "<!-- 1724362057992&#45;&gt;1724362058272 -->\n",
       "<g class=\"edge\" id=\"edge5\"><title>1724362057992-&gt;1724362058272</title>\n",
       "<path d=\"M65,-73.3129C65,-65.2895 65,-55.5475 65,-46.5691\" fill=\"none\" stroke=\"black\"/>\n",
       "<polygon fill=\"black\" points=\"68.5001,-46.5288 65,-36.5288 61.5001,-46.5289 68.5001,-46.5288\" stroke=\"black\"/>\n",
       "</g>\n",
       "<!-- 1724362057096 -->\n",
       "<g class=\"node\" id=\"node6\"><title>1724362057096</title>\n",
       "<polygon fill=\"none\" points=\"13,-365.5 13,-401.5 117,-401.5 117,-365.5 13,-365.5\" stroke=\"black\"/>\n",
       "<text font-family=\"Times New Roman,serif\" font-size=\"14.00\" text-anchor=\"middle\" x=\"65\" y=\"-379.8\">1724362057096</text>\n",
       "</g>\n",
       "<!-- 1724362057096&#45;&gt;1724362056648 -->\n",
       "<g class=\"edge\" id=\"edge1\"><title>1724362057096-&gt;1724362056648</title>\n",
       "<path d=\"M65,-365.313C65,-357.289 65,-347.547 65,-338.569\" fill=\"none\" stroke=\"black\"/>\n",
       "<polygon fill=\"black\" points=\"68.5001,-338.529 65,-328.529 61.5001,-338.529 68.5001,-338.529\" stroke=\"black\"/>\n",
       "</g>\n",
       "</g>\n",
       "</svg>"
      ],
      "text/plain": [
       "<IPython.core.display.SVG object>"
      ]
     },
     "execution_count": 7,
     "metadata": {},
     "output_type": "execute_result"
    }
   ],
   "source": [
    "from IPython.display import SVG\n",
    "from keras.utils.vis_utils import model_to_dot\n",
    "\n",
    "# graphical representation of model layers saved to file. For some reason the show_shapes does not work.\n",
    "plot_model(model, to_file='model_plot.png', show_shapes=True)\n",
    "\n",
    "# show graph\n",
    "SVG(model_to_dot(model).create(prog='dot', format='svg'))"
   ]
  },
  {
   "cell_type": "markdown",
   "metadata": {},
   "source": [
    "## Running and evaluating"
   ]
  },
  {
   "cell_type": "code",
   "execution_count": 8,
   "metadata": {},
   "outputs": [
    {
     "name": "stderr",
     "output_type": "stream",
     "text": [
      "W0816 17:38:52.720405  1288 deprecation.py:323] From C:\\Users\\ChristianV700\\Anaconda3\\envs\\keras-gpu\\lib\\site-packages\\tensorflow\\python\\ops\\math_grad.py:1250: add_dispatch_support.<locals>.wrapper (from tensorflow.python.ops.array_ops) is deprecated and will be removed in a future version.\n",
      "Instructions for updating:\n",
      "Use tf.where in 2.0, which has the same broadcast rule as np.where\n"
     ]
    },
    {
     "name": "stdout",
     "output_type": "stream",
     "text": [
      "Train on 60000 samples, validate on 10000 samples\n",
      "Epoch 1/20\n",
      "60000/60000 [==============================] - 5s 87us/step - loss: 0.4860 - acc: 0.8598 - val_loss: 0.2165 - val_acc: 0.9375\n",
      "Epoch 2/20\n",
      "60000/60000 [==============================] - 2s 32us/step - loss: 0.2167 - acc: 0.9367 - val_loss: 0.1497 - val_acc: 0.9552\n",
      "Epoch 3/20\n",
      "60000/60000 [==============================] - 2s 33us/step - loss: 0.1604 - acc: 0.9524 - val_loss: 0.1182 - val_acc: 0.9634\n",
      "Epoch 4/20\n",
      "60000/60000 [==============================] - 2s 33us/step - loss: 0.1313 - acc: 0.9617 - val_loss: 0.0993 - val_acc: 0.9689\n",
      "Epoch 5/20\n",
      "60000/60000 [==============================] - 2s 33us/step - loss: 0.1090 - acc: 0.9677 - val_loss: 0.0895 - val_acc: 0.9715\n",
      "Epoch 6/20\n",
      "60000/60000 [==============================] - 2s 33us/step - loss: 0.0947 - acc: 0.9717 - val_loss: 0.0831 - val_acc: 0.9742\n",
      "Epoch 7/20\n",
      "60000/60000 [==============================] - 2s 35us/step - loss: 0.0824 - acc: 0.9756 - val_loss: 0.0775 - val_acc: 0.9762\n",
      "Epoch 8/20\n",
      "60000/60000 [==============================] - 2s 33us/step - loss: 0.0734 - acc: 0.9779 - val_loss: 0.0717 - val_acc: 0.9768\n",
      "Epoch 9/20\n",
      "60000/60000 [==============================] - 2s 33us/step - loss: 0.0651 - acc: 0.9803 - val_loss: 0.0667 - val_acc: 0.9792\n",
      "Epoch 10/20\n",
      "60000/60000 [==============================] - 2s 32us/step - loss: 0.0611 - acc: 0.9816 - val_loss: 0.0675 - val_acc: 0.9783\n",
      "Epoch 11/20\n",
      "60000/60000 [==============================] - 2s 32us/step - loss: 0.0551 - acc: 0.9835 - val_loss: 0.0634 - val_acc: 0.9793\n",
      "Epoch 12/20\n",
      "60000/60000 [==============================] - 2s 33us/step - loss: 0.0502 - acc: 0.9845 - val_loss: 0.0606 - val_acc: 0.9806\n",
      "Epoch 13/20\n",
      "60000/60000 [==============================] - 2s 33us/step - loss: 0.0456 - acc: 0.9864 - val_loss: 0.0589 - val_acc: 0.9812\n",
      "Epoch 14/20\n",
      "60000/60000 [==============================] - 2s 33us/step - loss: 0.0418 - acc: 0.9873 - val_loss: 0.0584 - val_acc: 0.9806\n",
      "Epoch 15/20\n",
      "60000/60000 [==============================] - 2s 33us/step - loss: 0.0391 - acc: 0.9882 - val_loss: 0.0570 - val_acc: 0.9818\n",
      "Epoch 16/20\n",
      "60000/60000 [==============================] - 2s 33us/step - loss: 0.0355 - acc: 0.9891 - val_loss: 0.0544 - val_acc: 0.9819\n",
      "Epoch 17/20\n",
      "60000/60000 [==============================] - 2s 33us/step - loss: 0.0334 - acc: 0.9898 - val_loss: 0.0541 - val_acc: 0.9817\n",
      "Epoch 18/20\n",
      "60000/60000 [==============================] - 2s 33us/step - loss: 0.0298 - acc: 0.9911 - val_loss: 0.0554 - val_acc: 0.9821\n",
      "Epoch 19/20\n",
      "60000/60000 [==============================] - 2s 32us/step - loss: 0.0286 - acc: 0.9914 - val_loss: 0.0553 - val_acc: 0.9824\n",
      "Epoch 20/20\n",
      "60000/60000 [==============================] - 2s 34us/step - loss: 0.0276 - acc: 0.9917 - val_loss: 0.0539 - val_acc: 0.9821\n",
      "Test loss:  0.05392494007226778\n",
      "Test accuracy:  0.9821\n"
     ]
    }
   ],
   "source": [
    "# Run model and save values in history variable\n",
    "history = model.fit(x_train, y_train, batch_size=batch_size, epochs=epochs, validation_data=(x_test, y_test))\n",
    "\n",
    "# Show final score\n",
    "score = model.evaluate(x_test, y_test, verbose=0)\n",
    "print('Test loss: ', score[0])\n",
    "print('Test accuracy: ', score[1])"
   ]
  },
  {
   "cell_type": "code",
   "execution_count": 16,
   "metadata": {},
   "outputs": [
    {
     "data": {
      "image/png": "[encoded data removed]",
      "text/plain": [
       "<Figure size 432x288 with 1 Axes>"
      ]
     },
     "metadata": {
      "needs_background": "light"
     },
     "output_type": "display_data"
    },
    {
     "data": {
      "image/png": "[encoded data removed]",
      "text/plain": [
       "<Figure size 432x288 with 1 Axes>"
      ]
     },
     "metadata": {
      "needs_background": "light"
     },
     "output_type": "display_data"
    }
   ],
   "source": [
    "import matplotlib.pyplot as plt\n",
    "\n",
    "# Plot training & validation accuracy values from history variable\n",
    "plt.plot(history.history['acc'])\n",
    "plt.plot(history.history['val_acc'])\n",
    "plt.title('Model accuracy')\n",
    "plt.ylabel('Accuracy')\n",
    "plt.xlabel('Epoch')\n",
    "plt.legend(['Train', 'Test'], loc='upper left')\n",
    "plt.show()\n",
    "\n",
    "# Plot training & validation loss values from history variable\n",
    "plt.plot(history.history['loss'])\n",
    "plt.plot(history.history['val_loss'])\n",
    "plt.title('Model loss')\n",
    "plt.ylabel('Loss')\n",
    "plt.xlabel('Epoch')\n",
    "plt.legend(['Train', 'Test'], loc='upper left')\n",
    "plt.show()"
   ]
  },
  {
   "cell_type": "markdown",
   "metadata": {},
   "source": [
    "# Approach 2: With Convolutional layers\n",
    "\n",
    "This design makes use of convolutional layers, which are particularly effective for image classification tasks.\n",
    "\n",
    "## Imports and loading data"
   ]
  },
  {
   "cell_type": "code",
   "execution_count": 10,
   "metadata": {},
   "outputs": [],
   "source": [
    "import keras\n",
    "from keras.datasets import mnist\n",
    "from keras.models import Sequential\n",
    "from keras.layers import Dense, Dropout, Flatten\n",
    "from keras.optimizers import RMSprop\n",
    "from keras.layers import Conv2D, MaxPooling2D\n",
    "\n",
    "batch_size = 128\n",
    "num_classes = 10\n",
    "epochs = 20\n",
    "\n",
    "img_rows, img_cols = 28, 28\n",
    "\n",
    "# the data, shuffled and split between train and test sets\n",
    "(x_train, y_train), (x_test, y_test) = mnist.load_data()"
   ]
  },
  {
   "cell_type": "markdown",
   "metadata": {},
   "source": [
    "## Data preprocessing"
   ]
  },
  {
   "cell_type": "code",
   "execution_count": 11,
   "metadata": {},
   "outputs": [
    {
     "name": "stdout",
     "output_type": "stream",
     "text": [
      "x_train shape: (60000, 28, 28, 1)\n",
      "y_train shape: (60000,)\n",
      "\n",
      "x_test shape: (10000, 28, 28, 1)\n",
      "y_test shape: (10000,)\n"
     ]
    }
   ],
   "source": [
    "# matrix 60000 samples high and 784 features (pixel values) wide\n",
    "x_train = x_train.reshape(x_train.shape[0], img_rows, img_cols, 1)\n",
    "x_test = x_test.reshape(x_test.shape[0], img_rows, img_cols, 1)\n",
    "input_shape = (img_rows, img_cols, 1) # for the TensorFlow backend, the color value comes last\n",
    "\n",
    "# originally integer, needs to be float for next step\n",
    "x_train = x_train.astype('float32')\n",
    "x_test = x_test.astype('float32')\n",
    "\n",
    "# normalize grey values\n",
    "x_train /= 255\n",
    "x_test /= 255\n",
    "\n",
    "# check matrix sizes\n",
    "print('x_train shape:', x_train.shape)\n",
    "print('y_train shape:', y_train.shape)\n",
    "\n",
    "print('\\nx_test shape:', x_test.shape)\n",
    "print('y_test shape:', y_test.shape)\n",
    "\n",
    "# convert class vectors to binary class matrices (labels)\n",
    "y_train = keras.utils.to_categorical(y_train, num_classes)\n",
    "y_test = keras.utils.to_categorical(y_test, num_classes)"
   ]
  },
  {
   "cell_type": "markdown",
   "metadata": {},
   "source": [
    "## Defining and compiling the model"
   ]
  },
  {
   "cell_type": "code",
   "execution_count": 17,
   "metadata": {},
   "outputs": [
    {
     "name": "stdout",
     "output_type": "stream",
     "text": [
      "_________________________________________________________________\n",
      "Layer (type)                 Output Shape              Param #   \n",
      "=================================================================\n",
      "conv2d_2 (Conv2D)            (None, 26, 26, 32)        320       \n",
      "_________________________________________________________________\n",
      "conv2d_3 (Conv2D)            (None, 24, 24, 64)        18496     \n",
      "_________________________________________________________________\n",
      "max_pooling2d_2 (MaxPooling2 (None, 12, 12, 64)        0         \n",
      "_________________________________________________________________\n",
      "dropout_4 (Dropout)          (None, 12, 12, 64)        0         \n",
      "_________________________________________________________________\n",
      "flatten_2 (Flatten)          (None, 9216)              0         \n",
      "_________________________________________________________________\n",
      "dense_6 (Dense)              (None, 64)                589888    \n",
      "_________________________________________________________________\n",
      "dropout_5 (Dropout)          (None, 64)                0         \n",
      "_________________________________________________________________\n",
      "dense_7 (Dense)              (None, 10)                650       \n",
      "=================================================================\n",
      "Total params: 609,354\n",
      "Trainable params: 609,354\n",
      "Non-trainable params: 0\n",
      "_________________________________________________________________\n"
     ]
    }
   ],
   "source": [
    "from keras.utils.vis_utils import plot_model\n",
    "import pydot\n",
    "\n",
    "# define model layers\n",
    "model = Sequential()\n",
    "model.add(Conv2D(32, kernel_size=(3, 3), input_shape=input_shape, activation='relu'))\n",
    "model.add(Conv2D(64, (3, 3), activation='relu'))\n",
    "model.add(MaxPooling2D(pool_size=(2, 2)))\n",
    "model.add(Dropout(0.25))\n",
    "model.add(Flatten())\n",
    "model.add(Dense(64, activation='relu'))\n",
    "model.add(Dropout(0.5))\n",
    "model.add(Dense(num_classes, activation='softmax'))\n",
    "\n",
    "model.summary()\n",
    "\n",
    "model.compile(loss='categorical_crossentropy',\n",
    "              optimizer=keras.optimizers.Adadelta(),\n",
    "              metrics=['accuracy'])"
   ]
  },
  {
   "cell_type": "code",
   "execution_count": 18,
   "metadata": {},
   "outputs": [
    {
     "data": {
      "image/svg+xml": [
       "<svg height=\"629pt\" viewBox=\"0.00 0.00 217.00 629.00\" width=\"217pt\" xmlns=\"http://www.w3.org/2000/svg\" xmlns:xlink=\"http://www.w3.org/1999/xlink\">\n",
       "<g class=\"graph\" id=\"graph0\" transform=\"scale(1 1) rotate(0) translate(4 625)\">\n",
       "<title>G</title>\n",
       "<polygon fill=\"white\" points=\"-4,4 -4,-625 213,-625 213,4 -4,4\" stroke=\"none\"/>\n",
       "<!-- 1724399180040 -->\n",
       "<g class=\"node\" id=\"node1\"><title>1724399180040</title>\n",
       "<polygon fill=\"none\" points=\"41,-511.5 41,-547.5 168,-547.5 168,-511.5 41,-511.5\" stroke=\"black\"/>\n",
       "<text font-family=\"Times New Roman,serif\" font-size=\"14.00\" text-anchor=\"middle\" x=\"104.5\" y=\"-525.8\">conv2d_2: Conv2D</text>\n",
       "</g>\n",
       "<!-- 1730807543904 -->\n",
       "<g class=\"node\" id=\"node2\"><title>1730807543904</title>\n",
       "<polygon fill=\"none\" points=\"41,-438.5 41,-474.5 168,-474.5 168,-438.5 41,-438.5\" stroke=\"black\"/>\n",
       "<text font-family=\"Times New Roman,serif\" font-size=\"14.00\" text-anchor=\"middle\" x=\"104.5\" y=\"-452.8\">conv2d_3: Conv2D</text>\n",
       "</g>\n",
       "<!-- 1724399180040&#45;&gt;1730807543904 -->\n",
       "<g class=\"edge\" id=\"edge2\"><title>1724399180040-&gt;1730807543904</title>\n",
       "<path d=\"M104.5,-511.313C104.5,-503.289 104.5,-493.547 104.5,-484.569\" fill=\"none\" stroke=\"black\"/>\n",
       "<polygon fill=\"black\" points=\"108,-484.529 104.5,-474.529 101,-484.529 108,-484.529\" stroke=\"black\"/>\n",
       "</g>\n",
       "<!-- 1724399192888 -->\n",
       "<g class=\"node\" id=\"node3\"><title>1724399192888</title>\n",
       "<polygon fill=\"none\" points=\"0,-365.5 0,-401.5 209,-401.5 209,-365.5 0,-365.5\" stroke=\"black\"/>\n",
       "<text font-family=\"Times New Roman,serif\" font-size=\"14.00\" text-anchor=\"middle\" x=\"104.5\" y=\"-379.8\">max_pooling2d_2: MaxPooling2D</text>\n",
       "</g>\n",
       "<!-- 1730807543904&#45;&gt;1724399192888 -->\n",
       "<g class=\"edge\" id=\"edge3\"><title>1730807543904-&gt;1724399192888</title>\n",
       "<path d=\"M104.5,-438.313C104.5,-430.289 104.5,-420.547 104.5,-411.569\" fill=\"none\" stroke=\"black\"/>\n",
       "<polygon fill=\"black\" points=\"108,-411.529 104.5,-401.529 101,-411.529 108,-411.529\" stroke=\"black\"/>\n",
       "</g>\n",
       "<!-- 1724283911136 -->\n",
       "<g class=\"node\" id=\"node4\"><title>1724283911136</title>\n",
       "<polygon fill=\"none\" points=\"39.5,-292.5 39.5,-328.5 169.5,-328.5 169.5,-292.5 39.5,-292.5\" stroke=\"black\"/>\n",
       "<text font-family=\"Times New Roman,serif\" font-size=\"14.00\" text-anchor=\"middle\" x=\"104.5\" y=\"-306.8\">dropout_4: Dropout</text>\n",
       "</g>\n",
       "<!-- 1724399192888&#45;&gt;1724283911136 -->\n",
       "<g class=\"edge\" id=\"edge4\"><title>1724399192888-&gt;1724283911136</title>\n",
       "<path d=\"M104.5,-365.313C104.5,-357.289 104.5,-347.547 104.5,-338.569\" fill=\"none\" stroke=\"black\"/>\n",
       "<polygon fill=\"black\" points=\"108,-338.529 104.5,-328.529 101,-338.529 108,-338.529\" stroke=\"black\"/>\n",
       "</g>\n",
       "<!-- 1724399191152 -->\n",
       "<g class=\"node\" id=\"node5\"><title>1724399191152</title>\n",
       "<polygon fill=\"none\" points=\"50,-219.5 50,-255.5 159,-255.5 159,-219.5 50,-219.5\" stroke=\"black\"/>\n",
       "<text font-family=\"Times New Roman,serif\" font-size=\"14.00\" text-anchor=\"middle\" x=\"104.5\" y=\"-233.8\">flatten_2: Flatten</text>\n",
       "</g>\n",
       "<!-- 1724283911136&#45;&gt;1724399191152 -->\n",
       "<g class=\"edge\" id=\"edge5\"><title>1724283911136-&gt;1724399191152</title>\n",
       "<path d=\"M104.5,-292.313C104.5,-284.289 104.5,-274.547 104.5,-265.569\" fill=\"none\" stroke=\"black\"/>\n",
       "<polygon fill=\"black\" points=\"108,-265.529 104.5,-255.529 101,-265.529 108,-265.529\" stroke=\"black\"/>\n",
       "</g>\n",
       "<!-- 1724283910912 -->\n",
       "<g class=\"node\" id=\"node6\"><title>1724283910912</title>\n",
       "<polygon fill=\"none\" points=\"52.5,-146.5 52.5,-182.5 156.5,-182.5 156.5,-146.5 52.5,-146.5\" stroke=\"black\"/>\n",
       "<text font-family=\"Times New Roman,serif\" font-size=\"14.00\" text-anchor=\"middle\" x=\"104.5\" y=\"-160.8\">dense_6: Dense</text>\n",
       "</g>\n",
       "<!-- 1724399191152&#45;&gt;1724283910912 -->\n",
       "<g class=\"edge\" id=\"edge6\"><title>1724399191152-&gt;1724283910912</title>\n",
       "<path d=\"M104.5,-219.313C104.5,-211.289 104.5,-201.547 104.5,-192.569\" fill=\"none\" stroke=\"black\"/>\n",
       "<polygon fill=\"black\" points=\"108,-192.529 104.5,-182.529 101,-192.529 108,-192.529\" stroke=\"black\"/>\n",
       "</g>\n",
       "<!-- 1724398773248 -->\n",
       "<g class=\"node\" id=\"node7\"><title>1724398773248</title>\n",
       "<polygon fill=\"none\" points=\"39.5,-73.5 39.5,-109.5 169.5,-109.5 169.5,-73.5 39.5,-73.5\" stroke=\"black\"/>\n",
       "<text font-family=\"Times New Roman,serif\" font-size=\"14.00\" text-anchor=\"middle\" x=\"104.5\" y=\"-87.8\">dropout_5: Dropout</text>\n",
       "</g>\n",
       "<!-- 1724283910912&#45;&gt;1724398773248 -->\n",
       "<g class=\"edge\" id=\"edge7\"><title>1724283910912-&gt;1724398773248</title>\n",
       "<path d=\"M104.5,-146.313C104.5,-138.289 104.5,-128.547 104.5,-119.569\" fill=\"none\" stroke=\"black\"/>\n",
       "<polygon fill=\"black\" points=\"108,-119.529 104.5,-109.529 101,-119.529 108,-119.529\" stroke=\"black\"/>\n",
       "</g>\n",
       "<!-- 1722677589832 -->\n",
       "<g class=\"node\" id=\"node8\"><title>1722677589832</title>\n",
       "<polygon fill=\"none\" points=\"52.5,-0.5 52.5,-36.5 156.5,-36.5 156.5,-0.5 52.5,-0.5\" stroke=\"black\"/>\n",
       "<text font-family=\"Times New Roman,serif\" font-size=\"14.00\" text-anchor=\"middle\" x=\"104.5\" y=\"-14.8\">dense_7: Dense</text>\n",
       "</g>\n",
       "<!-- 1724398773248&#45;&gt;1722677589832 -->\n",
       "<g class=\"edge\" id=\"edge8\"><title>1724398773248-&gt;1722677589832</title>\n",
       "<path d=\"M104.5,-73.3129C104.5,-65.2895 104.5,-55.5475 104.5,-46.5691\" fill=\"none\" stroke=\"black\"/>\n",
       "<polygon fill=\"black\" points=\"108,-46.5288 104.5,-36.5288 101,-46.5289 108,-46.5288\" stroke=\"black\"/>\n",
       "</g>\n",
       "<!-- 1730809470760 -->\n",
       "<g class=\"node\" id=\"node9\"><title>1730809470760</title>\n",
       "<polygon fill=\"none\" points=\"52.5,-584.5 52.5,-620.5 156.5,-620.5 156.5,-584.5 52.5,-584.5\" stroke=\"black\"/>\n",
       "<text font-family=\"Times New Roman,serif\" font-size=\"14.00\" text-anchor=\"middle\" x=\"104.5\" y=\"-598.8\">1730809470760</text>\n",
       "</g>\n",
       "<!-- 1730809470760&#45;&gt;1724399180040 -->\n",
       "<g class=\"edge\" id=\"edge1\"><title>1730809470760-&gt;1724399180040</title>\n",
       "<path d=\"M104.5,-584.313C104.5,-576.289 104.5,-566.547 104.5,-557.569\" fill=\"none\" stroke=\"black\"/>\n",
       "<polygon fill=\"black\" points=\"108,-557.529 104.5,-547.529 101,-557.529 108,-557.529\" stroke=\"black\"/>\n",
       "</g>\n",
       "</g>\n",
       "</svg>"
      ],
      "text/plain": [
       "<IPython.core.display.SVG object>"
      ]
     },
     "execution_count": 18,
     "metadata": {},
     "output_type": "execute_result"
    }
   ],
   "source": [
    "from IPython.display import SVG\n",
    "from keras.utils.vis_utils import model_to_dot\n",
    "\n",
    "# graphical representation of model layers saved to file. For some reason the show_shapes does not work.\n",
    "plot_model(model, to_file='model_plot.png', show_shapes=True)\n",
    "\n",
    "# show graph\n",
    "SVG(model_to_dot(model).create(prog='dot', format='svg'))"
   ]
  },
  {
   "cell_type": "markdown",
   "metadata": {},
   "source": [
    "## Running and evaluating"
   ]
  },
  {
   "cell_type": "code",
   "execution_count": 19,
   "metadata": {},
   "outputs": [
    {
     "name": "stdout",
     "output_type": "stream",
     "text": [
      "Train on 60000 samples, validate on 10000 samples\n",
      "Epoch 1/20\n",
      "60000/60000 [==============================] - 6s 100us/step - loss: 0.3610 - acc: 0.8890 - val_loss: 0.0691 - val_acc: 0.9795\n",
      "Epoch 2/20\n",
      "60000/60000 [==============================] - 6s 92us/step - loss: 0.1283 - acc: 0.9621 - val_loss: 0.0530 - val_acc: 0.9821\n",
      "Epoch 3/20\n",
      "60000/60000 [==============================] - 6s 92us/step - loss: 0.0966 - acc: 0.9719 - val_loss: 0.0422 - val_acc: 0.9873\n",
      "Epoch 4/20\n",
      "60000/60000 [==============================] - 6s 92us/step - loss: 0.0824 - acc: 0.9757 - val_loss: 0.0411 - val_acc: 0.9865\n",
      "Epoch 5/20\n",
      "60000/60000 [==============================] - 6s 93us/step - loss: 0.0718 - acc: 0.9791 - val_loss: 0.0351 - val_acc: 0.9885\n",
      "Epoch 6/20\n",
      "60000/60000 [==============================] - 6s 92us/step - loss: 0.0657 - acc: 0.9809 - val_loss: 0.0327 - val_acc: 0.9882\n",
      "Epoch 7/20\n",
      "60000/60000 [==============================] - 6s 97us/step - loss: 0.0574 - acc: 0.9828 - val_loss: 0.0357 - val_acc: 0.9891\n",
      "Epoch 8/20\n",
      "60000/60000 [==============================] - 6s 94us/step - loss: 0.0541 - acc: 0.9842 - val_loss: 0.0331 - val_acc: 0.9887\n",
      "Epoch 9/20\n",
      "60000/60000 [==============================] - 6s 93us/step - loss: 0.0517 - acc: 0.9850 - val_loss: 0.0362 - val_acc: 0.9889\n",
      "Epoch 10/20\n",
      "60000/60000 [==============================] - 6s 94us/step - loss: 0.0506 - acc: 0.9844 - val_loss: 0.0314 - val_acc: 0.9908\n",
      "Epoch 11/20\n",
      "60000/60000 [==============================] - 6s 94us/step - loss: 0.0466 - acc: 0.9861 - val_loss: 0.0306 - val_acc: 0.9902\n",
      "Epoch 12/20\n",
      "60000/60000 [==============================] - 5s 91us/step - loss: 0.0472 - acc: 0.9858 - val_loss: 0.0308 - val_acc: 0.9904\n",
      "Epoch 13/20\n",
      "60000/60000 [==============================] - 5s 91us/step - loss: 0.0456 - acc: 0.9866 - val_loss: 0.0386 - val_acc: 0.9883\n",
      "Epoch 14/20\n",
      "60000/60000 [==============================] - 6s 92us/step - loss: 0.0450 - acc: 0.9864 - val_loss: 0.0347 - val_acc: 0.9907\n",
      "Epoch 15/20\n",
      "60000/60000 [==============================] - 6s 92us/step - loss: 0.0445 - acc: 0.9870 - val_loss: 0.0363 - val_acc: 0.9905\n",
      "Epoch 16/20\n",
      "60000/60000 [==============================] - 6s 94us/step - loss: 0.0424 - acc: 0.9875 - val_loss: 0.0301 - val_acc: 0.9915\n",
      "Epoch 17/20\n",
      "60000/60000 [==============================] - 6s 96us/step - loss: 0.0423 - acc: 0.9877 - val_loss: 0.0314 - val_acc: 0.9905\n",
      "Epoch 18/20\n",
      "60000/60000 [==============================] - 6s 93us/step - loss: 0.0422 - acc: 0.9875 - val_loss: 0.0349 - val_acc: 0.9913\n",
      "Epoch 19/20\n",
      "60000/60000 [==============================] - 6s 93us/step - loss: 0.0433 - acc: 0.9878 - val_loss: 0.0341 - val_acc: 0.9913\n",
      "Epoch 20/20\n",
      "60000/60000 [==============================] - 6s 93us/step - loss: 0.0414 - acc: 0.9881 - val_loss: 0.0318 - val_acc: 0.9907\n",
      "Test loss: 0.031751552372506923\n",
      "Test accuracy: 0.9907\n"
     ]
    }
   ],
   "source": [
    "# Run model and save values in history variable\n",
    "history = model.fit(x_train, y_train,\n",
    "                    batch_size=batch_size,\n",
    "                    epochs=epochs,\n",
    "                    verbose=1,\n",
    "                    validation_data=(x_test, y_test))\n",
    "\n",
    "score = model.evaluate(x_test, y_test, verbose=0)\n",
    "\n",
    "# Show final score\n",
    "print('Test loss:', score[0])\n",
    "print('Test accuracy:', score[1])"
   ]
  },
  {
   "cell_type": "code",
   "execution_count": 20,
   "metadata": {},
   "outputs": [
    {
     "data": {
      "image/png": "[encoded data removed]",
      "text/plain": [
       "<Figure size 432x288 with 1 Axes>"
      ]
     },
     "metadata": {
      "needs_background": "light"
     },
     "output_type": "display_data"
    },
    {
     "data": {
      "image/png": "[encoded data removed]",
      "text/plain": [
       "<Figure size 432x288 with 1 Axes>"
      ]
     },
     "metadata": {
      "needs_background": "light"
     },
     "output_type": "display_data"
    }
   ],
   "source": [
    "# Plot training & validation accuracy values from history variable\n",
    "plt.plot(history.history['acc'])\n",
    "plt.plot(history.history['val_acc'])\n",
    "plt.title('Model accuracy')\n",
    "plt.ylabel('Accuracy')\n",
    "plt.xlabel('Epoch')\n",
    "plt.legend(['Train', 'Test'], loc='upper left')\n",
    "plt.show()\n",
    "\n",
    "# Plot training & validation loss values from history variable\n",
    "plt.plot(history.history['loss'])\n",
    "plt.plot(history.history['val_loss'])\n",
    "plt.title('Model loss')\n",
    "plt.ylabel('Loss')\n",
    "plt.xlabel('Epoch')\n",
    "plt.legend(['Train', 'Test'], loc='upper left')\n",
    "plt.show()"
   ]
  },
  {
   "cell_type": "code",
   "execution_count": null,
   "metadata": {},
   "outputs": [],
   "source": []
  }
 ],
 "metadata": {
  "kernelspec": {
   "display_name": "Python 3",
   "language": "python",
   "name": "python3"
  },
  "language_info": {
   "codemirror_mode": {
    "name": "ipython",
    "version": 3
   },
   "file_extension": ".py",
   "mimetype": "text/x-python",
   "name": "python",
   "nbconvert_exporter": "python",
   "pygments_lexer": "ipython3",
   "version": "3.6.9"
  }
 },
 "nbformat": 4,
 "nbformat_minor": 4
}
