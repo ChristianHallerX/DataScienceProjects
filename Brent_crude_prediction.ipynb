{
 "cells": [
  {
   "cell_type": "markdown",
   "metadata": {},
   "source": [
    "# Brent Crude Oil price prediction with LSTM\n",
    "\n",
    "The LSTM model performance with Mean Absolute Error (MAE) will be compared with Mean Square Error (MSE).\n",
    "\n",
    "Data Source: U.S. Energy Information Administration, Crude Oil Prices: Brent - Europe [DCOILBRENTEU], retrieved from FRED, Federal Reserve Bank of St. Louis; https://fred.stlouisfed.org/series/DCOILBRENTEU. Updated 23 July, 2020.\n",
    "\n",
    "Download instructions: On the Fred website link above, click on \"Max\" duration and then \"Download\" as CSV (data).\n",
    "\n",
    "## Contents:\n",
    " 1. Data Loading\n",
    " 2. Data Cleaning\n",
    " 3. Visualization\n",
    " 4. Create Train Set\n",
    " 5. Train a Model: LSTM with Mean Absolute Error (MAE)\n",
    " 6. Test Set\n",
    " 7. Predict Test Set\n",
    " 8. Train a Model: LSTM with Mean Square Error (MSE)\n",
    " 9. Predict Test Set"
   ]
  },
  {
   "cell_type": "markdown",
   "metadata": {},
   "source": [
    "## Imports"
   ]
  },
  {
   "cell_type": "code",
   "execution_count": 1,
   "metadata": {},
   "outputs": [
    {
     "name": "stderr",
     "output_type": "stream",
     "text": [
      "Using TensorFlow backend.\n"
     ]
    }
   ],
   "source": [
    "import numpy as np\n",
    "import pandas as pd\n",
    "import os\n",
    "from keras.preprocessing import sequence\n",
    "from keras.models import load_model"
   ]
  },
  {
   "cell_type": "markdown",
   "metadata": {},
   "source": [
    "## 1 Data Loading"
   ]
  },
  {
   "cell_type": "code",
   "execution_count": 3,
   "metadata": {},
   "outputs": [
    {
     "data": {
      "text/html": [
       "<div>\n",
       "<style scoped>\n",
       "    .dataframe tbody tr th:only-of-type {\n",
       "        vertical-align: middle;\n",
       "    }\n",
       "\n",
       "    .dataframe tbody tr th {\n",
       "        vertical-align: top;\n",
       "    }\n",
       "\n",
       "    .dataframe thead th {\n",
       "        text-align: right;\n",
       "    }\n",
       "</style>\n",
       "<table border=\"1\" class=\"dataframe\">\n",
       "  <thead>\n",
       "    <tr style=\"text-align: right;\">\n",
       "      <th></th>\n",
       "      <th>DATE</th>\n",
       "      <th>DCOILBRENTEU</th>\n",
       "    </tr>\n",
       "  </thead>\n",
       "  <tbody>\n",
       "    <tr>\n",
       "      <th>0</th>\n",
       "      <td>1987-05-20</td>\n",
       "      <td>18.63</td>\n",
       "    </tr>\n",
       "    <tr>\n",
       "      <th>1</th>\n",
       "      <td>1987-05-21</td>\n",
       "      <td>18.45</td>\n",
       "    </tr>\n",
       "    <tr>\n",
       "      <th>2</th>\n",
       "      <td>1987-05-22</td>\n",
       "      <td>18.55</td>\n",
       "    </tr>\n",
       "    <tr>\n",
       "      <th>3</th>\n",
       "      <td>1987-05-25</td>\n",
       "      <td>18.60</td>\n",
       "    </tr>\n",
       "    <tr>\n",
       "      <th>4</th>\n",
       "      <td>1987-05-26</td>\n",
       "      <td>18.63</td>\n",
       "    </tr>\n",
       "  </tbody>\n",
       "</table>\n",
       "</div>"
      ],
      "text/plain": [
       "         DATE DCOILBRENTEU\n",
       "0  1987-05-20        18.63\n",
       "1  1987-05-21        18.45\n",
       "2  1987-05-22        18.55\n",
       "3  1987-05-25        18.60\n",
       "4  1987-05-26        18.63"
      ]
     },
     "execution_count": 3,
     "metadata": {},
     "output_type": "execute_result"
    }
   ],
   "source": [
    "# Load csv into pandas data frame\n",
    "df_data_1 = pd.read_csv(f'{os.getcwd()}\\\\Data\\\\brent_data\\\\DCOILBRENTEU.csv')\n",
    "\n",
    "# Show top of data frame\n",
    "df_data_1.head()"
   ]
  },
  {
   "cell_type": "code",
   "execution_count": 4,
   "metadata": {},
   "outputs": [
    {
     "data": {
      "text/html": [
       "<div>\n",
       "<style scoped>\n",
       "    .dataframe tbody tr th:only-of-type {\n",
       "        vertical-align: middle;\n",
       "    }\n",
       "\n",
       "    .dataframe tbody tr th {\n",
       "        vertical-align: top;\n",
       "    }\n",
       "\n",
       "    .dataframe thead th {\n",
       "        text-align: right;\n",
       "    }\n",
       "</style>\n",
       "<table border=\"1\" class=\"dataframe\">\n",
       "  <thead>\n",
       "    <tr style=\"text-align: right;\">\n",
       "      <th></th>\n",
       "      <th>DATE</th>\n",
       "      <th>DCOILBRENTEU</th>\n",
       "    </tr>\n",
       "  </thead>\n",
       "  <tbody>\n",
       "    <tr>\n",
       "      <th>8649</th>\n",
       "      <td>2020-07-14</td>\n",
       "      <td>42.97</td>\n",
       "    </tr>\n",
       "    <tr>\n",
       "      <th>8650</th>\n",
       "      <td>2020-07-15</td>\n",
       "      <td>43.96</td>\n",
       "    </tr>\n",
       "    <tr>\n",
       "      <th>8651</th>\n",
       "      <td>2020-07-16</td>\n",
       "      <td>43.71</td>\n",
       "    </tr>\n",
       "    <tr>\n",
       "      <th>8652</th>\n",
       "      <td>2020-07-17</td>\n",
       "      <td>43.53</td>\n",
       "    </tr>\n",
       "    <tr>\n",
       "      <th>8653</th>\n",
       "      <td>2020-07-20</td>\n",
       "      <td>43.3</td>\n",
       "    </tr>\n",
       "  </tbody>\n",
       "</table>\n",
       "</div>"
      ],
      "text/plain": [
       "            DATE DCOILBRENTEU\n",
       "8649  2020-07-14        42.97\n",
       "8650  2020-07-15        43.96\n",
       "8651  2020-07-16        43.71\n",
       "8652  2020-07-17        43.53\n",
       "8653  2020-07-20         43.3"
      ]
     },
     "execution_count": 4,
     "metadata": {},
     "output_type": "execute_result"
    }
   ],
   "source": [
    "# Show tail of data frame\n",
    "df_data_1.tail()"
   ]
  },
  {
   "cell_type": "markdown",
   "metadata": {},
   "source": [
    "As we see above, the data frame contains a column with dates and one column with crude prices. Oldest up top, youngest at the bottom. There is a lag time of roughly a week until prices get added to the csv.\n",
    "\n",
    "## 2 Data Cleaning\n",
    "\n",
    "Unfortunately there are some missing values in the price column, which are marked with a period. The periods need to be removed."
   ]
  },
  {
   "cell_type": "code",
   "execution_count": 5,
   "metadata": {},
   "outputs": [
    {
     "name": "stdout",
     "output_type": "stream",
     "text": [
      "Days with missing value:  234\n",
      "Original data set:  (8654, 2)\n",
      "Cleaned data set:  (8420, 2)\n"
     ]
    }
   ],
   "source": [
    "booleancounter=df_data_1.apply(lambda x: True if x['DCOILBRENTEU'] == '.' else False , axis=1)\n",
    "missvalue=len(booleancounter[booleancounter == True].index)\n",
    " \n",
    "print('Days with missing value: ', missvalue)\n",
    "print('Original data set: ', df_data_1.shape)\n",
    "\n",
    "# remove periods, which are missing values\n",
    "df_data_1 = df_data_1[df_data_1.DCOILBRENTEU != \".\"]\n",
    "print('Cleaned data set: ',df_data_1.shape)"
   ]
  },
  {
   "cell_type": "markdown",
   "metadata": {},
   "source": [
    "## 3 Visualization\n",
    "\n",
    "Currently, the values in the columns are stored as integer. For plotting, the price values need to be represented as floats."
   ]
  },
  {
   "cell_type": "code",
   "execution_count": 6,
   "metadata": {},
   "outputs": [
    {
     "name": "stdout",
     "output_type": "stream",
     "text": [
      "Old DCOILBRENTEU class:  object\n",
      "New DCOILBRENTEU class:  float64\n"
     ]
    }
   ],
   "source": [
    "# Pandas calls string types \"object\"\n",
    "print(\"Old DCOILBRENTEU class: \",df_data_1.dtypes['DCOILBRENTEU'])\n",
    "\n",
    "# Convert prices to numpy float array\n",
    "df_data_1_plot = df_data_1.iloc[:,1:2].values.astype(float)\n",
    "\n",
    "print(\"New DCOILBRENTEU class: \",df_data_1_plot.dtype)"
   ]
  },
  {
   "cell_type": "code",
   "execution_count": 7,
   "metadata": {},
   "outputs": [
    {
     "data": {
      "image/png": "[encoded data removed]",
      "text/plain": [
       "<Figure size 432x288 with 1 Axes>"
      ]
     },
     "metadata": {
      "needs_background": "light"
     },
     "output_type": "display_data"
    }
   ],
   "source": [
    "import matplotlib.pyplot as plt\n",
    "\n",
    "# Visualising the Data\n",
    "plt.plot(df_data_1_plot, color = 'red', label = 'Crude Oil Prices')\n",
    "plt.title('Crude Oil Prices Historical Data')\n",
    "plt.xlabel('Time (Days)')\n",
    "plt.ylabel('Crude Oil Prices (U.S. $)')\n",
    "plt.legend()\n",
    "\n",
    "plt.show()"
   ]
  },
  {
   "cell_type": "markdown",
   "metadata": {},
   "source": [
    "## 4 Create Train Set\n",
    "\n",
    "Split the data in 90% training and 10% test. With **stateful LSTMs** the training-set the size must be divisible without remainder by the batch-size (modulo = 0). "
   ]
  },
  {
   "cell_type": "code",
   "execution_count": 8,
   "metadata": {},
   "outputs": [],
   "source": [
    "# Defining the batch size and number of epochs important for splitting\n",
    "batch_size = 64\n",
    "epochs = 120\n",
    "timesteps = 30"
   ]
  },
  {
   "cell_type": "code",
   "execution_count": 9,
   "metadata": {},
   "outputs": [
    {
     "name": "stdout",
     "output_type": "stream",
     "text": [
      "Total length:  8420\n",
      "Training length:  7578.0\n"
     ]
    }
   ],
   "source": [
    "length = len(df_data_1)\n",
    "print(\"Total length: \",length)\n",
    "\n",
    "training_length = length *0.9\n",
    "print(\"Training length: \",training_length)"
   ]
  },
  {
   "cell_type": "markdown",
   "metadata": {},
   "source": [
    "Check if the training set length comes with a remainder when divided through batch size."
   ]
  },
  {
   "cell_type": "code",
   "execution_count": 10,
   "metadata": {},
   "outputs": [
    {
     "data": {
      "text/plain": [
       "26.0"
      ]
     },
     "execution_count": 10,
     "metadata": {},
     "output_type": "execute_result"
    }
   ],
   "source": [
    "training_remainder = training_length%batch_size\n",
    "training_remainder"
   ]
  },
  {
   "cell_type": "markdown",
   "metadata": {},
   "source": [
    "There is a remainder! Let's remove the remainder from the training length to get rid of the remainder."
   ]
  },
  {
   "cell_type": "code",
   "execution_count": 11,
   "metadata": {},
   "outputs": [
    {
     "name": "stdout",
     "output_type": "stream",
     "text": [
      "7552.0\n"
     ]
    },
    {
     "data": {
      "text/plain": [
       "0.0"
      ]
     },
     "execution_count": 11,
     "metadata": {},
     "output_type": "execute_result"
    }
   ],
   "source": [
    "training_length_new = training_length - training_remainder\n",
    "print(training_length_new)\n",
    "training_length_new%batch_size"
   ]
  },
  {
   "cell_type": "markdown",
   "metadata": {},
   "source": [
    "### Define Train Set length\n",
    "\n",
    "We can formalize the finding of the training set length and define a function."
   ]
  },
  {
   "cell_type": "code",
   "execution_count": 12,
   "metadata": {},
   "outputs": [],
   "source": [
    "def get_train_length(dataset, batch_size, test_percent):\n",
    "    # substract test_percent to be excluded from training, reserved for testset\n",
    "    length = len(dataset)\n",
    "    length *= 1 - test_percent\n",
    "    train_length_values = []\n",
    "    for x in range(int(length) - 100,int(length)): \n",
    "        modulo=x%batch_size\n",
    "        if (modulo == 0):\n",
    "            train_length_values.append(x)\n",
    "            print(x)\n",
    "    return (max(train_length_values))"
   ]
  },
  {
   "cell_type": "code",
   "execution_count": 13,
   "metadata": {},
   "outputs": [
    {
     "name": "stdout",
     "output_type": "stream",
     "text": [
      "7488\n",
      "7552\n",
      "7552\n"
     ]
    }
   ],
   "source": [
    "length = get_train_length(df_data_1, batch_size, 0.1)\n",
    "print(length)"
   ]
  },
  {
   "cell_type": "code",
   "execution_count": 14,
   "metadata": {},
   "outputs": [
    {
     "data": {
      "text/plain": [
       "(7612, 1)"
      ]
     },
     "execution_count": 14,
     "metadata": {},
     "output_type": "execute_result"
    }
   ],
   "source": [
    "# Adding timesteps * 2\n",
    "upper_train = length + timesteps*2\n",
    "df_data_1_train = df_data_1[0:upper_train]\n",
    "training_set = df_data_1_train.iloc[:,1:2].values\n",
    "training_set.shape"
   ]
  },
  {
   "cell_type": "markdown",
   "metadata": {},
   "source": [
    "### Train Set Normalization: Feature Scaling 0 to 1"
   ]
  },
  {
   "cell_type": "code",
   "execution_count": 15,
   "metadata": {},
   "outputs": [
    {
     "name": "stdout",
     "output_type": "stream",
     "text": [
      "(7612, 1)\n",
      "Show some scaled values:  [0.07067112 0.0693363  0.07007786 0.07044865 0.07067112 0.07044865]\n"
     ]
    }
   ],
   "source": [
    "from sklearn.preprocessing import MinMaxScaler\n",
    "\n",
    "# Feature Scaling\n",
    "sc = MinMaxScaler(feature_range = (0, 1))\n",
    "training_set_scaled = sc.fit_transform(np.float64(training_set))\n",
    "\n",
    "print(training_set_scaled.shape)\n",
    "print(\"Show some scaled values: \",training_set_scaled[0:6,0])"
   ]
  },
  {
   "cell_type": "markdown",
   "metadata": {},
   "source": [
    "### Train Set features and labels"
   ]
  },
  {
   "cell_type": "code",
   "execution_count": 16,
   "metadata": {},
   "outputs": [
    {
     "name": "stdout",
     "output_type": "stream",
     "text": [
      "length + timesteps:  7582\n",
      "x_train length:  7552\n",
      "ny_train length:  7552\n",
      "\n",
      "x_train:  [array([0.07067112, 0.0693363 , 0.07007786, 0.07044865, 0.07067112,\n",
      "       0.07044865, 0.07044865, 0.07030033, 0.07081943, 0.0710419 ,\n",
      "       0.07156099, 0.07178346, 0.07081943, 0.07156099, 0.07178346,\n",
      "       0.07178346, 0.0710419 , 0.07178346, 0.07267334, 0.07363737,\n",
      "       0.07378569, 0.07378569, 0.07415647, 0.07267334, 0.07156099,\n",
      "       0.07119021, 0.07400816, 0.07452725, 0.07400816, 0.07326659]), array([0.0693363 , 0.07007786, 0.07044865, 0.07067112, 0.07044865,\n",
      "       0.07044865, 0.07030033, 0.07081943, 0.0710419 , 0.07156099,\n",
      "       0.07178346, 0.07081943, 0.07156099, 0.07178346, 0.07178346,\n",
      "       0.0710419 , 0.07178346, 0.07267334, 0.07363737, 0.07378569,\n",
      "       0.07378569, 0.07415647, 0.07267334, 0.07156099, 0.07119021,\n",
      "       0.07400816, 0.07452725, 0.07400816, 0.07326659, 0.07526882])]\n",
      "x_train shape: (7552, 30)\n",
      "\n",
      "y_train:  [array([0.07526882, 0.07586207, 0.07697442, 0.07712273, 0.07697442,\n",
      "       0.07845755, 0.07882833, 0.07956989, 0.07994067, 0.08290693,\n",
      "       0.08379681, 0.08550241, 0.08490916, 0.08342603, 0.08327772,\n",
      "       0.0819429 , 0.07771598, 0.0756396 , 0.07919911, 0.08068224,\n",
      "       0.08231368, 0.08105302, 0.08787542, 0.08565072, 0.07934742,\n",
      "       0.07897664, 0.07823508, 0.07660363, 0.07675195, 0.07712273]), array([0.07586207, 0.07697442, 0.07712273, 0.07697442, 0.07845755,\n",
      "       0.07882833, 0.07956989, 0.07994067, 0.08290693, 0.08379681,\n",
      "       0.08550241, 0.08490916, 0.08342603, 0.08327772, 0.0819429 ,\n",
      "       0.07771598, 0.0756396 , 0.07919911, 0.08068224, 0.08231368,\n",
      "       0.08105302, 0.08787542, 0.08565072, 0.07934742, 0.07897664,\n",
      "       0.07823508, 0.07660363, 0.07675195, 0.07712273, 0.07638116])]\n",
      "y_train shape:  (7552, 30)\n"
     ]
    }
   ],
   "source": [
    "# Initialize as arrays\n",
    "X_train = []\n",
    "y_train = []\n",
    "\n",
    "# Creating a data structure with n timesteps\n",
    "print(\"length + timesteps: \",length + timesteps)\n",
    "for i in range(timesteps, length + timesteps): \n",
    "    X_train.append(training_set_scaled[i-timesteps:i,0])\n",
    "    y_train.append(training_set_scaled[i:i+timesteps,0])\n",
    "\n",
    "# these need to be the same length\n",
    "print(\"x_train length: \",len(X_train))\n",
    "print(\"ny_train length: \",len(y_train))\n",
    "\n",
    "# create X_train matrix, 30 items per array (timestep)\n",
    "print(\"\\nx_train: \",X_train[0:2])\n",
    "print(\"x_train shape:\",np.array(X_train).shape)\n",
    "\n",
    "# create Y_train matrix, 30 items per array (timestep)\n",
    "print(\"\\ny_train: \",y_train[0:2])\n",
    "print(\"y_train shape: \",np.array(y_train).shape)"
   ]
  },
  {
   "cell_type": "markdown",
   "metadata": {},
   "source": [
    "### Reshaping into three-dimensional array"
   ]
  },
  {
   "cell_type": "code",
   "execution_count": 17,
   "metadata": {},
   "outputs": [
    {
     "name": "stdout",
     "output_type": "stream",
     "text": [
      "(7552, 30, 1)\n",
      "(7552, 30, 1)\n"
     ]
    }
   ],
   "source": [
    "X_train, y_train = np.array(X_train), np.array(y_train)\n",
    "X_train = np.reshape(X_train, (X_train.shape[0], X_train.shape[1], 1))\n",
    "y_train = np.reshape(y_train, (y_train.shape[0], y_train.shape[1], 1))\n",
    "\n",
    "print(X_train.shape)\n",
    "print(y_train.shape)"
   ]
  },
  {
   "cell_type": "markdown",
   "metadata": {},
   "source": [
    "## 5 Train a Model: LSTM with Mean Absolute Error (MAE)"
   ]
  },
  {
   "cell_type": "code",
   "execution_count": 18,
   "metadata": {},
   "outputs": [
    {
     "name": "stdout",
     "output_type": "stream",
     "text": [
      "Model: \"model_1\"\n",
      "_________________________________________________________________\n",
      "Layer (type)                 Output Shape              Param #   \n",
      "=================================================================\n",
      "input_1 (InputLayer)         (64, 30, 1)               0         \n",
      "_________________________________________________________________\n",
      "lstm_1 (LSTM)                (64, 30, 10)              480       \n",
      "_________________________________________________________________\n",
      "lstm_2 (LSTM)                (64, 30, 10)              840       \n",
      "_________________________________________________________________\n",
      "dense_1 (Dense)              (64, 30, 1)               11        \n",
      "=================================================================\n",
      "Total params: 1,331\n",
      "Trainable params: 1,331\n",
      "Non-trainable params: 0\n",
      "_________________________________________________________________\n"
     ]
    }
   ],
   "source": [
    "from keras.layers import Dense\n",
    "from keras.layers import Input, LSTM\n",
    "from keras.models import Model\n",
    "import h5py\n",
    "\n",
    "# Initialising the LSTM Model with the Keras functional API called \"Model\" instead of \"Sequential\"\n",
    "\n",
    "# Layer 1: inputs\n",
    "inputs_1_mae = Input(batch_shape=(batch_size,timesteps,1)) # 1 = one parameter to predict\n",
    "\n",
    "# Layer 2: LSTM 1 (input to current layer is the previous layer)\n",
    "lstm_1_mae = LSTM(10, stateful=True, return_sequences=True)(inputs_1_mae) # 10 = LSTM nodes\n",
    "\n",
    "# Layer 3: LSTM 2 (input to current layer is the previous layer) # 10 = LSTM nodes\n",
    "lstm_2_mae = LSTM(10, stateful=True, return_sequences=True)(lstm_1_mae)\n",
    "\n",
    "# Layer 4: outputs (input to current layer is the previous layer)\n",
    "output_1_mae = Dense(units = 1)(lstm_2_mae)\n",
    "\n",
    "# type of model, defining input and output\n",
    "regressor_mae = Model(inputs=inputs_1_mae, outputs=output_1_mae)\n",
    "\n",
    "# adam is fast starting off and then gets slower and more precise\n",
    "regressor_mae.compile(optimizer='adam', loss = 'mae')\n",
    "regressor_mae.summary()"
   ]
  },
  {
   "cell_type": "code",
   "execution_count": 19,
   "metadata": {},
   "outputs": [
    {
     "name": "stdout",
     "output_type": "stream",
     "text": [
      "Epoch: 1  of  120\n",
      "Epoch 1/1\n",
      "7552/7552 [==============================] - 5s 694us/step - loss: 0.0436\n",
      "Epoch: 2  of  120\n",
      "Epoch 1/1\n",
      "7552/7552 [==============================] - 5s 608us/step - loss: 0.0470\n",
      "Epoch: 3  of  120\n",
      "Epoch 1/1\n",
      "7552/7552 [==============================] - 5s 601us/step - loss: 0.0525\n",
      "Epoch: 4  of  120\n",
      "Epoch 1/1\n",
      "7552/7552 [==============================] - 4s 572us/step - loss: 0.0572\n",
      "Epoch: 5  of  120\n",
      "Epoch 1/1\n",
      "7552/7552 [==============================] - 4s 569us/step - loss: 0.0660\n",
      "Epoch: 6  of  120\n",
      "Epoch 1/1\n",
      "7552/7552 [==============================] - 4s 561us/step - loss: 0.0722\n",
      "Epoch: 7  of  120\n",
      "Epoch 1/1\n",
      "7552/7552 [==============================] - 4s 584us/step - loss: 0.0728\n",
      "Epoch: 8  of  120\n",
      "Epoch 1/1\n",
      "7552/7552 [==============================] - 4s 577us/step - loss: 0.0694\n",
      "Epoch: 9  of  120\n",
      "Epoch 1/1\n",
      "7552/7552 [==============================] - 4s 566us/step - loss: 0.0640\n",
      "Epoch: 10  of  120\n",
      "Epoch 1/1\n",
      "7552/7552 [==============================] - 4s 583us/step - loss: 0.0595\n",
      "Epoch: 11  of  120\n",
      "Epoch 1/1\n",
      "7552/7552 [==============================] - 4s 559us/step - loss: 0.0553\n",
      "Epoch: 12  of  120\n",
      "Epoch 1/1\n",
      "7552/7552 [==============================] - 4s 560us/step - loss: 0.0521\n",
      "Epoch: 13  of  120\n",
      "Epoch 1/1\n",
      "7552/7552 [==============================] - 4s 551us/step - loss: 0.0501\n",
      "Epoch: 14  of  120\n",
      "Epoch 1/1\n",
      "7552/7552 [==============================] - 4s 570us/step - loss: 0.0492\n",
      "Epoch: 15  of  120\n",
      "Epoch 1/1\n",
      "7552/7552 [==============================] - 4s 579us/step - loss: 0.0482\n",
      "Epoch: 16  of  120\n",
      "Epoch 1/1\n",
      "7552/7552 [==============================] - 4s 583us/step - loss: 0.0475\n",
      "Epoch: 17  of  120\n",
      "Epoch 1/1\n",
      "7552/7552 [==============================] - 4s 569us/step - loss: 0.0468\n",
      "Epoch: 18  of  120\n",
      "Epoch 1/1\n",
      "7552/7552 [==============================] - 4s 589us/step - loss: 0.0464\n",
      "Epoch: 19  of  120\n",
      "Epoch 1/1\n",
      "7552/7552 [==============================] - 4s 571us/step - loss: 0.0458\n",
      "Epoch: 20  of  120\n",
      "Epoch 1/1\n",
      "7552/7552 [==============================] - 4s 556us/step - loss: 0.0456\n",
      "Epoch: 21  of  120\n",
      "Epoch 1/1\n",
      "7552/7552 [==============================] - 4s 566us/step - loss: 0.0450\n",
      "Epoch: 22  of  120\n",
      "Epoch 1/1\n",
      "7552/7552 [==============================] - 4s 592us/step - loss: 0.0448\n",
      "Epoch: 23  of  120\n",
      "Epoch 1/1\n",
      "7552/7552 [==============================] - 4s 575us/step - loss: 0.0442\n",
      "Epoch: 24  of  120\n",
      "Epoch 1/1\n",
      "7552/7552 [==============================] - 4s 564us/step - loss: 0.0439\n",
      "Epoch: 25  of  120\n",
      "Epoch 1/1\n",
      "7552/7552 [==============================] - 4s 572us/step - loss: 0.0435\n",
      "Epoch: 26  of  120\n",
      "Epoch 1/1\n",
      "7552/7552 [==============================] - 4s 567us/step - loss: 0.0433\n",
      "Epoch: 27  of  120\n",
      "Epoch 1/1\n",
      "7552/7552 [==============================] - 4s 569us/step - loss: 0.0430\n",
      "Epoch: 28  of  120\n",
      "Epoch 1/1\n",
      "7552/7552 [==============================] - 4s 561us/step - loss: 0.0428\n",
      "Epoch: 29  of  120\n",
      "Epoch 1/1\n",
      "7552/7552 [==============================] - 4s 583us/step - loss: 0.0424\n",
      "Epoch: 30  of  120\n",
      "Epoch 1/1\n",
      "7552/7552 [==============================] - 4s 569us/step - loss: 0.0423\n",
      "Epoch: 31  of  120\n",
      "Epoch 1/1\n",
      "7552/7552 [==============================] - 4s 563us/step - loss: 0.0419\n",
      "Epoch: 32  of  120\n",
      "Epoch 1/1\n",
      "7552/7552 [==============================] - 4s 569us/step - loss: 0.0419\n",
      "Epoch: 33  of  120\n",
      "Epoch 1/1\n",
      "7552/7552 [==============================] - 4s 587us/step - loss: 0.0414\n",
      "Epoch: 34  of  120\n",
      "Epoch 1/1\n",
      "7552/7552 [==============================] - 4s 557us/step - loss: 0.0415\n",
      "Epoch: 35  of  120\n",
      "Epoch 1/1\n",
      "7552/7552 [==============================] - 4s 561us/step - loss: 0.0410\n",
      "Epoch: 36  of  120\n",
      "Epoch 1/1\n",
      "7552/7552 [==============================] - 4s 585us/step - loss: 0.0410\n",
      "Epoch: 37  of  120\n",
      "Epoch 1/1\n",
      "7552/7552 [==============================] - 4s 565us/step - loss: 0.0405\n",
      "Epoch: 38  of  120\n",
      "Epoch 1/1\n",
      "7552/7552 [==============================] - 4s 559us/step - loss: 0.0406\n",
      "Epoch: 39  of  120\n",
      "Epoch 1/1\n",
      "7552/7552 [==============================] - 4s 556us/step - loss: 0.0401\n",
      "Epoch: 40  of  120\n",
      "Epoch 1/1\n",
      "7552/7552 [==============================] - 4s 576us/step - loss: 0.0405\n",
      "Epoch: 41  of  120\n",
      "Epoch 1/1\n",
      "7552/7552 [==============================] - 4s 560us/step - loss: 0.0401\n",
      "Epoch: 42  of  120\n",
      "Epoch 1/1\n",
      "7552/7552 [==============================] - 4s 558us/step - loss: 0.0402\n",
      "Epoch: 43  of  120\n",
      "Epoch 1/1\n",
      "7552/7552 [==============================] - 4s 562us/step - loss: 0.0399\n",
      "Epoch: 44  of  120\n",
      "Epoch 1/1\n",
      "7552/7552 [==============================] - 4s 584us/step - loss: 0.0395\n",
      "Epoch: 45  of  120\n",
      "Epoch 1/1\n",
      "7552/7552 [==============================] - 4s 557us/step - loss: 0.0395\n",
      "Epoch: 46  of  120\n",
      "Epoch 1/1\n",
      "7552/7552 [==============================] - 4s 567us/step - loss: 0.0392\n",
      "Epoch: 47  of  120\n",
      "Epoch 1/1\n",
      "7552/7552 [==============================] - 4s 574us/step - loss: 0.0393\n",
      "Epoch: 48  of  120\n",
      "Epoch 1/1\n",
      "7552/7552 [==============================] - 4s 578us/step - loss: 0.0389\n",
      "Epoch: 49  of  120\n",
      "Epoch 1/1\n",
      "7552/7552 [==============================] - 4s 569us/step - loss: 0.0389\n",
      "Epoch: 50  of  120\n",
      "Epoch 1/1\n",
      "7552/7552 [==============================] - 4s 563us/step - loss: 0.0387\n",
      "Epoch: 51  of  120\n",
      "Epoch 1/1\n",
      "7552/7552 [==============================] - 4s 573us/step - loss: 0.0386\n",
      "Epoch: 52  of  120\n",
      "Epoch 1/1\n",
      "7552/7552 [==============================] - 4s 581us/step - loss: 0.0385\n",
      "Epoch: 53  of  120\n",
      "Epoch 1/1\n",
      "7552/7552 [==============================] - 4s 572us/step - loss: 0.0384\n",
      "Epoch: 54  of  120\n",
      "Epoch 1/1\n",
      "7552/7552 [==============================] - 4s 561us/step - loss: 0.0382\n",
      "Epoch: 55  of  120\n",
      "Epoch 1/1\n",
      "7552/7552 [==============================] - 4s 576us/step - loss: 0.0382\n",
      "Epoch: 56  of  120\n",
      "Epoch 1/1\n",
      "7552/7552 [==============================] - 4s 559us/step - loss: 0.0380\n",
      "Epoch: 57  of  120\n",
      "Epoch 1/1\n",
      "7552/7552 [==============================] - 4s 559us/step - loss: 0.0382\n",
      "Epoch: 58  of  120\n",
      "Epoch 1/1\n",
      "7552/7552 [==============================] - 4s 555us/step - loss: 0.0380\n",
      "Epoch: 59  of  120\n",
      "Epoch 1/1\n",
      "7552/7552 [==============================] - 4s 573us/step - loss: 0.0383\n",
      "Epoch: 60  of  120\n",
      "Epoch 1/1\n",
      "7552/7552 [==============================] - 4s 561us/step - loss: 0.0377\n",
      "Epoch: 61  of  120\n",
      "Epoch 1/1\n",
      "7552/7552 [==============================] - 4s 559us/step - loss: 0.0378\n",
      "Epoch: 62  of  120\n",
      "Epoch 1/1\n",
      "7552/7552 [==============================] - 4s 577us/step - loss: 0.0374\n",
      "Epoch: 63  of  120\n",
      "Epoch 1/1\n",
      "7552/7552 [==============================] - 4s 575us/step - loss: 0.0374\n",
      "Epoch: 64  of  120\n",
      "Epoch 1/1\n",
      "7552/7552 [==============================] - 5s 620us/step - loss: 0.0372\n",
      "Epoch: 65  of  120\n",
      "Epoch 1/1\n",
      "7552/7552 [==============================] - 4s 569us/step - loss: 0.0372\n",
      "Epoch: 66  of  120\n",
      "Epoch 1/1\n",
      "7552/7552 [==============================] - 4s 573us/step - loss: 0.0371\n",
      "Epoch: 67  of  120\n",
      "Epoch 1/1\n",
      "7552/7552 [==============================] - 4s 567us/step - loss: 0.0370\n",
      "Epoch: 68  of  120\n",
      "Epoch 1/1\n",
      "7552/7552 [==============================] - 4s 572us/step - loss: 0.0370\n",
      "Epoch: 69  of  120\n",
      "Epoch 1/1\n",
      "7552/7552 [==============================] - 4s 564us/step - loss: 0.0369\n",
      "Epoch: 70  of  120\n",
      "Epoch 1/1\n",
      "7552/7552 [==============================] - 4s 588us/step - loss: 0.0369\n",
      "Epoch: 71  of  120\n",
      "Epoch 1/1\n",
      "7552/7552 [==============================] - 4s 574us/step - loss: 0.0369\n",
      "Epoch: 72  of  120\n",
      "Epoch 1/1\n",
      "7552/7552 [==============================] - 4s 560us/step - loss: 0.0368\n",
      "Epoch: 73  of  120\n",
      "Epoch 1/1\n",
      "7552/7552 [==============================] - 4s 560us/step - loss: 0.0368\n",
      "Epoch: 74  of  120\n",
      "Epoch 1/1\n",
      "7552/7552 [==============================] - 4s 593us/step - loss: 0.0368\n",
      "Epoch: 75  of  120\n",
      "Epoch 1/1\n",
      "7552/7552 [==============================] - 4s 573us/step - loss: 0.0366\n",
      "Epoch: 76  of  120\n",
      "Epoch 1/1\n",
      "7552/7552 [==============================] - 4s 575us/step - loss: 0.0366\n",
      "Epoch: 77  of  120\n",
      "Epoch 1/1\n",
      "7552/7552 [==============================] - 5s 599us/step - loss: 0.0364\n",
      "Epoch: 78  of  120\n",
      "Epoch 1/1\n",
      "7552/7552 [==============================] - 4s 585us/step - loss: 0.0363\n",
      "Epoch: 79  of  120\n",
      "Epoch 1/1\n",
      "7552/7552 [==============================] - 4s 581us/step - loss: 0.0363\n",
      "Epoch: 80  of  120\n",
      "Epoch 1/1\n",
      "7552/7552 [==============================] - 4s 565us/step - loss: 0.0362\n",
      "Epoch: 81  of  120\n",
      "Epoch 1/1\n",
      "7552/7552 [==============================] - 4s 583us/step - loss: 0.0362\n",
      "Epoch: 82  of  120\n",
      "Epoch 1/1\n",
      "7552/7552 [==============================] - 4s 572us/step - loss: 0.0361\n",
      "Epoch: 83  of  120\n",
      "Epoch 1/1\n",
      "7552/7552 [==============================] - 4s 557us/step - loss: 0.0360\n",
      "Epoch: 84  of  120\n",
      "Epoch 1/1\n",
      "7552/7552 [==============================] - 4s 581us/step - loss: 0.0360\n",
      "Epoch: 85  of  120\n",
      "Epoch 1/1\n",
      "7552/7552 [==============================] - 4s 581us/step - loss: 0.0360\n",
      "Epoch: 86  of  120\n",
      "Epoch 1/1\n",
      "7552/7552 [==============================] - 4s 574us/step - loss: 0.0359\n",
      "Epoch: 87  of  120\n",
      "Epoch 1/1\n",
      "7552/7552 [==============================] - 4s 571us/step - loss: 0.0359\n",
      "Epoch: 88  of  120\n",
      "Epoch 1/1\n",
      "7552/7552 [==============================] - 4s 583us/step - loss: 0.0358\n",
      "Epoch: 89  of  120\n",
      "Epoch 1/1\n",
      "7552/7552 [==============================] - 4s 572us/step - loss: 0.0358\n",
      "Epoch: 90  of  120\n",
      "Epoch 1/1\n",
      "7552/7552 [==============================] - 4s 568us/step - loss: 0.0357\n",
      "Epoch: 91  of  120\n",
      "Epoch 1/1\n",
      "7552/7552 [==============================] - 4s 565us/step - loss: 0.0356\n",
      "Epoch: 92  of  120\n",
      "Epoch 1/1\n",
      "7552/7552 [==============================] - 5s 600us/step - loss: 0.0356\n",
      "Epoch: 93  of  120\n",
      "Epoch 1/1\n",
      "7552/7552 [==============================] - 4s 563us/step - loss: 0.0355 0s - lo\n",
      "Epoch: 94  of  120\n",
      "Epoch 1/1\n",
      "7552/7552 [==============================] - 4s 564us/step - loss: 0.0356\n",
      "Epoch: 95  of  120\n",
      "Epoch 1/1\n",
      "7552/7552 [==============================] - 4s 567us/step - loss: 0.0355\n",
      "Epoch: 96  of  120\n",
      "Epoch 1/1\n",
      "7552/7552 [==============================] - 4s 588us/step - loss: 0.0355\n",
      "Epoch: 97  of  120\n",
      "Epoch 1/1\n",
      "7552/7552 [==============================] - 4s 565us/step - loss: 0.0353\n",
      "Epoch: 98  of  120\n",
      "Epoch 1/1\n",
      "7552/7552 [==============================] - 4s 569us/step - loss: 0.0354\n",
      "Epoch: 99  of  120\n",
      "Epoch 1/1\n",
      "7552/7552 [==============================] - 4s 579us/step - loss: 0.0353\n",
      "Epoch: 100  of  120\n",
      "Epoch 1/1\n",
      "7552/7552 [==============================] - 4s 565us/step - loss: 0.0353\n",
      "Epoch: 101  of  120\n",
      "Epoch 1/1\n",
      "7552/7552 [==============================] - 4s 558us/step - loss: 0.0352\n",
      "Epoch: 102  of  120\n",
      "Epoch 1/1\n",
      "7552/7552 [==============================] - 4s 558us/step - loss: 0.0352\n",
      "Epoch: 103  of  120\n",
      "Epoch 1/1\n",
      "7552/7552 [==============================] - 4s 571us/step - loss: 0.0351\n",
      "Epoch: 104  of  120\n",
      "Epoch 1/1\n",
      "7552/7552 [==============================] - 4s 573us/step - loss: 0.0351\n",
      "Epoch: 105  of  120\n",
      "Epoch 1/1\n",
      "7552/7552 [==============================] - 4s 568us/step - loss: 0.0350\n",
      "Epoch: 106  of  120\n",
      "Epoch 1/1\n",
      "7552/7552 [==============================] - 4s 559us/step - loss: 0.0350\n",
      "Epoch: 107  of  120\n",
      "Epoch 1/1\n",
      "7552/7552 [==============================] - 4s 569us/step - loss: 0.0350\n",
      "Epoch: 108  of  120\n",
      "Epoch 1/1\n",
      "7552/7552 [==============================] - 4s 567us/step - loss: 0.0349\n",
      "Epoch: 109  of  120\n",
      "Epoch 1/1\n",
      "7552/7552 [==============================] - 4s 575us/step - loss: 0.0350\n",
      "Epoch: 110  of  120\n",
      "Epoch 1/1\n",
      "7552/7552 [==============================] - 4s 570us/step - loss: 0.0348\n",
      "Epoch: 111  of  120\n",
      "Epoch 1/1\n",
      "7552/7552 [==============================] - 4s 589us/step - loss: 0.0349\n",
      "Epoch: 112  of  120\n",
      "Epoch 1/1\n",
      "7552/7552 [==============================] - 4s 572us/step - loss: 0.0348\n",
      "Epoch: 113  of  120\n",
      "Epoch 1/1\n",
      "7552/7552 [==============================] - 4s 569us/step - loss: 0.0349\n",
      "Epoch: 114  of  120\n",
      "Epoch 1/1\n",
      "7552/7552 [==============================] - 4s 568us/step - loss: 0.0347\n",
      "Epoch: 115  of  120\n",
      "Epoch 1/1\n",
      "7552/7552 [==============================] - 4s 573us/step - loss: 0.0347\n",
      "Epoch: 116  of  120\n",
      "Epoch 1/1\n",
      "7552/7552 [==============================] - 4s 567us/step - loss: 0.0347\n",
      "Epoch: 117  of  120\n",
      "Epoch 1/1\n",
      "7552/7552 [==============================] - 4s 563us/step - loss: 0.0347\n",
      "Epoch: 118  of  120\n",
      "Epoch 1/1\n",
      "7552/7552 [==============================] - 4s 577us/step - loss: 0.0346\n",
      "Epoch: 119  of  120\n",
      "Epoch 1/1\n",
      "7552/7552 [==============================] - 4s 565us/step - loss: 0.0346\n",
      "Epoch: 120  of  120\n",
      "Epoch 1/1\n",
      "7552/7552 [==============================] - 4s 569us/step - loss: 0.0345\n"
     ]
    }
   ],
   "source": [
    "# stateful - since we want to reset states, we need a loop over the fit function many times with one epoch instead of using the regular fit function and the full number of epochs\n",
    "for i in range(epochs):\n",
    "    print(\"Epoch: \" + str(i+1),\" of \",epochs)\n",
    "    # run through all data but the cell, hidden state are used for the next batch.\n",
    "    regressor_mae.fit(X_train, y_train, shuffle=False, epochs = 1, batch_size = batch_size)\n",
    "    # resets only the states but the weights, cell and hidden are kept\n",
    "    regressor_mae.reset_states()"
   ]
  },
  {
   "cell_type": "code",
   "execution_count": 20,
   "metadata": {},
   "outputs": [],
   "source": [
    "# stateless - between the batches the cell and hidden states are lost\n",
    "#regressor_mae.fit(X_train, y_train, shuffle=False, epochs = epochs, batch_size = batch_size)"
   ]
  },
  {
   "cell_type": "markdown",
   "metadata": {},
   "source": [
    "### Save the model"
   ]
  },
  {
   "cell_type": "code",
   "execution_count": 21,
   "metadata": {},
   "outputs": [],
   "source": [
    "import h5py\n",
    "\n",
    "# save\n",
    "regressor_mae.save(filepath = \"Data\\\\brent_data\\\\brent_model_mae_30_ts.h5\")"
   ]
  },
  {
   "cell_type": "code",
   "execution_count": 22,
   "metadata": {},
   "outputs": [],
   "source": [
    "# load\n",
    "regressor_mae = load_model('Data\\\\brent_data\\\\brent_model_mae_30_ts.h5')"
   ]
  },
  {
   "cell_type": "markdown",
   "metadata": {},
   "source": [
    "## 6 Test Set\n",
    "### Defining Test Set length\n",
    "\n",
    "Again, helper function to define the test set length."
   ]
  },
  {
   "cell_type": "code",
   "execution_count": 23,
   "metadata": {},
   "outputs": [],
   "source": [
    "def get_test_length(dataset, batch_size):\n",
    "    \n",
    "    test_length_values = []\n",
    "    for x in range(len(dataset) - 200, len(dataset) - timesteps*2): \n",
    "        modulo=(x-upper_train)%batch_size\n",
    "        if (modulo == 0):\n",
    "            test_length_values.append(x)\n",
    "            print(x)\n",
    "    return (max(test_length_values))"
   ]
  },
  {
   "cell_type": "code",
   "execution_count": 24,
   "metadata": {},
   "outputs": [
    {
     "name": "stdout",
     "output_type": "stream",
     "text": [
      "8252\n",
      "8316\n",
      "8316\n",
      "Calculated test set length:  704\n"
     ]
    }
   ],
   "source": [
    "test_length = get_test_length(df_data_1, batch_size)\n",
    "print(test_length)\n",
    "upper_test = test_length + timesteps*2\n",
    "\n",
    "testset_length = test_length - upper_train\n",
    "print(\"Calculated test set length: \",testset_length)"
   ]
  },
  {
   "cell_type": "code",
   "execution_count": 25,
   "metadata": {},
   "outputs": [
    {
     "name": "stdout",
     "output_type": "stream",
     "text": [
      "7612 8376 8420\n"
     ]
    }
   ],
   "source": [
    "print(upper_train, upper_test, len(df_data_1))"
   ]
  },
  {
   "cell_type": "markdown",
   "metadata": {},
   "source": [
    "### Creating the Test Set"
   ]
  },
  {
   "cell_type": "code",
   "execution_count": 26,
   "metadata": {},
   "outputs": [
    {
     "data": {
      "text/plain": [
       "(704, 30, 1)"
      ]
     },
     "execution_count": 26,
     "metadata": {},
     "output_type": "execute_result"
    }
   ],
   "source": [
    "# construct test set\n",
    "\n",
    "# subsetting\n",
    "df_data_1_test = df_data_1[upper_train:upper_test] \n",
    "test_set = df_data_1_test.iloc[:,1:2].values\n",
    "\n",
    "# scaling\n",
    "scaled_real_bcg_values_test = sc.fit_transform(np.float64(test_set))\n",
    "\n",
    "# creating input data\n",
    "X_test = []\n",
    "for i in range(timesteps, testset_length + timesteps):\n",
    "    X_test.append(scaled_real_bcg_values_test[i-timesteps:i, 0])\n",
    "X_test = np.array(X_test)\n",
    "\n",
    "\n",
    "# reshaping\n",
    "X_test = np.reshape(X_test, (X_test.shape[0], X_test.shape[1], 1))\n",
    "\n",
    "# size check\n",
    "X_test.shape"
   ]
  },
  {
   "cell_type": "markdown",
   "metadata": {},
   "source": [
    "## 7 Predict Test Set"
   ]
  },
  {
   "cell_type": "code",
   "execution_count": 27,
   "metadata": {},
   "outputs": [
    {
     "name": "stdout",
     "output_type": "stream",
     "text": [
      "Before reshaping:  (704, 30, 1)\n",
      "After reshaping:  (704, 30)\n",
      "y test set after reshape:  (674,)\n"
     ]
    }
   ],
   "source": [
    "# prediction\n",
    "predicted_bcg_values_test_mae = regressor_mae.predict(X_test, batch_size=batch_size)\n",
    "regressor_mae.reset_states()\n",
    "\n",
    "print(\"Before reshaping: \",predicted_bcg_values_test_mae.shape)\n",
    "\n",
    "# reshaping\n",
    "predicted_bcg_values_test_mae = np.reshape(predicted_bcg_values_test_mae, \n",
    "                                       (predicted_bcg_values_test_mae.shape[0], \n",
    "                                        predicted_bcg_values_test_mae.shape[1]))\n",
    "\n",
    "print(\"After reshaping: \",predicted_bcg_values_test_mae.shape)\n",
    "\n",
    "# inverse transform\n",
    "predicted_bcg_values_test_mae = sc.inverse_transform(predicted_bcg_values_test_mae)\n",
    "\n",
    "\n",
    "# creating y_test data\n",
    "y_test = []\n",
    "for j in range(0, testset_length - timesteps):\n",
    "    y_test = np.append(y_test, predicted_bcg_values_test_mae[j, timesteps-1])\n",
    "\n",
    "# reshaping\n",
    "pred_mae = np.reshape(y_test, (y_test.shape[0], 1))\n",
    "print(\"y test set after reshape: \",y_test.shape)"
   ]
  },
  {
   "cell_type": "code",
   "execution_count": 28,
   "metadata": {},
   "outputs": [
    {
     "data": {
      "image/png": "[encoded data removed]",
      "text/plain": [
       "<Figure size 432x288 with 1 Axes>"
      ]
     },
     "metadata": {
      "needs_background": "light"
     },
     "output_type": "display_data"
    }
   ],
   "source": [
    "# Visualising the prediction on the test set\n",
    "plt.plot(test_set[timesteps:len(pred_mae)].astype(float), color = 'red', label = 'Real Crude Oil Prices')\n",
    "plt.plot(y_test[0:len(pred_mae) - timesteps].astype(float), color = 'blue', label = 'Predicted Crude Oil Prices')\n",
    "\n",
    "plt.title('Crude Oil Prices Prediction - MAE loss')\n",
    "plt.xlabel('Time')\n",
    "plt.ylabel('Crude Oil Prices (U.S. $)')\n",
    "plt.legend()\n",
    "\n",
    "plt.show()"
   ]
  },
  {
   "cell_type": "markdown",
   "metadata": {},
   "source": [
    "### Evaluation RMSE and MAE"
   ]
  },
  {
   "cell_type": "code",
   "execution_count": 29,
   "metadata": {},
   "outputs": [
    {
     "name": "stdout",
     "output_type": "stream",
     "text": [
      "RMSE $:  4.474756461797247\n"
     ]
    }
   ],
   "source": [
    "import math\n",
    "from sklearn.metrics import mean_squared_error\n",
    "\n",
    "# The Root Mean Square Eroor has the useful property of being in the same units as the response variable (US $).\n",
    "rmse = math.sqrt(mean_squared_error(test_set[timesteps:len(y_test)], y_test[0:len(y_test) - timesteps]))\n",
    "\n",
    "print('RMSE: $',rmse)"
   ]
  },
  {
   "cell_type": "code",
   "execution_count": 30,
   "metadata": {},
   "outputs": [
    {
     "name": "stdout",
     "output_type": "stream",
     "text": [
      "Mean prediction price: $ 65.51653726708074\n"
     ]
    }
   ],
   "source": [
    "mean_mae = np.mean(np.float64(test_set[timesteps:len(pred_mae)]))\n",
    "\n",
    "print(\"Mean prediction price: $\",mean_mae)"
   ]
  },
  {
   "cell_type": "code",
   "execution_count": 31,
   "metadata": {},
   "outputs": [
    {
     "data": {
      "text/plain": [
       "6.829964843159715"
      ]
     },
     "execution_count": 31,
     "metadata": {},
     "output_type": "execute_result"
    }
   ],
   "source": [
    "rmse/mean_mae * 100"
   ]
  },
  {
   "cell_type": "code",
   "execution_count": 32,
   "metadata": {},
   "outputs": [
    {
     "name": "stdout",
     "output_type": "stream",
     "text": [
      "3.398995651102955\n"
     ]
    }
   ],
   "source": [
    "from sklearn.metrics import mean_absolute_error\n",
    "\n",
    "# MAE evaluation on model with MAE loss\n",
    "mae = mean_absolute_error(test_set[timesteps:len(y_test)], y_test[0:len(y_test) - timesteps])\n",
    "print(mae)"
   ]
  },
  {
   "cell_type": "code",
   "execution_count": 33,
   "metadata": {},
   "outputs": [
    {
     "data": {
      "text/plain": [
       "5.187996485905255"
      ]
     },
     "execution_count": 33,
     "metadata": {},
     "output_type": "execute_result"
    }
   ],
   "source": [
    "mae/mean_mae * 100"
   ]
  },
  {
   "cell_type": "markdown",
   "metadata": {},
   "source": [
    "## 8 Train a Model: LSTM with Mean Square Error (MSE)"
   ]
  },
  {
   "cell_type": "code",
   "execution_count": 34,
   "metadata": {},
   "outputs": [
    {
     "name": "stdout",
     "output_type": "stream",
     "text": [
      "Model: \"model_2\"\n",
      "_________________________________________________________________\n",
      "Layer (type)                 Output Shape              Param #   \n",
      "=================================================================\n",
      "input_2 (InputLayer)         (64, 30, 1)               0         \n",
      "_________________________________________________________________\n",
      "lstm_3 (LSTM)                (64, 30, 10)              480       \n",
      "_________________________________________________________________\n",
      "lstm_4 (LSTM)                (64, 30, 10)              840       \n",
      "_________________________________________________________________\n",
      "dense_2 (Dense)              (64, 30, 1)               11        \n",
      "=================================================================\n",
      "Total params: 1,331\n",
      "Trainable params: 1,331\n",
      "Non-trainable params: 0\n",
      "_________________________________________________________________\n"
     ]
    }
   ],
   "source": [
    "# Same LSTM model design as before\n",
    "\n",
    "inputs_1_mse = Input(batch_shape=(batch_size,timesteps,1))\n",
    "lstm_1_mse = LSTM(10, stateful=True, return_sequences=True)(inputs_1_mse)\n",
    "lstm_2_mse = LSTM(10, stateful=True, return_sequences=True)(lstm_1_mse)\n",
    "\n",
    "output_1_mse = Dense(units = 1)(lstm_2_mse)\n",
    "\n",
    "regressor_mse = Model(inputs=inputs_1_mse, outputs = output_1_mse)\n",
    "\n",
    "# mse -> mean squared error as loss function\n",
    "regressor_mse.compile(optimizer='adam', loss = 'mse')\n",
    "regressor_mse.summary()"
   ]
  },
  {
   "cell_type": "code",
   "execution_count": 35,
   "metadata": {},
   "outputs": [
    {
     "name": "stdout",
     "output_type": "stream",
     "text": [
      "Epoch: 1  of  120\n",
      "Epoch 1/1\n",
      "7552/7552 [==============================] - 5s 634us/step - loss: 0.0051\n",
      "Epoch: 2  of  120\n",
      "Epoch 1/1\n",
      "7552/7552 [==============================] - 4s 567us/step - loss: 0.0062\n",
      "Epoch: 3  of  120\n",
      "Epoch 1/1\n",
      "7552/7552 [==============================] - 4s 566us/step - loss: 0.0073\n",
      "Epoch: 4  of  120\n",
      "Epoch 1/1\n",
      "7552/7552 [==============================] - 4s 575us/step - loss: 0.0083\n",
      "Epoch: 5  of  120\n",
      "Epoch 1/1\n",
      "7552/7552 [==============================] - 4s 576us/step - loss: 0.0091\n",
      "Epoch: 6  of  120\n",
      "Epoch 1/1\n",
      "7552/7552 [==============================] - 4s 576us/step - loss: 0.0089\n",
      "Epoch: 7  of  120\n",
      "Epoch 1/1\n",
      "7552/7552 [==============================] - 4s 562us/step - loss: 0.0087\n",
      "Epoch: 8  of  120\n",
      "Epoch 1/1\n",
      "7552/7552 [==============================] - 4s 567us/step - loss: 0.0076\n",
      "Epoch: 9  of  120\n",
      "Epoch 1/1\n",
      "7552/7552 [==============================] - 4s 569us/step - loss: 0.0068\n",
      "Epoch: 10  of  120\n",
      "Epoch 1/1\n",
      "7552/7552 [==============================] - 4s 571us/step - loss: 0.0058\n",
      "Epoch: 11  of  120\n",
      "Epoch 1/1\n",
      "7552/7552 [==============================] - 4s 554us/step - loss: 0.0053\n",
      "Epoch: 12  of  120\n",
      "Epoch 1/1\n",
      "7552/7552 [==============================] - 4s 580us/step - loss: 0.0049\n",
      "Epoch: 13  of  120\n",
      "Epoch 1/1\n",
      "7552/7552 [==============================] - 4s 563us/step - loss: 0.0047\n",
      "Epoch: 14  of  120\n",
      "Epoch 1/1\n",
      "7552/7552 [==============================] - 4s 563us/step - loss: 0.0046\n",
      "Epoch: 15  of  120\n",
      "Epoch 1/1\n",
      "7552/7552 [==============================] - 4s 559us/step - loss: 0.0045\n",
      "Epoch: 16  of  120\n",
      "Epoch 1/1\n",
      "7552/7552 [==============================] - 4s 585us/step - loss: 0.0044\n",
      "Epoch: 17  of  120\n",
      "Epoch 1/1\n",
      "7552/7552 [==============================] - 4s 564us/step - loss: 0.0044\n",
      "Epoch: 18  of  120\n",
      "Epoch 1/1\n",
      "7552/7552 [==============================] - 4s 565us/step - loss: 0.0043\n",
      "Epoch: 19  of  120\n",
      "Epoch 1/1\n",
      "7552/7552 [==============================] - 4s 579us/step - loss: 0.0043\n",
      "Epoch: 20  of  120\n",
      "Epoch 1/1\n",
      "7552/7552 [==============================] - 4s 569us/step - loss: 0.0043\n",
      "Epoch: 21  of  120\n",
      "Epoch 1/1\n",
      "7552/7552 [==============================] - 4s 563us/step - loss: 0.0042\n",
      "Epoch: 22  of  120\n",
      "Epoch 1/1\n",
      "7552/7552 [==============================] - 4s 567us/step - loss: 0.0042\n",
      "Epoch: 23  of  120\n",
      "Epoch 1/1\n",
      "7552/7552 [==============================] - 4s 585us/step - loss: 0.0042\n",
      "Epoch: 24  of  120\n",
      "Epoch 1/1\n",
      "7552/7552 [==============================] - 4s 567us/step - loss: 0.0041\n",
      "Epoch: 25  of  120\n",
      "Epoch 1/1\n",
      "7552/7552 [==============================] - 4s 570us/step - loss: 0.0041\n",
      "Epoch: 26  of  120\n",
      "Epoch 1/1\n",
      "7552/7552 [==============================] - 4s 567us/step - loss: 0.0040\n",
      "Epoch: 27  of  120\n",
      "Epoch 1/1\n",
      "7552/7552 [==============================] - 4s 580us/step - loss: 0.0040\n",
      "Epoch: 28  of  120\n",
      "Epoch 1/1\n",
      "7552/7552 [==============================] - 4s 572us/step - loss: 0.0040\n",
      "Epoch: 29  of  120\n",
      "Epoch 1/1\n",
      "7552/7552 [==============================] - 4s 555us/step - loss: 0.0039\n",
      "Epoch: 30  of  120\n",
      "Epoch 1/1\n",
      "7552/7552 [==============================] - 4s 572us/step - loss: 0.0039\n",
      "Epoch: 31  of  120\n",
      "Epoch 1/1\n",
      "7552/7552 [==============================] - 4s 560us/step - loss: 0.0039\n",
      "Epoch: 32  of  120\n",
      "Epoch 1/1\n",
      "7552/7552 [==============================] - 4s 561us/step - loss: 0.0038\n",
      "Epoch: 33  of  120\n",
      "Epoch 1/1\n",
      "7552/7552 [==============================] - 4s 565us/step - loss: 0.0038\n",
      "Epoch: 34  of  120\n",
      "Epoch 1/1\n",
      "7552/7552 [==============================] - 4s 584us/step - loss: 0.0037\n",
      "Epoch: 35  of  120\n",
      "Epoch 1/1\n",
      "7552/7552 [==============================] - 4s 576us/step - loss: 0.0037\n",
      "Epoch: 36  of  120\n",
      "Epoch 1/1\n",
      "7552/7552 [==============================] - 4s 561us/step - loss: 0.0037\n",
      "Epoch: 37  of  120\n",
      "Epoch 1/1\n",
      "7552/7552 [==============================] - 4s 568us/step - loss: 0.0038\n",
      "Epoch: 38  of  120\n",
      "Epoch 1/1\n",
      "7552/7552 [==============================] - 4s 584us/step - loss: 0.0038\n",
      "Epoch: 39  of  120\n",
      "Epoch 1/1\n",
      "7552/7552 [==============================] - 4s 568us/step - loss: 0.0037\n",
      "Epoch: 40  of  120\n",
      "Epoch 1/1\n",
      "7552/7552 [==============================] - 4s 577us/step - loss: 0.0036\n",
      "Epoch: 41  of  120\n",
      "Epoch 1/1\n",
      "7552/7552 [==============================] - 4s 565us/step - loss: 0.0036\n",
      "Epoch: 42  of  120\n",
      "Epoch 1/1\n",
      "7552/7552 [==============================] - 4s 580us/step - loss: 0.0035\n",
      "Epoch: 43  of  120\n",
      "Epoch 1/1\n",
      "7552/7552 [==============================] - 4s 550us/step - loss: 0.0035\n",
      "Epoch: 44  of  120\n",
      "Epoch 1/1\n",
      "7552/7552 [==============================] - 4s 565us/step - loss: 0.0035\n",
      "Epoch: 45  of  120\n",
      "Epoch 1/1\n",
      "7552/7552 [==============================] - 4s 571us/step - loss: 0.0035\n",
      "Epoch: 46  of  120\n",
      "Epoch 1/1\n",
      "7552/7552 [==============================] - 4s 568us/step - loss: 0.0034\n",
      "Epoch: 47  of  120\n",
      "Epoch 1/1\n",
      "7552/7552 [==============================] - 4s 573us/step - loss: 0.0034\n",
      "Epoch: 48  of  120\n",
      "Epoch 1/1\n",
      "7552/7552 [==============================] - 4s 552us/step - loss: 0.0034\n",
      "Epoch: 49  of  120\n",
      "Epoch 1/1\n",
      "7552/7552 [==============================] - 5s 599us/step - loss: 0.0034\n",
      "Epoch: 50  of  120\n",
      "Epoch 1/1\n",
      "7552/7552 [==============================] - 4s 579us/step - loss: 0.0033\n",
      "Epoch: 51  of  120\n",
      "Epoch 1/1\n",
      "7552/7552 [==============================] - 4s 568us/step - loss: 0.0033\n",
      "Epoch: 52  of  120\n",
      "Epoch 1/1\n",
      "7552/7552 [==============================] - 4s 568us/step - loss: 0.0033\n",
      "Epoch: 53  of  120\n",
      "Epoch 1/1\n",
      "7552/7552 [==============================] - 4s 580us/step - loss: 0.0033\n",
      "Epoch: 54  of  120\n",
      "Epoch 1/1\n",
      "7552/7552 [==============================] - 4s 568us/step - loss: 0.0033\n",
      "Epoch: 55  of  120\n",
      "Epoch 1/1\n",
      "7552/7552 [==============================] - 4s 569us/step - loss: 0.0033\n",
      "Epoch: 56  of  120\n",
      "Epoch 1/1\n",
      "7552/7552 [==============================] - 4s 581us/step - loss: 0.0032\n",
      "Epoch: 57  of  120\n",
      "Epoch 1/1\n",
      "7552/7552 [==============================] - 4s 563us/step - loss: 0.0032\n",
      "Epoch: 58  of  120\n",
      "Epoch 1/1\n",
      "7552/7552 [==============================] - 4s 567us/step - loss: 0.0032\n",
      "Epoch: 59  of  120\n",
      "Epoch 1/1\n",
      "7552/7552 [==============================] - 4s 569us/step - loss: 0.0032\n",
      "Epoch: 60  of  120\n",
      "Epoch 1/1\n",
      "7552/7552 [==============================] - 5s 646us/step - loss: 0.0032 0s - loss:\n",
      "Epoch: 61  of  120\n",
      "Epoch 1/1\n",
      "7552/7552 [==============================] - ETA: 0s - loss: 0.003 - 4s 579us/step - loss: 0.0031\n",
      "Epoch: 62  of  120\n",
      "Epoch 1/1\n",
      "7552/7552 [==============================] - 4s 589us/step - loss: 0.0032\n",
      "Epoch: 63  of  120\n",
      "Epoch 1/1\n",
      "7552/7552 [==============================] - 4s 595us/step - loss: 0.0031\n",
      "Epoch: 64  of  120\n",
      "Epoch 1/1\n",
      "7552/7552 [==============================] - 4s 593us/step - loss: 0.0032\n",
      "Epoch: 65  of  120\n",
      "Epoch 1/1\n",
      "7552/7552 [==============================] - 5s 597us/step - loss: 0.0031\n",
      "Epoch: 66  of  120\n",
      "Epoch 1/1\n",
      "7552/7552 [==============================] - 4s 584us/step - loss: 0.0031\n",
      "Epoch: 67  of  120\n",
      "Epoch 1/1\n",
      " 256/7552 [>.............................] - ETA: 8s - loss: 0.0029 "
     ]
    },
    {
     "name": "stderr",
     "output_type": "stream",
     "text": [
      "C:\\Users\\ChristianV700\\Anaconda3\\lib\\site-packages\\keras\\callbacks\\callbacks.py:95: RuntimeWarning: Method (on_train_batch_end) is slow compared to the batch update (0.129981). Check your callbacks.\n",
      "  % (hook_name, delta_t_median), RuntimeWarning)\n"
     ]
    },
    {
     "name": "stdout",
     "output_type": "stream",
     "text": [
      "7552/7552 [==============================] - 5s 597us/step - loss: 0.0031\n",
      "Epoch: 68  of  120\n",
      "Epoch 1/1\n",
      "7552/7552 [==============================] - 4s 573us/step - loss: 0.0032\n",
      "Epoch: 69  of  120\n",
      "Epoch 1/1\n",
      "7552/7552 [==============================] - 4s 575us/step - loss: 0.0032\n",
      "Epoch: 70  of  120\n",
      "Epoch 1/1\n",
      "7552/7552 [==============================] - 4s 571us/step - loss: 0.0031\n",
      "Epoch: 71  of  120\n",
      "Epoch 1/1\n",
      "7552/7552 [==============================] - 5s 604us/step - loss: 0.0031\n",
      "Epoch: 72  of  120\n",
      "Epoch 1/1\n",
      "7552/7552 [==============================] - 4s 560us/step - loss: 0.0031\n",
      "Epoch: 73  of  120\n",
      "Epoch 1/1\n",
      "7552/7552 [==============================] - 4s 588us/step - loss: 0.0032\n",
      "Epoch: 74  of  120\n",
      "Epoch 1/1\n",
      "7552/7552 [==============================] - 4s 581us/step - loss: 0.0030\n",
      "Epoch: 75  of  120\n",
      "Epoch 1/1\n",
      "7552/7552 [==============================] - 4s 580us/step - loss: 0.0030\n",
      "Epoch: 76  of  120\n",
      "Epoch 1/1\n",
      "7552/7552 [==============================] - 4s 573us/step - loss: 0.0031\n",
      "Epoch: 77  of  120\n",
      "Epoch 1/1\n",
      "7552/7552 [==============================] - 4s 572us/step - loss: 0.0031\n",
      "Epoch: 78  of  120\n",
      "Epoch 1/1\n",
      "7552/7552 [==============================] - 5s 620us/step - loss: 0.0029\n",
      "Epoch: 79  of  120\n",
      "Epoch 1/1\n",
      "7552/7552 [==============================] - 4s 584us/step - loss: 0.0030\n",
      "Epoch: 80  of  120\n",
      "Epoch 1/1\n",
      "7552/7552 [==============================] - 4s 581us/step - loss: 0.0031\n",
      "Epoch: 81  of  120\n",
      "Epoch 1/1\n",
      "7552/7552 [==============================] - 4s 593us/step - loss: 0.0029\n",
      "Epoch: 82  of  120\n",
      "Epoch 1/1\n",
      "7552/7552 [==============================] - 5s 608us/step - loss: 0.0029\n",
      "Epoch: 83  of  120\n",
      "Epoch 1/1\n",
      "7552/7552 [==============================] - 4s 591us/step - loss: 0.0030\n",
      "Epoch: 84  of  120\n",
      "Epoch 1/1\n",
      "7552/7552 [==============================] - 5s 599us/step - loss: 0.0029\n",
      "Epoch: 85  of  120\n",
      "Epoch 1/1\n",
      "7552/7552 [==============================] - 5s 602us/step - loss: 0.0029\n",
      "Epoch: 86  of  120\n",
      "Epoch 1/1\n",
      "7552/7552 [==============================] - 5s 622us/step - loss: 0.0029\n",
      "Epoch: 87  of  120\n",
      "Epoch 1/1\n",
      "7552/7552 [==============================] - 4s 590us/step - loss: 0.0029\n",
      "Epoch: 88  of  120\n",
      "Epoch 1/1\n",
      "7552/7552 [==============================] - 5s 601us/step - loss: 0.0029\n",
      "Epoch: 89  of  120\n",
      "Epoch 1/1\n",
      "7552/7552 [==============================] - 5s 599us/step - loss: 0.0029 0s - l\n",
      "Epoch: 90  of  120\n",
      "Epoch 1/1\n",
      "7552/7552 [==============================] - 4s 575us/step - loss: 0.0029\n",
      "Epoch: 91  of  120\n",
      "Epoch 1/1\n",
      "7552/7552 [==============================] - 4s 528us/step - loss: 0.0029\n",
      "Epoch: 92  of  120\n",
      "Epoch 1/1\n",
      "7552/7552 [==============================] - 4s 548us/step - loss: 0.0028\n",
      "Epoch: 93  of  120\n",
      "Epoch 1/1\n",
      "7552/7552 [==============================] - 4s 531us/step - loss: 0.0029\n",
      "Epoch: 94  of  120\n",
      "Epoch 1/1\n",
      "7552/7552 [==============================] - 4s 528us/step - loss: 0.0028\n",
      "Epoch: 95  of  120\n",
      "Epoch 1/1\n",
      "7552/7552 [==============================] - 4s 547us/step - loss: 0.0028\n",
      "Epoch: 96  of  120\n",
      "Epoch 1/1\n",
      "7552/7552 [==============================] - 4s 544us/step - loss: 0.0028\n",
      "Epoch: 97  of  120\n",
      "Epoch 1/1\n",
      "7552/7552 [==============================] - 5s 622us/step - loss: 0.0028\n",
      "Epoch: 98  of  120\n",
      "Epoch 1/1\n",
      "7552/7552 [==============================] - 4s 538us/step - loss: 0.0028\n",
      "Epoch: 99  of  120\n",
      "Epoch 1/1\n",
      "7552/7552 [==============================] - 4s 526us/step - loss: 0.0028\n",
      "Epoch: 100  of  120\n",
      "Epoch 1/1\n",
      "7552/7552 [==============================] - 4s 544us/step - loss: 0.0028\n",
      "Epoch: 101  of  120\n",
      "Epoch 1/1\n",
      "7552/7552 [==============================] - 4s 518us/step - loss: 0.0028\n",
      "Epoch: 102  of  120\n",
      "Epoch 1/1\n",
      "7552/7552 [==============================] - 4s 523us/step - loss: 0.0028\n",
      "Epoch: 103  of  120\n",
      "Epoch 1/1\n",
      "7552/7552 [==============================] - 4s 512us/step - loss: 0.0028\n",
      "Epoch: 104  of  120\n",
      "Epoch 1/1\n",
      "7552/7552 [==============================] - 4s 522us/step - loss: 0.0027 0s - loss: 0.\n",
      "Epoch: 105  of  120\n",
      "Epoch 1/1\n",
      "7552/7552 [==============================] - 4s 529us/step - loss: 0.0028\n",
      "Epoch: 106  of  120\n",
      "Epoch 1/1\n",
      "7552/7552 [==============================] - 4s 575us/step - loss: 0.0028\n",
      "Epoch: 107  of  120\n",
      "Epoch 1/1\n",
      "7552/7552 [==============================] - 4s 550us/step - loss: 0.0027\n",
      "Epoch: 108  of  120\n",
      "Epoch 1/1\n",
      "7552/7552 [==============================] - 4s 581us/step - loss: 0.0027\n",
      "Epoch: 109  of  120\n",
      "Epoch 1/1\n",
      "7552/7552 [==============================] - 4s 557us/step - loss: 0.0027\n",
      "Epoch: 110  of  120\n",
      "Epoch 1/1\n",
      "7552/7552 [==============================] - 4s 545us/step - loss: 0.0028\n",
      "Epoch: 111  of  120\n",
      "Epoch 1/1\n",
      "7552/7552 [==============================] - 4s 542us/step - loss: 0.0026\n",
      "Epoch: 112  of  120\n",
      "Epoch 1/1\n",
      "7552/7552 [==============================] - 4s 556us/step - loss: 0.0028\n",
      "Epoch: 113  of  120\n",
      "Epoch 1/1\n",
      "7552/7552 [==============================] - 4s 548us/step - loss: 0.0027\n",
      "Epoch: 114  of  120\n",
      "Epoch 1/1\n",
      "7552/7552 [==============================] - 4s 540us/step - loss: 0.0027\n",
      "Epoch: 115  of  120\n",
      "Epoch 1/1\n",
      "7552/7552 [==============================] - 4s 544us/step - loss: 0.0027\n",
      "Epoch: 116  of  120\n",
      "Epoch 1/1\n",
      "7552/7552 [==============================] - 4s 539us/step - loss: 0.0027 0s - l\n",
      "Epoch: 117  of  120\n",
      "Epoch 1/1\n",
      "7552/7552 [==============================] - 4s 538us/step - loss: 0.0026\n",
      "Epoch: 118  of  120\n",
      "Epoch 1/1\n",
      "7552/7552 [==============================] - 4s 547us/step - loss: 0.0026\n",
      "Epoch: 119  of  120\n",
      "Epoch 1/1\n",
      "7552/7552 [==============================] - 4s 534us/step - loss: 0.0026ETA: 1\n",
      "Epoch: 120  of  120\n",
      "Epoch 1/1\n",
      "7552/7552 [==============================] - 4s 576us/step - loss: 0.0026 0s - loss: 0.0\n"
     ]
    }
   ],
   "source": [
    "# remember, epochs = 120\n",
    "for i in range(epochs):\n",
    "    print(\"Epoch: \" + str(i+1),\" of \",epochs)\n",
    "    regressor_mse.fit(X_train, y_train, shuffle=False, epochs = 1, batch_size = batch_size)\n",
    "    regressor_mse.reset_states()"
   ]
  },
  {
   "cell_type": "markdown",
   "metadata": {},
   "source": [
    "### Save the model"
   ]
  },
  {
   "cell_type": "code",
   "execution_count": 36,
   "metadata": {},
   "outputs": [],
   "source": [
    "# save\n",
    "regressor_mse.save(filepath=\"Data\\\\brent_data\\\\brent_model_with_mse_30_ts.h5\")"
   ]
  },
  {
   "cell_type": "code",
   "execution_count": 37,
   "metadata": {},
   "outputs": [],
   "source": [
    "# load\n",
    "regressor_mse = load_model('Data\\\\brent_data\\\\brent_model_with_mse_30_ts.h5')"
   ]
  },
  {
   "cell_type": "markdown",
   "metadata": {},
   "source": [
    "## 9 Predict Test Set"
   ]
  },
  {
   "cell_type": "code",
   "execution_count": 38,
   "metadata": {},
   "outputs": [],
   "source": [
    "predicted_bcg_values_test_mse = regressor_mse.predict(X_test, batch_size=batch_size)\n",
    "regressor_mse.reset_states()\n",
    "\n",
    "predicted_bcg_values_test_mse = np.reshape(predicted_bcg_values_test_mse, \n",
    "                                       (predicted_bcg_values_test_mse.shape[0], \n",
    "                                        predicted_bcg_values_test_mse.shape[1]))\n",
    "predicted_bcg_values_test_mse = sc.inverse_transform(predicted_bcg_values_test_mse)\n",
    "\n",
    "pred_mse = []\n",
    "\n",
    "for j in range(0, testset_length - timesteps):\n",
    "    pred_mse = np.append(pred_mse, predicted_bcg_values_test_mse[j, timesteps-1])\n",
    "\n",
    "pred_mse = np.reshape(pred_mse, (pred_mse.shape[0], 1))"
   ]
  },
  {
   "cell_type": "code",
   "execution_count": 39,
   "metadata": {},
   "outputs": [
    {
     "data": {
      "image/png": "[encoded data removed]",
      "text/plain": [
       "<Figure size 432x288 with 1 Axes>"
      ]
     },
     "metadata": {
      "needs_background": "light"
     },
     "output_type": "display_data"
    }
   ],
   "source": [
    "# Visualising the results\n",
    "plt.plot(test_set[timesteps:len(pred_mse)].astype(float), color = 'red', label = 'Real Crude Oil Prices')\n",
    "plt.plot(pred_mse[0:len(pred_mse) - timesteps], color = 'green', label = 'Predicted Crude Oil Prices with MSE')\n",
    "\n",
    "plt.title('Crude Oil Prices Prediction - MSE loss')\n",
    "plt.xlabel('Time')\n",
    "plt.ylabel('Crude Oil Prices (U.S. $)')\n",
    "plt.legend()\n",
    "\n",
    "plt.show()"
   ]
  },
  {
   "cell_type": "markdown",
   "metadata": {},
   "source": [
    "### Evaluation RMSE and MAE"
   ]
  },
  {
   "cell_type": "code",
   "execution_count": 49,
   "metadata": {},
   "outputs": [
    {
     "name": "stdout",
     "output_type": "stream",
     "text": [
      "RMSE: $ 4.405316814877506\n"
     ]
    }
   ],
   "source": [
    "# RMSE evaluation on MSE loss prediction. The RMSE has the useful property of being in the same units as the response variable (US $).\n",
    "rmse = math.sqrt(mean_squared_error(test_set[timesteps:len(pred_mse)], pred_mse[0:len(pred_mse) - timesteps]))\n",
    "\n",
    "print('RMSE: $',rmse)"
   ]
  },
  {
   "cell_type": "code",
   "execution_count": 45,
   "metadata": {},
   "outputs": [
    {
     "name": "stdout",
     "output_type": "stream",
     "text": [
      "Mean prediction price: $ 65.51653726708074\n"
     ]
    }
   ],
   "source": [
    "mean_mse = np.mean(np.float64(test_set[timesteps:len(pred_mse)]))\n",
    "print(\"Mean prediction price: $\",mean_mse)"
   ]
  },
  {
   "cell_type": "code",
   "execution_count": 46,
   "metadata": {},
   "outputs": [
    {
     "data": {
      "text/plain": [
       "6.723976874600468"
      ]
     },
     "execution_count": 46,
     "metadata": {},
     "output_type": "execute_result"
    }
   ],
   "source": [
    "rmse/mean_mse * 100"
   ]
  },
  {
   "cell_type": "code",
   "execution_count": 47,
   "metadata": {},
   "outputs": [
    {
     "name": "stdout",
     "output_type": "stream",
     "text": [
      "3.6171017020089287\n"
     ]
    }
   ],
   "source": [
    "# MAE evaluation on model with MSE loss\n",
    "mae = mean_absolute_error(test_set[timesteps:len(pred_mse)], pred_mse[0:len(pred_mse) - timesteps])\n",
    "print(mae)"
   ]
  },
  {
   "cell_type": "code",
   "execution_count": 48,
   "metadata": {},
   "outputs": [
    {
     "data": {
      "text/plain": [
       "5.520898772875727"
      ]
     },
     "execution_count": 48,
     "metadata": {},
     "output_type": "execute_result"
    }
   ],
   "source": [
    "mae/mean_mse * 100"
   ]
  },
  {
   "cell_type": "markdown",
   "metadata": {},
   "source": [
    "## Summary\n",
    "\n",
    "Both error measurs produce similar results.\n",
    "\n",
    "| Measure | MAE model | MSE model |\n",
    "|----------|-------------:|------:|\n",
    "| RMSE (USD) | 4.474 | 4.404 |\n",
    "| Mean prediction price (USD) | 65.517 | 65.517 |\n",
    "| RMSE/Mean Prediction Price (%) | 6.83 | 6.723 |\n",
    "| MAE | 3.399 | 3.617 |\n",
    "| MAE/Man Prediction Price (%) | 5.188 | 5.521 |"
   ]
  },
  {
   "cell_type": "code",
   "execution_count": null,
   "metadata": {},
   "outputs": [],
   "source": []
  }
 ],
 "metadata": {
  "celltoolbar": "Attachments",
  "kernelspec": {
   "display_name": "Python 3",
   "language": "python",
   "name": "python3"
  },
  "language_info": {
   "codemirror_mode": {
    "name": "ipython",
    "version": 3
   },
   "file_extension": ".py",
   "mimetype": "text/x-python",
   "name": "python",
   "nbconvert_exporter": "python",
   "pygments_lexer": "ipython3",
   "version": "3.7.7"
  }
 },
 "nbformat": 4,
 "nbformat_minor": 4
}
