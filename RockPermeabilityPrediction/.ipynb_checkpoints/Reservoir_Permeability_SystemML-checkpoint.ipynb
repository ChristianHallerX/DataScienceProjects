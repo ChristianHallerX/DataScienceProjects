{
 "cells": [
  {
   "cell_type": "markdown",
   "metadata": {},
   "source": [
    "# Linear Regression with SystemML and Apache Spark\n",
    "\n",
    "Uninstall all libraries that need updating."
   ]
  },
  {
   "cell_type": "code",
   "execution_count": 1,
   "metadata": {},
   "outputs": [
    {
     "name": "stdout",
     "output_type": "stream",
     "text": [
      "Waiting for a Spark session to start...\n",
      "Spark Initialization Done! ApplicationId = app-20190902041245-0012\n",
      "KERNEL_ID = 2423c1f7-9e4d-4fdd-998e-35ab200cc5ba\n"
     ]
    }
   ],
   "source": [
    "#!pip uninstall systemml -y\n",
    "#!pip uninstall numpy -y"
   ]
  },
  {
   "cell_type": "markdown",
   "metadata": {},
   "source": [
    "The latest SystemML available in mid 2019 is the 1.3.0 snapshot that also works with Python 3.6 etc."
   ]
  },
  {
   "cell_type": "code",
   "execution_count": 2,
   "metadata": {},
   "outputs": [
    {
     "name": "stdout",
     "output_type": "stream",
     "text": [
      "Collecting numpy==1.17.1\n",
      "  Using cached https://files.pythonhosted.org/packages/75/92/57179ed45307ec6179e344231c47da7f3f3da9e2eee5c8ab506bd279ce4e/numpy-1.17.1-cp36-cp36m-manylinux1_x86_64.whl\n",
      "\u001b[31mError checking for conflicts.\n",
      "Traceback (most recent call last):\n",
      "  File \"/opt/ibm/conda/miniconda36/lib/python3.6/site-packages/pip/_vendor/pkg_resources/__init__.py\", line 2584, in version\n",
      "    return self._version\n",
      "  File \"/opt/ibm/conda/miniconda36/lib/python3.6/site-packages/pip/_vendor/pkg_resources/__init__.py\", line 2691, in __getattr__\n",
      "    raise AttributeError(attr)\n",
      "AttributeError: _version\n",
      "\n",
      "During handling of the above exception, another exception occurred:\n",
      "\n",
      "Traceback (most recent call last):\n",
      "  File \"/opt/ibm/conda/miniconda36/lib/python3.6/site-packages/pip/_internal/commands/install.py\", line 503, in _warn_about_conflicts\n",
      "    package_set, _dep_info = check_install_conflicts(to_install)\n",
      "  File \"/opt/ibm/conda/miniconda36/lib/python3.6/site-packages/pip/_internal/operations/check.py\", line 108, in check_install_conflicts\n",
      "    package_set, _ = create_package_set_from_installed()\n",
      "  File \"/opt/ibm/conda/miniconda36/lib/python3.6/site-packages/pip/_internal/operations/check.py\", line 47, in create_package_set_from_installed\n",
      "    package_set[name] = PackageDetails(dist.version, dist.requires())\n",
      "  File \"/opt/ibm/conda/miniconda36/lib/python3.6/site-packages/pip/_vendor/pkg_resources/__init__.py\", line 2589, in version\n",
      "    raise ValueError(tmpl % self.PKG_INFO, self)\n",
      "ValueError: (\"Missing 'Version:' header and/or METADATA file\", Unknown [unknown version] (/home/spark/shared/user-libs/python3))\u001b[0m\n",
      "Installing collected packages: numpy\n",
      "Successfully installed numpy-1.17.1\n",
      "\u001b[33mTarget directory /home/spark/shared/user-libs/python3/numpy-1.17.1.dist-info already exists. Specify --upgrade to force replacement.\u001b[0m\n",
      "\u001b[33mTarget directory /home/spark/shared/user-libs/python3/numpy already exists. Specify --upgrade to force replacement.\u001b[0m\n",
      "\u001b[33mTarget directory /home/spark/shared/user-libs/python3/bin already exists. Specify --upgrade to force replacement.\u001b[0m\n"
     ]
    }
   ],
   "source": [
    "#!pip install --upgrade https://github.com/niketanpansare/future_of_data/raw/master/systemml-1.3.0-SNAPSHOT-python.tar.gz\n",
    "!pip install numpy==1.17.1 "
   ]
  },
  {
   "cell_type": "code",
   "execution_count": 3,
   "metadata": {},
   "outputs": [],
   "source": [
    "!ln -s -f /home/spark/shared/user-libs/python3/systemml/systemml-java/systemml-1.3.0-SNAPSHOT-extra.jar ~/user-libs/spark2/systemml-1.3.0-SNAPSHOT-extra.jar\n",
    "!ln -s -f /home/spark/shared/user-libs/python3/systemml/systemml-java/systemml-1.3.0-SNAPSHOT.jar ~/user-libs/spark2/systemml-1.3.0-SNAPSHOT.jar"
   ]
  },
  {
   "cell_type": "code",
   "execution_count": 4,
   "metadata": {},
   "outputs": [
    {
     "data": {
      "text/plain": [
       "'1.3.0-SNAPSHOT'"
      ]
     },
     "execution_count": 4,
     "metadata": {},
     "output_type": "execute_result"
    }
   ],
   "source": [
    "from systemml import MLContext\n",
    "\n",
    "ml = MLContext(spark)\n",
    "ml.version()"
   ]
  },
  {
   "cell_type": "code",
   "execution_count": 5,
   "metadata": {},
   "outputs": [
    {
     "name": "stdout",
     "output_type": "stream",
     "text": [
      "Archiver-Version: Plexus Archiver\n",
      "Artifact-Id: systemml\n",
      "Build-Jdk: 1.8.0_181\n",
      "Build-Time: 2019-03-19 23:17:12 UTC\n",
      "Built-By: npansar\n",
      "Created-By: Apache Maven 3.5.4\n",
      "Group-Id: org.apache.systemml\n",
      "Main-Class: org.apache.sysml.api.DMLScript\n",
      "Manifest-Version: 1.0\n",
      "Minimum-Recommended-Spark-Version: 2.3.0\n",
      "Version: 1.3.0-SNAPSHOT\n",
      "\n"
     ]
    }
   ],
   "source": [
    "# And print the information of SystemML version\n",
    "print(ml.info())"
   ]
  },
  {
   "cell_type": "code",
   "execution_count": 6,
   "metadata": {},
   "outputs": [],
   "source": [
    "# The code was removed by Watson Studio for sharing."
   ]
  },
  {
   "cell_type": "code",
   "execution_count": 7,
   "metadata": {},
   "outputs": [
    {
     "data": {
      "text/html": [
       "<div>\n",
       "<style scoped>\n",
       "    .dataframe tbody tr th:only-of-type {\n",
       "        vertical-align: middle;\n",
       "    }\n",
       "\n",
       "    .dataframe tbody tr th {\n",
       "        vertical-align: top;\n",
       "    }\n",
       "\n",
       "    .dataframe thead th {\n",
       "        text-align: right;\n",
       "    }\n",
       "</style>\n",
       "<table border=\"1\" class=\"dataframe\">\n",
       "  <thead>\n",
       "    <tr style=\"text-align: right;\">\n",
       "      <th></th>\n",
       "      <th>Unnamed: 0</th>\n",
       "      <th>area</th>\n",
       "      <th>peri</th>\n",
       "      <th>shape</th>\n",
       "      <th>perm</th>\n",
       "    </tr>\n",
       "  </thead>\n",
       "  <tbody>\n",
       "    <tr>\n",
       "      <td>0</td>\n",
       "      <td>1</td>\n",
       "      <td>4990</td>\n",
       "      <td>2791.90</td>\n",
       "      <td>0.090330</td>\n",
       "      <td>6.3</td>\n",
       "    </tr>\n",
       "    <tr>\n",
       "      <td>1</td>\n",
       "      <td>2</td>\n",
       "      <td>7002</td>\n",
       "      <td>3892.60</td>\n",
       "      <td>0.148622</td>\n",
       "      <td>6.3</td>\n",
       "    </tr>\n",
       "    <tr>\n",
       "      <td>2</td>\n",
       "      <td>3</td>\n",
       "      <td>7558</td>\n",
       "      <td>3930.66</td>\n",
       "      <td>0.183312</td>\n",
       "      <td>6.3</td>\n",
       "    </tr>\n",
       "    <tr>\n",
       "      <td>3</td>\n",
       "      <td>4</td>\n",
       "      <td>7352</td>\n",
       "      <td>3869.32</td>\n",
       "      <td>0.117063</td>\n",
       "      <td>6.3</td>\n",
       "    </tr>\n",
       "    <tr>\n",
       "      <td>4</td>\n",
       "      <td>5</td>\n",
       "      <td>7943</td>\n",
       "      <td>3948.54</td>\n",
       "      <td>0.122417</td>\n",
       "      <td>17.1</td>\n",
       "    </tr>\n",
       "  </tbody>\n",
       "</table>\n",
       "</div>"
      ],
      "text/plain": [
       "   Unnamed: 0  area     peri     shape  perm\n",
       "0           1  4990  2791.90  0.090330   6.3\n",
       "1           2  7002  3892.60  0.148622   6.3\n",
       "2           3  7558  3930.66  0.183312   6.3\n",
       "3           4  7352  3869.32  0.117063   6.3\n",
       "4           5  7943  3948.54  0.122417  17.1"
      ]
     },
     "execution_count": 7,
     "metadata": {},
     "output_type": "execute_result"
    }
   ],
   "source": [
    "df = pd.read_csv(streaming_body_1)\n",
    "df.head()"
   ]
  },
  {
   "cell_type": "code",
   "execution_count": 8,
   "metadata": {},
   "outputs": [
    {
     "data": {
      "text/html": [
       "<div>\n",
       "<style scoped>\n",
       "    .dataframe tbody tr th:only-of-type {\n",
       "        vertical-align: middle;\n",
       "    }\n",
       "\n",
       "    .dataframe tbody tr th {\n",
       "        vertical-align: top;\n",
       "    }\n",
       "\n",
       "    .dataframe thead th {\n",
       "        text-align: right;\n",
       "    }\n",
       "</style>\n",
       "<table border=\"1\" class=\"dataframe\">\n",
       "  <thead>\n",
       "    <tr style=\"text-align: right;\">\n",
       "      <th></th>\n",
       "      <th>area</th>\n",
       "      <th>peri</th>\n",
       "      <th>shape</th>\n",
       "      <th>perm</th>\n",
       "    </tr>\n",
       "  </thead>\n",
       "  <tbody>\n",
       "    <tr>\n",
       "      <td>0</td>\n",
       "      <td>4990</td>\n",
       "      <td>2791.90</td>\n",
       "      <td>0.090330</td>\n",
       "      <td>6.3</td>\n",
       "    </tr>\n",
       "    <tr>\n",
       "      <td>1</td>\n",
       "      <td>7002</td>\n",
       "      <td>3892.60</td>\n",
       "      <td>0.148622</td>\n",
       "      <td>6.3</td>\n",
       "    </tr>\n",
       "    <tr>\n",
       "      <td>2</td>\n",
       "      <td>7558</td>\n",
       "      <td>3930.66</td>\n",
       "      <td>0.183312</td>\n",
       "      <td>6.3</td>\n",
       "    </tr>\n",
       "    <tr>\n",
       "      <td>3</td>\n",
       "      <td>7352</td>\n",
       "      <td>3869.32</td>\n",
       "      <td>0.117063</td>\n",
       "      <td>6.3</td>\n",
       "    </tr>\n",
       "    <tr>\n",
       "      <td>4</td>\n",
       "      <td>7943</td>\n",
       "      <td>3948.54</td>\n",
       "      <td>0.122417</td>\n",
       "      <td>17.1</td>\n",
       "    </tr>\n",
       "  </tbody>\n",
       "</table>\n",
       "</div>"
      ],
      "text/plain": [
       "   area     peri     shape  perm\n",
       "0  4990  2791.90  0.090330   6.3\n",
       "1  7002  3892.60  0.148622   6.3\n",
       "2  7558  3930.66  0.183312   6.3\n",
       "3  7352  3869.32  0.117063   6.3\n",
       "4  7943  3948.54  0.122417  17.1"
      ]
     },
     "execution_count": 8,
     "metadata": {},
     "output_type": "execute_result"
    }
   ],
   "source": [
    "df = pd.DataFrame(df, columns=['area','peri','shape','perm'])\n",
    "df.head()"
   ]
  },
  {
   "cell_type": "code",
   "execution_count": 9,
   "metadata": {},
   "outputs": [
    {
     "data": {
      "text/html": [
       "<div>\n",
       "<style scoped>\n",
       "    .dataframe tbody tr th:only-of-type {\n",
       "        vertical-align: middle;\n",
       "    }\n",
       "\n",
       "    .dataframe tbody tr th {\n",
       "        vertical-align: top;\n",
       "    }\n",
       "\n",
       "    .dataframe thead th {\n",
       "        text-align: right;\n",
       "    }\n",
       "</style>\n",
       "<table border=\"1\" class=\"dataframe\">\n",
       "  <thead>\n",
       "    <tr style=\"text-align: right;\">\n",
       "      <th></th>\n",
       "      <th>perm</th>\n",
       "    </tr>\n",
       "  </thead>\n",
       "  <tbody>\n",
       "    <tr>\n",
       "      <td>0</td>\n",
       "      <td>6.3</td>\n",
       "    </tr>\n",
       "    <tr>\n",
       "      <td>1</td>\n",
       "      <td>6.3</td>\n",
       "    </tr>\n",
       "    <tr>\n",
       "      <td>2</td>\n",
       "      <td>6.3</td>\n",
       "    </tr>\n",
       "    <tr>\n",
       "      <td>3</td>\n",
       "      <td>6.3</td>\n",
       "    </tr>\n",
       "    <tr>\n",
       "      <td>4</td>\n",
       "      <td>17.1</td>\n",
       "    </tr>\n",
       "  </tbody>\n",
       "</table>\n",
       "</div>"
      ],
      "text/plain": [
       "   perm\n",
       "0   6.3\n",
       "1   6.3\n",
       "2   6.3\n",
       "3   6.3\n",
       "4  17.1"
      ]
     },
     "execution_count": 9,
     "metadata": {},
     "output_type": "execute_result"
    }
   ],
   "source": [
    "df_y = df.drop(['area','peri','shape'], axis=1)\n",
    "df_y.head()"
   ]
  },
  {
   "cell_type": "code",
   "execution_count": 10,
   "metadata": {},
   "outputs": [
    {
     "data": {
      "text/plain": [
       "array([[ 6.3],\n",
       "       [ 6.3],\n",
       "       [ 6.3],\n",
       "       [ 6.3],\n",
       "       [17.1]])"
      ]
     },
     "execution_count": 10,
     "metadata": {},
     "output_type": "execute_result"
    }
   ],
   "source": [
    "import numpy as np\n",
    "\n",
    "y = np.array(df_y)\n",
    "y[0:5]"
   ]
  },
  {
   "cell_type": "code",
   "execution_count": 11,
   "metadata": {},
   "outputs": [
    {
     "data": {
      "text/html": [
       "<div>\n",
       "<style scoped>\n",
       "    .dataframe tbody tr th:only-of-type {\n",
       "        vertical-align: middle;\n",
       "    }\n",
       "\n",
       "    .dataframe tbody tr th {\n",
       "        vertical-align: top;\n",
       "    }\n",
       "\n",
       "    .dataframe thead th {\n",
       "        text-align: right;\n",
       "    }\n",
       "</style>\n",
       "<table border=\"1\" class=\"dataframe\">\n",
       "  <thead>\n",
       "    <tr style=\"text-align: right;\">\n",
       "      <th></th>\n",
       "      <th>area</th>\n",
       "      <th>peri</th>\n",
       "      <th>shape</th>\n",
       "    </tr>\n",
       "  </thead>\n",
       "  <tbody>\n",
       "    <tr>\n",
       "      <td>0</td>\n",
       "      <td>4990</td>\n",
       "      <td>2791.90</td>\n",
       "      <td>0.090330</td>\n",
       "    </tr>\n",
       "    <tr>\n",
       "      <td>1</td>\n",
       "      <td>7002</td>\n",
       "      <td>3892.60</td>\n",
       "      <td>0.148622</td>\n",
       "    </tr>\n",
       "    <tr>\n",
       "      <td>2</td>\n",
       "      <td>7558</td>\n",
       "      <td>3930.66</td>\n",
       "      <td>0.183312</td>\n",
       "    </tr>\n",
       "    <tr>\n",
       "      <td>3</td>\n",
       "      <td>7352</td>\n",
       "      <td>3869.32</td>\n",
       "      <td>0.117063</td>\n",
       "    </tr>\n",
       "    <tr>\n",
       "      <td>4</td>\n",
       "      <td>7943</td>\n",
       "      <td>3948.54</td>\n",
       "      <td>0.122417</td>\n",
       "    </tr>\n",
       "  </tbody>\n",
       "</table>\n",
       "</div>"
      ],
      "text/plain": [
       "   area     peri     shape\n",
       "0  4990  2791.90  0.090330\n",
       "1  7002  3892.60  0.148622\n",
       "2  7558  3930.66  0.183312\n",
       "3  7352  3869.32  0.117063\n",
       "4  7943  3948.54  0.122417"
      ]
     },
     "execution_count": 11,
     "metadata": {},
     "output_type": "execute_result"
    }
   ],
   "source": [
    "df_X = df.drop(['perm'], axis=1)\n",
    "df_X.head()"
   ]
  },
  {
   "cell_type": "code",
   "execution_count": 12,
   "metadata": {},
   "outputs": [
    {
     "data": {
      "text/plain": [
       "array([[4.99000e+03, 2.79190e+03, 9.03296e-02],\n",
       "       [7.00200e+03, 3.89260e+03, 1.48622e-01],\n",
       "       [7.55800e+03, 3.93066e+03, 1.83312e-01],\n",
       "       [7.35200e+03, 3.86932e+03, 1.17063e-01],\n",
       "       [7.94300e+03, 3.94854e+03, 1.22417e-01]])"
      ]
     },
     "execution_count": 12,
     "metadata": {},
     "output_type": "execute_result"
    }
   ],
   "source": [
    "X = np.array(df_X)\n",
    "X[0:5]"
   ]
  },
  {
   "cell_type": "markdown",
   "metadata": {},
   "source": [
    "SystemML should accept data as numpy array and also as pandas dataframe. I will feed it as array!"
   ]
  },
  {
   "cell_type": "code",
   "execution_count": 13,
   "metadata": {},
   "outputs": [
    {
     "name": "stdout",
     "output_type": "stream",
     "text": [
      "[[4.89500e+03 1.23966e+03 3.41273e-01]\n",
      " [7.94300e+03 3.94854e+03 1.22417e-01]\n",
      " [7.41600e+03 1.91624e+03 1.91802e-01]\n",
      " [6.77500e+03 1.72814e+03 3.11646e-01]\n",
      " [5.98000e+03 1.42676e+03 1.97653e-01]]\n",
      "[[890. ]\n",
      " [ 17.1]\n",
      " [740. ]\n",
      " [890. ]\n",
      " [950. ]]\n"
     ]
    }
   ],
   "source": [
    "from sklearn.utils import shuffle\n",
    "\n",
    "seed = 0\n",
    "np.random.seed(seed)\n",
    "\n",
    "X = shuffle(X, random_state=seed)\n",
    "y = shuffle(y, random_state=seed)\n",
    "print(X[0:5])\n",
    "print(y[0:5])"
   ]
  },
  {
   "cell_type": "markdown",
   "metadata": {},
   "source": [
    "At this point you would split the model into train and test set with sklearn. But the data set is too small for this."
   ]
  },
  {
   "cell_type": "code",
   "execution_count": 14,
   "metadata": {},
   "outputs": [],
   "source": [
    "#from systemml.mllearn import LogisticRegression\n",
    "from systemml.mllearn import LinearRegression\n",
    "from pyspark.sql import SparkSession\n",
    "\n",
    "sparkSession = SparkSession.builder.getOrCreate()\n",
    "logistic = LinearRegression(sparkSession)"
   ]
  },
  {
   "cell_type": "code",
   "execution_count": 15,
   "metadata": {},
   "outputs": [
    {
     "name": "stdout",
     "output_type": "stream",
     "text": [
      "BEGIN LINEAR REGRESSION SCRIPT\n",
      "Reading X and Y...\n",
      "Running the CG algorithm...\n",
      "||r|| initial value = 1.2550571663279374E8,  target value = 125.50571663279375\n",
      "Iteration 1:  ||r|| / ||r init|| = 0.11135166118709607\n",
      "Iteration 2:  ||r|| / ||r init|| = 3.200522777969612E-5\n",
      "Iteration 3:  ||r|| / ||r init|| = 1.8851794008794281E-6\n",
      "Iteration 4:  ||r|| / ||r init|| = 1.7816699070061662E-6\n",
      "Iteration 5:  ||r|| / ||r init|| = 0.007085696187536821\n",
      "Iteration 6:  ||r|| / ||r init|| = 8.747532691590887E-11\n",
      "The CG algorithm is done.\n",
      "Computing the statistics...\n",
      "AVG_TOT_Y,415.45\n",
      "STDEV_TOT_Y,437.8182261497757\n",
      "AVG_RES_Y,-2.6060448613899705E-8\n",
      "STDEV_RES_Y,246.01471748689235\n",
      "DISPERSION,60523.241220155454\n",
      "R2,0.7044102825997469\n",
      "ADJUSTED_R2,0.6842564382315479\n",
      "R2_NOBIAS,0.7044102825997469\n",
      "ADJUSTED_R2_NOBIAS,0.6842564382315479\n",
      "Writing the output matrix...\n",
      "END LINEAR REGRESSION SCRIPT\n",
      "SystemML Statistics:\n",
      "Total execution time:\t\t0.061 sec.\n",
      "Number of executed Spark inst:\t2.\n",
      "\n",
      "\n"
     ]
    }
   ],
   "source": [
    "model = logistic.fit(X, y)"
   ]
  },
  {
   "cell_type": "code",
   "execution_count": 16,
   "metadata": {},
   "outputs": [
    {
     "name": "stdout",
     "output_type": "stream",
     "text": [
      "SystemML Statistics:\n",
      "Total execution time:\t\t0.003 sec.\n",
      "Number of executed Spark inst:\t1.\n",
      "\n",
      "\n",
      "LogisticRegression score: 0.7044102825997469\n"
     ]
    }
   ],
   "source": [
    "print('LogisticRegression score: {}'.format(model.score(X, y)))"
   ]
  },
  {
   "cell_type": "code",
   "execution_count": 17,
   "metadata": {},
   "outputs": [
    {
     "name": "stdout",
     "output_type": "stream",
     "text": [
      "SystemML Statistics:\n",
      "Total execution time:\t\t0.002 sec.\n",
      "Number of executed Spark inst:\t1.\n",
      "\n",
      "\n"
     ]
    }
   ],
   "source": [
    "y_hat = model.predict(X)"
   ]
  },
  {
   "cell_type": "code",
   "execution_count": 18,
   "metadata": {},
   "outputs": [
    {
     "name": "stdout",
     "output_type": "stream",
     "text": [
      "[[ 890.          813.0513966 ]\n",
      " [  17.1         -37.25128228]\n",
      " [ 740.          676.15893185]\n",
      " [ 890.          790.07305719]\n",
      " [ 950.          718.65722751]\n",
      " [ 100.          850.26196315]\n",
      " [ 950.          834.69195848]\n",
      " [1300.          918.22800598]\n",
      " [  17.1        -111.76230345]\n",
      " [ 119.          -64.67073582]]\n"
     ]
    }
   ],
   "source": [
    "predictions = np.column_stack((y, y_hat));\n",
    "print(predictions[:10])"
   ]
  },
  {
   "cell_type": "code",
   "execution_count": null,
   "metadata": {},
   "outputs": [],
   "source": []
  }
 ],
 "metadata": {
  "kernelspec": {
   "display_name": "Python 3",
   "language": "python",
   "name": "python3"
  },
  "language_info": {
   "codemirror_mode": {
    "name": "ipython",
    "version": 3
   },
   "file_extension": ".py",
   "mimetype": "text/x-python",
   "name": "python",
   "nbconvert_exporter": "python",
   "pygments_lexer": "ipython3",
   "version": "3.7.7"
  }
 },
 "nbformat": 4,
 "nbformat_minor": 4
}
