{
 "cells": [
  {
   "cell_type": "markdown",
   "metadata": {},
   "source": [
    "# Keras LSTM Deep Learning model for Brent Crude Oil price prediction\n",
    "\n",
    "The LSTM model performance with Mean Absolute Error (MAE) will be compared with Mean Square Error (MSE).\n",
    "\n",
    "Data Source: U.S. Energy Information Administration, Crude Oil Prices: Brent - Europe [DCOILBRENTEU], retrieved from FRED, Federal Reserve Bank of St. Louis; https://fred.stlouisfed.org/series/DCOILBRENTEU, August 15, 2019.\n",
    "\n",
    "\n",
    "Importing data is the first step in any data science project. If you want to re-do this with newer price data, download the latest CSV to your notebook's working directory and read the file.\n",
    "On the Fred website, click on \"Max\" duration and then \"Download\" as CSV (data). "
   ]
  },
  {
   "cell_type": "code",
   "execution_count": 1,
   "metadata": {},
   "outputs": [
    {
     "name": "stdout",
     "output_type": "stream",
     "text": [
      "C:\\Users\\ChristianV700\\Desktop\n"
     ]
    }
   ],
   "source": [
    "# Find out what your notebook's working directory is and download to this directory (note: this is the MS Windows command and may differ on your system).\n",
    "!echo %cd%"
   ]
  },
  {
   "cell_type": "markdown",
   "metadata": {},
   "source": [
    "## Data loading"
   ]
  },
  {
   "cell_type": "code",
   "execution_count": 2,
   "metadata": {},
   "outputs": [
    {
     "data": {
      "text/html": [
       "<div>\n",
       "<style scoped>\n",
       "    .dataframe tbody tr th:only-of-type {\n",
       "        vertical-align: middle;\n",
       "    }\n",
       "\n",
       "    .dataframe tbody tr th {\n",
       "        vertical-align: top;\n",
       "    }\n",
       "\n",
       "    .dataframe thead th {\n",
       "        text-align: right;\n",
       "    }\n",
       "</style>\n",
       "<table border=\"1\" class=\"dataframe\">\n",
       "  <thead>\n",
       "    <tr style=\"text-align: right;\">\n",
       "      <th></th>\n",
       "      <th>DATE</th>\n",
       "      <th>DCOILBRENTEU</th>\n",
       "    </tr>\n",
       "  </thead>\n",
       "  <tbody>\n",
       "    <tr>\n",
       "      <th>0</th>\n",
       "      <td>1987-05-20</td>\n",
       "      <td>18.63</td>\n",
       "    </tr>\n",
       "    <tr>\n",
       "      <th>1</th>\n",
       "      <td>1987-05-21</td>\n",
       "      <td>18.45</td>\n",
       "    </tr>\n",
       "    <tr>\n",
       "      <th>2</th>\n",
       "      <td>1987-05-22</td>\n",
       "      <td>18.55</td>\n",
       "    </tr>\n",
       "    <tr>\n",
       "      <th>3</th>\n",
       "      <td>1987-05-25</td>\n",
       "      <td>18.60</td>\n",
       "    </tr>\n",
       "    <tr>\n",
       "      <th>4</th>\n",
       "      <td>1987-05-26</td>\n",
       "      <td>18.63</td>\n",
       "    </tr>\n",
       "  </tbody>\n",
       "</table>\n",
       "</div>"
      ],
      "text/plain": [
       "         DATE DCOILBRENTEU\n",
       "0  1987-05-20        18.63\n",
       "1  1987-05-21        18.45\n",
       "2  1987-05-22        18.55\n",
       "3  1987-05-25        18.60\n",
       "4  1987-05-26        18.63"
      ]
     },
     "execution_count": 2,
     "metadata": {},
     "output_type": "execute_result"
    }
   ],
   "source": [
    "import pandas as pd\n",
    "\n",
    "# Load csv into pandas data frame\n",
    "df_data_1 = pd.read_csv('DCOILBRENTEU.csv')\n",
    "\n",
    "# Show top of data frame\n",
    "df_data_1.head()"
   ]
  },
  {
   "cell_type": "code",
   "execution_count": 3,
   "metadata": {},
   "outputs": [
    {
     "data": {
      "text/html": [
       "<div>\n",
       "<style scoped>\n",
       "    .dataframe tbody tr th:only-of-type {\n",
       "        vertical-align: middle;\n",
       "    }\n",
       "\n",
       "    .dataframe tbody tr th {\n",
       "        vertical-align: top;\n",
       "    }\n",
       "\n",
       "    .dataframe thead th {\n",
       "        text-align: right;\n",
       "    }\n",
       "</style>\n",
       "<table border=\"1\" class=\"dataframe\">\n",
       "  <thead>\n",
       "    <tr style=\"text-align: right;\">\n",
       "      <th></th>\n",
       "      <th>DATE</th>\n",
       "      <th>DCOILBRENTEU</th>\n",
       "    </tr>\n",
       "  </thead>\n",
       "  <tbody>\n",
       "    <tr>\n",
       "      <th>8404</th>\n",
       "      <td>2019-08-06</td>\n",
       "      <td>58.63</td>\n",
       "    </tr>\n",
       "    <tr>\n",
       "      <th>8405</th>\n",
       "      <td>2019-08-07</td>\n",
       "      <td>55.03</td>\n",
       "    </tr>\n",
       "    <tr>\n",
       "      <th>8406</th>\n",
       "      <td>2019-08-08</td>\n",
       "      <td>56.29</td>\n",
       "    </tr>\n",
       "    <tr>\n",
       "      <th>8407</th>\n",
       "      <td>2019-08-09</td>\n",
       "      <td>57.37</td>\n",
       "    </tr>\n",
       "    <tr>\n",
       "      <th>8408</th>\n",
       "      <td>2019-08-12</td>\n",
       "      <td>57.13</td>\n",
       "    </tr>\n",
       "  </tbody>\n",
       "</table>\n",
       "</div>"
      ],
      "text/plain": [
       "            DATE DCOILBRENTEU\n",
       "8404  2019-08-06        58.63\n",
       "8405  2019-08-07        55.03\n",
       "8406  2019-08-08        56.29\n",
       "8407  2019-08-09        57.37\n",
       "8408  2019-08-12        57.13"
      ]
     },
     "execution_count": 3,
     "metadata": {},
     "output_type": "execute_result"
    }
   ],
   "source": [
    "# Show tail of data frame\n",
    "df_data_1.tail()"
   ]
  },
  {
   "cell_type": "markdown",
   "metadata": {},
   "source": [
    "As we see above, the data frame contains a column with dates and one column with crude prices. Oldest up top, youngest at the bottom. There is a lag time of roughly a week until prices get added to the csv.\n",
    "\n",
    "## Data cleaning\n",
    "\n",
    "Unfortunately there are some missing values in the price column, which are marked with a period. The periods need to be removed."
   ]
  },
  {
   "cell_type": "code",
   "execution_count": 4,
   "metadata": {},
   "outputs": [
    {
     "name": "stdout",
     "output_type": "stream",
     "text": [
      "Number of days in data frame with missing value:  228\n",
      "Original data fram shape:  (8409, 2)\n",
      "Cleaned up data frame shape:  (8181, 2)\n"
     ]
    }
   ],
   "source": [
    "booleancounter=df_data_1.apply(lambda x: True if x['DCOILBRENTEU'] == '.' else False , axis=1)\n",
    "missvalue=len(booleancounter[booleancounter == True].index)\n",
    " \n",
    "print('Number of days in data frame with missing value: ', missvalue)\n",
    "print('Original data fram shape: ', df_data_1.shape)\n",
    "\n",
    "# remove periods, which are missing values\n",
    "df_data_1 = df_data_1[df_data_1.DCOILBRENTEU != \".\"]\n",
    "print('Cleaned up data frame shape: ',df_data_1.shape)"
   ]
  },
  {
   "cell_type": "markdown",
   "metadata": {},
   "source": [
    "## Data Visualization\n",
    "\n",
    "Currently, the values in the columns are stored as integer. For plotting, the price values need to be represented as floats."
   ]
  },
  {
   "cell_type": "code",
   "execution_count": 5,
   "metadata": {},
   "outputs": [
    {
     "name": "stdout",
     "output_type": "stream",
     "text": [
      "Old DCOILBRENTEU class:  object\n",
      "New DCOILBRENTEU class:  float64\n"
     ]
    }
   ],
   "source": [
    "# Pandas calls string types \"object\"\n",
    "print(\"Old DCOILBRENTEU class: \",df_data_1.dtypes['DCOILBRENTEU'])\n",
    "\n",
    "# Convert prices to numpy float array\n",
    "df_data_1_plot = df_data_1.iloc[:,1:2].values.astype(float)\n",
    "\n",
    "print(\"New DCOILBRENTEU class: \",df_data_1_plot.dtype)"
   ]
  },
  {
   "cell_type": "code",
   "execution_count": 6,
   "metadata": {},
   "outputs": [
    {
     "data": {
      "text/plain": [
       "<Figure size 640x480 with 1 Axes>"
      ]
     },
     "metadata": {},
     "output_type": "display_data"
    }
   ],
   "source": [
    "import matplotlib.pyplot as plt\n",
    "\n",
    "# Visualising the Data\n",
    "plt.plot(df_data_1_plot, color = 'red', label = 'Crude Oil Prices')\n",
    "plt.title('Crude Oil Prices Historical Data')\n",
    "plt.xlabel('Time (Days)')\n",
    "plt.ylabel('Crude Oil Prices (U.S. $)')\n",
    "plt.legend()\n",
    "plt.show()"
   ]
  },
  {
   "cell_type": "markdown",
   "metadata": {},
   "source": [
    "## Importing modeling libraries"
   ]
  },
  {
   "cell_type": "code",
   "execution_count": 7,
   "metadata": {},
   "outputs": [
    {
     "name": "stderr",
     "output_type": "stream",
     "text": [
      "Using TensorFlow backend.\n"
     ]
    }
   ],
   "source": [
    "import numpy as np\n",
    "import pandas as pd\n",
    "from keras.preprocessing import sequence\n",
    "from keras.models import load_model"
   ]
  },
  {
   "cell_type": "code",
   "execution_count": 8,
   "metadata": {},
   "outputs": [],
   "source": [
    "# Defining the batch size and number of epochs\n",
    "batch_size = 64\n",
    "epochs = 120\n",
    "timesteps = 30"
   ]
  },
  {
   "cell_type": "markdown",
   "metadata": {},
   "source": [
    "### Batch-size and training-set size\n",
    "\n",
    "\n",
    "We split the data in 90% training and 10% test. With **stateful LSTMs** the training-set the size must be divisible without remainder by the batch-size (modulo = 0). "
   ]
  },
  {
   "cell_type": "code",
   "execution_count": 9,
   "metadata": {},
   "outputs": [
    {
     "name": "stdout",
     "output_type": "stream",
     "text": [
      "Total length:  8181\n",
      "Training length:  7362.900000000001\n"
     ]
    }
   ],
   "source": [
    "length = len(df_data_1)\n",
    "print(\"Total length: \",length)\n",
    "\n",
    "training_length = length *0.9\n",
    "print(\"Training length: \",training_length)"
   ]
  },
  {
   "cell_type": "markdown",
   "metadata": {},
   "source": [
    "Check if the training set length comes with a remainder when divided through batch size."
   ]
  },
  {
   "cell_type": "code",
   "execution_count": 10,
   "metadata": {},
   "outputs": [
    {
     "data": {
      "text/plain": [
       "2.9000000000005457"
      ]
     },
     "execution_count": 10,
     "metadata": {},
     "output_type": "execute_result"
    }
   ],
   "source": [
    "training_remainder = training_length%batch_size\n",
    "training_remainder"
   ]
  },
  {
   "cell_type": "markdown",
   "metadata": {},
   "source": [
    "There is a remainder! Let's remove the remainder from the training length to get rid of the remainder."
   ]
  },
  {
   "cell_type": "code",
   "execution_count": 11,
   "metadata": {},
   "outputs": [
    {
     "name": "stdout",
     "output_type": "stream",
     "text": [
      "7360.0\n"
     ]
    },
    {
     "data": {
      "text/plain": [
       "0.0"
      ]
     },
     "execution_count": 11,
     "metadata": {},
     "output_type": "execute_result"
    }
   ],
   "source": [
    "training_length_new = training_length - training_remainder\n",
    "print(training_length_new)\n",
    "training_length_new%batch_size"
   ]
  },
  {
   "cell_type": "markdown",
   "metadata": {},
   "source": [
    "We can formalize the finding of the training set length and define a function."
   ]
  },
  {
   "cell_type": "code",
   "execution_count": 12,
   "metadata": {},
   "outputs": [],
   "source": [
    "def get_train_length(dataset, batch_size, test_percent):\n",
    "    # substract test_percent to be excluded from training, reserved for testset\n",
    "    length = len(dataset)\n",
    "    length *= 1 - test_percent\n",
    "    train_length_values = []\n",
    "    for x in range(int(length) - 100,int(length)): \n",
    "        modulo=x%batch_size\n",
    "        if (modulo == 0):\n",
    "            train_length_values.append(x)\n",
    "            print(x)\n",
    "    return (max(train_length_values))"
   ]
  },
  {
   "cell_type": "code",
   "execution_count": 13,
   "metadata": {},
   "outputs": [
    {
     "name": "stdout",
     "output_type": "stream",
     "text": [
      "7296\n",
      "7360\n",
      "7360\n"
     ]
    }
   ],
   "source": [
    "length = get_train_length(df_data_1, batch_size, 0.1)\n",
    "print(length)"
   ]
  },
  {
   "cell_type": "code",
   "execution_count": 14,
   "metadata": {},
   "outputs": [
    {
     "data": {
      "text/plain": [
       "(7420, 1)"
      ]
     },
     "execution_count": 14,
     "metadata": {},
     "output_type": "execute_result"
    }
   ],
   "source": [
    "# Adding timesteps * 2\n",
    "upper_train = length + timesteps*2\n",
    "df_data_1_train = df_data_1[0:upper_train]\n",
    "training_set = df_data_1_train.iloc[:,1:2].values\n",
    "training_set.shape"
   ]
  },
  {
   "cell_type": "markdown",
   "metadata": {},
   "source": [
    "## Feature Scaling 0 to 1"
   ]
  },
  {
   "cell_type": "code",
   "execution_count": 15,
   "metadata": {},
   "outputs": [
    {
     "name": "stdout",
     "output_type": "stream",
     "text": [
      "(7420, 1)\n",
      "Show some scaled values:  [0.07067112 0.0693363  0.07007786 0.07044865 0.07067112 0.07044865]\n"
     ]
    }
   ],
   "source": [
    "from sklearn.preprocessing import MinMaxScaler\n",
    "\n",
    "# Feature Scaling\n",
    "sc = MinMaxScaler(feature_range = (0, 1))\n",
    "training_set_scaled = sc.fit_transform(np.float64(training_set))\n",
    "\n",
    "print(training_set_scaled.shape)\n",
    "print(\"Show some scaled values: \",training_set_scaled[0:6,0])"
   ]
  },
  {
   "cell_type": "markdown",
   "metadata": {},
   "source": [
    "## Create x features and y labels"
   ]
  },
  {
   "cell_type": "code",
   "execution_count": 16,
   "metadata": {},
   "outputs": [
    {
     "name": "stdout",
     "output_type": "stream",
     "text": [
      "length + timesteps:  7390\n",
      "x_train length:  7360\n",
      "ny_train length:  7360\n",
      "\n",
      "x_train:  [array([0.07067112, 0.0693363 , 0.07007786, 0.07044865, 0.07067112,\n",
      "       0.07044865, 0.07044865, 0.07030033, 0.07081943, 0.0710419 ,\n",
      "       0.07156099, 0.07178346, 0.07081943, 0.07156099, 0.07178346,\n",
      "       0.07178346, 0.0710419 , 0.07178346, 0.07267334, 0.07363737,\n",
      "       0.07378569, 0.07378569, 0.07415647, 0.07267334, 0.07156099,\n",
      "       0.07119021, 0.07400816, 0.07452725, 0.07400816, 0.07326659]), array([0.0693363 , 0.07007786, 0.07044865, 0.07067112, 0.07044865,\n",
      "       0.07044865, 0.07030033, 0.07081943, 0.0710419 , 0.07156099,\n",
      "       0.07178346, 0.07081943, 0.07156099, 0.07178346, 0.07178346,\n",
      "       0.0710419 , 0.07178346, 0.07267334, 0.07363737, 0.07378569,\n",
      "       0.07378569, 0.07415647, 0.07267334, 0.07156099, 0.07119021,\n",
      "       0.07400816, 0.07452725, 0.07400816, 0.07326659, 0.07526882])]\n",
      "x_train shape: (7360, 30)\n",
      "\n",
      "y_train:  [array([0.07526882, 0.07586207, 0.07697442, 0.07712273, 0.07697442,\n",
      "       0.07845755, 0.07882833, 0.07956989, 0.07994067, 0.08290693,\n",
      "       0.08379681, 0.08550241, 0.08490916, 0.08342603, 0.08327772,\n",
      "       0.0819429 , 0.07771598, 0.0756396 , 0.07919911, 0.08068224,\n",
      "       0.08231368, 0.08105302, 0.08787542, 0.08565072, 0.07934742,\n",
      "       0.07897664, 0.07823508, 0.07660363, 0.07675195, 0.07712273]), array([0.07586207, 0.07697442, 0.07712273, 0.07697442, 0.07845755,\n",
      "       0.07882833, 0.07956989, 0.07994067, 0.08290693, 0.08379681,\n",
      "       0.08550241, 0.08490916, 0.08342603, 0.08327772, 0.0819429 ,\n",
      "       0.07771598, 0.0756396 , 0.07919911, 0.08068224, 0.08231368,\n",
      "       0.08105302, 0.08787542, 0.08565072, 0.07934742, 0.07897664,\n",
      "       0.07823508, 0.07660363, 0.07675195, 0.07712273, 0.07638116])]\n",
      "y_train shape:  (7360, 30)\n"
     ]
    }
   ],
   "source": [
    "# Initialize as arrays\n",
    "X_train = []\n",
    "y_train = []\n",
    "\n",
    "# Creating a data structure with n timesteps\n",
    "print(\"length + timesteps: \",length + timesteps)\n",
    "for i in range(timesteps, length + timesteps): \n",
    "    X_train.append(training_set_scaled[i-timesteps:i,0])\n",
    "    y_train.append(training_set_scaled[i:i+timesteps,0])\n",
    "\n",
    "# these need to be the same length\n",
    "print(\"x_train length: \",len(X_train))\n",
    "print(\"ny_train length: \",len(y_train))\n",
    "\n",
    "# create X_train matrix, 30 items per array (timestep)\n",
    "print(\"\\nx_train: \",X_train[0:2])\n",
    "print(\"x_train shape:\",np.array(X_train).shape)\n",
    "\n",
    "# create Y_train matrix, 30 items per array (timestep)\n",
    "print(\"\\ny_train: \",y_train[0:2])\n",
    "print(\"y_train shape: \",np.array(y_train).shape)"
   ]
  },
  {
   "cell_type": "markdown",
   "metadata": {},
   "source": [
    "## Reshaping into three dimensional array"
   ]
  },
  {
   "cell_type": "code",
   "execution_count": 17,
   "metadata": {},
   "outputs": [
    {
     "name": "stdout",
     "output_type": "stream",
     "text": [
      "(7360, 30, 1)\n",
      "(7360, 30, 1)\n"
     ]
    }
   ],
   "source": [
    "X_train, y_train = np.array(X_train), np.array(y_train)\n",
    "X_train = np.reshape(X_train, (X_train.shape[0], X_train.shape[1], 1))\n",
    "y_train = np.reshape(y_train, (y_train.shape[0], y_train.shape[1], 1))\n",
    "\n",
    "print(X_train.shape)\n",
    "print(y_train.shape)"
   ]
  },
  {
   "cell_type": "markdown",
   "metadata": {},
   "source": [
    "## Model design with Mean Absolute Error (MAE)"
   ]
  },
  {
   "cell_type": "code",
   "execution_count": 18,
   "metadata": {},
   "outputs": [
    {
     "name": "stderr",
     "output_type": "stream",
     "text": [
      "WARNING: Logging before flag parsing goes to stderr.\n",
      "W0815 23:42:13.546904 13336 deprecation_wrapper.py:119] From C:\\Users\\ChristianV700\\Anaconda3\\envs\\keras-gpu\\lib\\site-packages\\keras\\backend\\tensorflow_backend.py:74: The name tf.get_default_graph is deprecated. Please use tf.compat.v1.get_default_graph instead.\n",
      "\n",
      "W0815 23:42:13.563859 13336 deprecation_wrapper.py:119] From C:\\Users\\ChristianV700\\Anaconda3\\envs\\keras-gpu\\lib\\site-packages\\keras\\backend\\tensorflow_backend.py:517: The name tf.placeholder is deprecated. Please use tf.compat.v1.placeholder instead.\n",
      "\n",
      "W0815 23:42:13.567849 13336 deprecation_wrapper.py:119] From C:\\Users\\ChristianV700\\Anaconda3\\envs\\keras-gpu\\lib\\site-packages\\keras\\backend\\tensorflow_backend.py:4138: The name tf.random_uniform is deprecated. Please use tf.random.uniform instead.\n",
      "\n",
      "W0815 23:42:14.009665 13336 deprecation_wrapper.py:119] From C:\\Users\\ChristianV700\\Anaconda3\\envs\\keras-gpu\\lib\\site-packages\\keras\\optimizers.py:790: The name tf.train.Optimizer is deprecated. Please use tf.compat.v1.train.Optimizer instead.\n",
      "\n"
     ]
    },
    {
     "name": "stdout",
     "output_type": "stream",
     "text": [
      "_________________________________________________________________\n",
      "Layer (type)                 Output Shape              Param #   \n",
      "=================================================================\n",
      "input_1 (InputLayer)         (64, 30, 1)               0         \n",
      "_________________________________________________________________\n",
      "lstm_1 (LSTM)                (64, 30, 10)              480       \n",
      "_________________________________________________________________\n",
      "lstm_2 (LSTM)                (64, 30, 10)              840       \n",
      "_________________________________________________________________\n",
      "dense_1 (Dense)              (64, 30, 1)               11        \n",
      "=================================================================\n",
      "Total params: 1,331\n",
      "Trainable params: 1,331\n",
      "Non-trainable params: 0\n",
      "_________________________________________________________________\n"
     ]
    }
   ],
   "source": [
    "from keras.layers import Dense\n",
    "from keras.layers import Input, LSTM\n",
    "from keras.models import Model\n",
    "import h5py\n",
    "\n",
    "# Initialising the LSTM Model with the Keras functional API called \"Model\" instead of \"Sequential\"\n",
    "\n",
    "# Layer 1: inputs\n",
    "inputs_1_mae = Input(batch_shape=(batch_size,timesteps,1)) # 1 = one parameter to predict\n",
    "\n",
    "# Layer 2: LSTM 1 (input to current layer is the previous layer)\n",
    "lstm_1_mae = LSTM(10, stateful=True, return_sequences=True)(inputs_1_mae) # 10 = LSTM nodes\n",
    "\n",
    "# Layer 3: LSTM 2 (input to current layer is the previous layer) # 10 = LSTM nodes\n",
    "lstm_2_mae = LSTM(10, stateful=True, return_sequences=True)(lstm_1_mae)\n",
    "\n",
    "# Layer 4: outputs (input to current layer is the previous layer)\n",
    "output_1_mae = Dense(units = 1)(lstm_2_mae)\n",
    "\n",
    "# type of model, defining input and output\n",
    "regressor_mae = Model(inputs=inputs_1_mae, outputs = output_1_mae)\n",
    "\n",
    "# adam is fast starting off and then gets slower and more precise\n",
    "regressor_mae.compile(optimizer='adam', loss = 'mae')\n",
    "regressor_mae.summary()"
   ]
  },
  {
   "cell_type": "code",
   "execution_count": 19,
   "metadata": {},
   "outputs": [
    {
     "name": "stderr",
     "output_type": "stream",
     "text": [
      "W0815 23:42:14.221159 13336 deprecation.py:323] From C:\\Users\\ChristianV700\\Anaconda3\\envs\\keras-gpu\\lib\\site-packages\\tensorflow\\python\\ops\\math_grad.py:1250: add_dispatch_support.<locals>.wrapper (from tensorflow.python.ops.array_ops) is deprecated and will be removed in a future version.\n",
      "Instructions for updating:\n",
      "Use tf.where in 2.0, which has the same broadcast rule as np.where\n"
     ]
    },
    {
     "name": "stdout",
     "output_type": "stream",
     "text": [
      "Epoch: 1  of  120\n"
     ]
    },
    {
     "name": "stderr",
     "output_type": "stream",
     "text": [
      "W0815 23:42:15.111528 13336 deprecation_wrapper.py:119] From C:\\Users\\ChristianV700\\Anaconda3\\envs\\keras-gpu\\lib\\site-packages\\keras\\backend\\tensorflow_backend.py:986: The name tf.assign_add is deprecated. Please use tf.compat.v1.assign_add instead.\n",
      "\n",
      "W0815 23:42:15.251681 13336 deprecation_wrapper.py:119] From C:\\Users\\ChristianV700\\Anaconda3\\envs\\keras-gpu\\lib\\site-packages\\keras\\backend\\tensorflow_backend.py:973: The name tf.assign is deprecated. Please use tf.compat.v1.assign instead.\n",
      "\n"
     ]
    },
    {
     "name": "stdout",
     "output_type": "stream",
     "text": [
      "Epoch 1/1\n",
      "7360/7360 [==============================] - 13s 2ms/step - loss: 0.0526\n",
      "Epoch: 2  of  120\n",
      "Epoch 1/1\n",
      "7360/7360 [==============================] - 10s 1ms/step - loss: 0.0592\n",
      "Epoch: 3  of  120\n",
      "Epoch 1/1\n",
      "7360/7360 [==============================] - 10s 1ms/step - loss: 0.0626\n",
      "Epoch: 4  of  120\n",
      "Epoch 1/1\n",
      "7360/7360 [==============================] - 10s 1ms/step - loss: 0.0595\n",
      "Epoch: 5  of  120\n",
      "Epoch 1/1\n",
      "7360/7360 [==============================] - 10s 1ms/step - loss: 0.0580\n",
      "Epoch: 6  of  120\n",
      "Epoch 1/1\n",
      "7360/7360 [==============================] - 10s 1ms/step - loss: 0.0570\n",
      "Epoch: 7  of  120\n",
      "Epoch 1/1\n",
      "7360/7360 [==============================] - 10s 1ms/step - loss: 0.0561\n",
      "Epoch: 8  of  120\n",
      "Epoch 1/1\n",
      "7360/7360 [==============================] - 10s 1ms/step - loss: 0.0555\n",
      "Epoch: 9  of  120\n",
      "Epoch 1/1\n",
      "7360/7360 [==============================] - 10s 1ms/step - loss: 0.0542\n",
      "Epoch: 10  of  120\n",
      "Epoch 1/1\n",
      "7360/7360 [==============================] - 10s 1ms/step - loss: 0.0531\n",
      "Epoch: 11  of  120\n",
      "Epoch 1/1\n",
      "7360/7360 [==============================] - 10s 1ms/step - loss: 0.0516\n",
      "Epoch: 12  of  120\n",
      "Epoch 1/1\n",
      "7360/7360 [==============================] - 10s 1ms/step - loss: 0.0504\n",
      "Epoch: 13  of  120\n",
      "Epoch 1/1\n",
      "7360/7360 [==============================] - 10s 1ms/step - loss: 0.0494\n",
      "Epoch: 14  of  120\n",
      "Epoch 1/1\n",
      "7360/7360 [==============================] - 10s 1ms/step - loss: 0.0486\n",
      "Epoch: 15  of  120\n",
      "Epoch 1/1\n",
      "7360/7360 [==============================] - 10s 1ms/step - loss: 0.0477\n",
      "Epoch: 16  of  120\n",
      "Epoch 1/1\n",
      "7360/7360 [==============================] - 10s 1ms/step - loss: 0.0471\n",
      "Epoch: 17  of  120\n",
      "Epoch 1/1\n",
      "7360/7360 [==============================] - 10s 1ms/step - loss: 0.0464\n",
      "Epoch: 18  of  120\n",
      "Epoch 1/1\n",
      "7360/7360 [==============================] - 10s 1ms/step - loss: 0.0460\n",
      "Epoch: 19  of  120\n",
      "Epoch 1/1\n",
      "7360/7360 [==============================] - 10s 1ms/step - loss: 0.0453\n",
      "Epoch: 20  of  120\n",
      "Epoch 1/1\n",
      "7360/7360 [==============================] - 10s 1ms/step - loss: 0.0450\n",
      "Epoch: 21  of  120\n",
      "Epoch 1/1\n",
      "7360/7360 [==============================] - 10s 1ms/step - loss: 0.0445\n",
      "Epoch: 22  of  120\n",
      "Epoch 1/1\n",
      "7360/7360 [==============================] - 10s 1ms/step - loss: 0.0444\n",
      "Epoch: 23  of  120\n",
      "Epoch 1/1\n",
      "7360/7360 [==============================] - 10s 1ms/step - loss: 0.0440\n",
      "Epoch: 24  of  120\n",
      "Epoch 1/1\n",
      "7360/7360 [==============================] - 10s 1ms/step - loss: 0.0437\n",
      "Epoch: 25  of  120\n",
      "Epoch 1/1\n",
      "7360/7360 [==============================] - 10s 1ms/step - loss: 0.0435\n",
      "Epoch: 26  of  120\n",
      "Epoch 1/1\n",
      "7360/7360 [==============================] - 10s 1ms/step - loss: 0.0432\n",
      "Epoch: 27  of  120\n",
      "Epoch 1/1\n",
      "7360/7360 [==============================] - 10s 1ms/step - loss: 0.0431\n",
      "Epoch: 28  of  120\n",
      "Epoch 1/1\n",
      "7360/7360 [==============================] - 10s 1ms/step - loss: 0.0428\n",
      "Epoch: 29  of  120\n",
      "Epoch 1/1\n",
      "7360/7360 [==============================] - 10s 1ms/step - loss: 0.0424\n",
      "Epoch: 30  of  120\n",
      "Epoch 1/1\n",
      "7360/7360 [==============================] - 10s 1ms/step - loss: 0.0423\n",
      "Epoch: 31  of  120\n",
      "Epoch 1/1\n",
      "7360/7360 [==============================] - 10s 1ms/step - loss: 0.0420\n",
      "Epoch: 32  of  120\n",
      "Epoch 1/1\n",
      "7360/7360 [==============================] - 10s 1ms/step - loss: 0.0419\n",
      "Epoch: 33  of  120\n",
      "Epoch 1/1\n",
      "7360/7360 [==============================] - 10s 1ms/step - loss: 0.0416\n",
      "Epoch: 34  of  120\n",
      "Epoch 1/1\n",
      "7360/7360 [==============================] - 10s 1ms/step - loss: 0.0415\n",
      "Epoch: 35  of  120\n",
      "Epoch 1/1\n",
      "7360/7360 [==============================] - 10s 1ms/step - loss: 0.0412\n",
      "Epoch: 36  of  120\n",
      "Epoch 1/1\n",
      "7360/7360 [==============================] - 10s 1ms/step - loss: 0.0412\n",
      "Epoch: 37  of  120\n",
      "Epoch 1/1\n",
      "7360/7360 [==============================] - 10s 1ms/step - loss: 0.0410\n",
      "Epoch: 38  of  120\n",
      "Epoch 1/1\n",
      "7360/7360 [==============================] - 10s 1ms/step - loss: 0.0407\n",
      "Epoch: 39  of  120\n",
      "Epoch 1/1\n",
      "7360/7360 [==============================] - 10s 1ms/step - loss: 0.0406\n",
      "Epoch: 40  of  120\n",
      "Epoch 1/1\n",
      "7360/7360 [==============================] - 10s 1ms/step - loss: 0.0404\n",
      "Epoch: 41  of  120\n",
      "Epoch 1/1\n",
      "7360/7360 [==============================] - 10s 1ms/step - loss: 0.0403\n",
      "Epoch: 42  of  120\n",
      "Epoch 1/1\n",
      "7360/7360 [==============================] - 10s 1ms/step - loss: 0.0401\n",
      "Epoch: 43  of  120\n",
      "Epoch 1/1\n",
      "7360/7360 [==============================] - 10s 1ms/step - loss: 0.0401: 1s - \n",
      "Epoch: 44  of  120\n",
      "Epoch 1/1\n",
      "7360/7360 [==============================] - 10s 1ms/step - loss: 0.0399\n",
      "Epoch: 45  of  120\n",
      "Epoch 1/1\n",
      "7360/7360 [==============================] - 10s 1ms/step - loss: 0.0396\n",
      "Epoch: 46  of  120\n",
      "Epoch 1/1\n",
      "7360/7360 [==============================] - 10s 1ms/step - loss: 0.0396\n",
      "Epoch: 47  of  120\n",
      "Epoch 1/1\n",
      "7360/7360 [==============================] - 10s 1ms/step - loss: 0.0394\n",
      "Epoch: 48  of  120\n",
      "Epoch 1/1\n",
      "7360/7360 [==============================] - 10s 1ms/step - loss: 0.0394\n",
      "Epoch: 49  of  120\n",
      "Epoch 1/1\n",
      "7360/7360 [==============================] - 10s 1ms/step - loss: 0.0390\n",
      "Epoch: 50  of  120\n",
      "Epoch 1/1\n",
      "7360/7360 [==============================] - 10s 1ms/step - loss: 0.0392\n",
      "Epoch: 51  of  120\n",
      "Epoch 1/1\n",
      "7360/7360 [==============================] - 10s 1ms/step - loss: 0.0388\n",
      "Epoch: 52  of  120\n",
      "Epoch 1/1\n",
      "7360/7360 [==============================] - 10s 1ms/step - loss: 0.0390\n",
      "Epoch: 53  of  120\n",
      "Epoch 1/1\n",
      "7360/7360 [==============================] - 10s 1ms/step - loss: 0.0386\n",
      "Epoch: 54  of  120\n",
      "Epoch 1/1\n",
      "7360/7360 [==============================] - 10s 1ms/step - loss: 0.0387\n",
      "Epoch: 55  of  120\n",
      "Epoch 1/1\n",
      "7360/7360 [==============================] - 10s 1ms/step - loss: 0.0384\n",
      "Epoch: 56  of  120\n",
      "Epoch 1/1\n",
      "7360/7360 [==============================] - 10s 1ms/step - loss: 0.0384\n",
      "Epoch: 57  of  120\n",
      "Epoch 1/1\n",
      "7360/7360 [==============================] - 10s 1ms/step - loss: 0.0382\n",
      "Epoch: 58  of  120\n",
      "Epoch 1/1\n",
      "7360/7360 [==============================] - 10s 1ms/step - loss: 0.0381\n",
      "Epoch: 59  of  120\n",
      "Epoch 1/1\n",
      "7360/7360 [==============================] - 10s 1ms/step - loss: 0.0379\n",
      "Epoch: 60  of  120\n",
      "Epoch 1/1\n",
      "7360/7360 [==============================] - 10s 1ms/step - loss: 0.0379\n",
      "Epoch: 61  of  120\n",
      "Epoch 1/1\n",
      "7360/7360 [==============================] - 10s 1ms/step - loss: 0.0377\n",
      "Epoch: 62  of  120\n",
      "Epoch 1/1\n",
      "7360/7360 [==============================] - 10s 1ms/step - loss: 0.0377\n",
      "Epoch: 63  of  120\n",
      "Epoch 1/1\n",
      "7360/7360 [==============================] - 10s 1ms/step - loss: 0.0375\n",
      "Epoch: 64  of  120\n",
      "Epoch 1/1\n",
      "7360/7360 [==============================] - 10s 1ms/step - loss: 0.0375\n",
      "Epoch: 65  of  120\n",
      "Epoch 1/1\n",
      "7360/7360 [==============================] - 10s 1ms/step - loss: 0.0374\n",
      "Epoch: 66  of  120\n",
      "Epoch 1/1\n",
      "7360/7360 [==============================] - 10s 1ms/step - loss: 0.0373\n",
      "Epoch: 67  of  120\n",
      "Epoch 1/1\n",
      "7360/7360 [==============================] - 10s 1ms/step - loss: 0.0372\n",
      "Epoch: 68  of  120\n",
      "Epoch 1/1\n",
      "7360/7360 [==============================] - 10s 1ms/step - loss: 0.0372\n",
      "Epoch: 69  of  120\n",
      "Epoch 1/1\n",
      "7360/7360 [==============================] - 10s 1ms/step - loss: 0.0370\n",
      "Epoch: 70  of  120\n",
      "Epoch 1/1\n",
      "7360/7360 [==============================] - 10s 1ms/step - loss: 0.0370\n",
      "Epoch: 71  of  120\n",
      "Epoch 1/1\n",
      "7360/7360 [==============================] - 10s 1ms/step - loss: 0.0368\n",
      "Epoch: 72  of  120\n",
      "Epoch 1/1\n",
      "7360/7360 [==============================] - 10s 1ms/step - loss: 0.0368\n",
      "Epoch: 73  of  120\n",
      "Epoch 1/1\n",
      "7360/7360 [==============================] - 10s 1ms/step - loss: 0.0366\n",
      "Epoch: 74  of  120\n",
      "Epoch 1/1\n",
      "7360/7360 [==============================] - 10s 1ms/step - loss: 0.0366\n",
      "Epoch: 75  of  120\n",
      "Epoch 1/1\n",
      "7360/7360 [==============================] - 10s 1ms/step - loss: 0.0364\n",
      "Epoch: 76  of  120\n",
      "Epoch 1/1\n",
      "7360/7360 [==============================] - 10s 1ms/step - loss: 0.0364\n",
      "Epoch: 77  of  120\n",
      "Epoch 1/1\n",
      "7360/7360 [==============================] - 10s 1ms/step - loss: 0.0363\n",
      "Epoch: 78  of  120\n",
      "Epoch 1/1\n",
      "7360/7360 [==============================] - 10s 1ms/step - loss: 0.0363: 0s - l\n",
      "Epoch: 79  of  120\n",
      "Epoch 1/1\n",
      "7360/7360 [==============================] - 10s 1ms/step - loss: 0.0362\n",
      "Epoch: 80  of  120\n",
      "Epoch 1/1\n",
      "7360/7360 [==============================] - 10s 1ms/step - loss: 0.0362\n",
      "Epoch: 81  of  120\n",
      "Epoch 1/1\n",
      "7360/7360 [==============================] - 10s 1ms/step - loss: 0.0362\n",
      "Epoch: 82  of  120\n",
      "Epoch 1/1\n",
      "7360/7360 [==============================] - 10s 1ms/step - loss: 0.0364\n",
      "Epoch: 83  of  120\n",
      "Epoch 1/1\n",
      "7360/7360 [==============================] - 10s 1ms/step - loss: 0.0363\n",
      "Epoch: 84  of  120\n",
      "Epoch 1/1\n",
      "7360/7360 [==============================] - 10s 1ms/step - loss: 0.0361\n",
      "Epoch: 85  of  120\n",
      "Epoch 1/1\n",
      "7360/7360 [==============================] - 10s 1ms/step - loss: 0.0360\n",
      "Epoch: 86  of  120\n",
      "Epoch 1/1\n",
      "7360/7360 [==============================] - 10s 1ms/step - loss: 0.0358\n",
      "Epoch: 87  of  120\n",
      "Epoch 1/1\n",
      "7360/7360 [==============================] - 10s 1ms/step - loss: 0.0357\n",
      "Epoch: 88  of  120\n",
      "Epoch 1/1\n",
      "7360/7360 [==============================] - 10s 1ms/step - loss: 0.0356\n",
      "Epoch: 89  of  120\n",
      "Epoch 1/1\n",
      "7360/7360 [==============================] - 10s 1ms/step - loss: 0.0356\n",
      "Epoch: 90  of  120\n",
      "Epoch 1/1\n",
      "7360/7360 [==============================] - 10s 1ms/step - loss: 0.0355\n",
      "Epoch: 91  of  120\n",
      "Epoch 1/1\n",
      "7360/7360 [==============================] - 10s 1ms/step - loss: 0.0355\n",
      "Epoch: 92  of  120\n",
      "Epoch 1/1\n",
      "7360/7360 [==============================] - 10s 1ms/step - loss: 0.0355\n",
      "Epoch: 93  of  120\n",
      "Epoch 1/1\n",
      "7360/7360 [==============================] - 10s 1ms/step - loss: 0.0355\n",
      "Epoch: 94  of  120\n",
      "Epoch 1/1\n",
      "7360/7360 [==============================] - 10s 1ms/step - loss: 0.0354\n",
      "Epoch: 95  of  120\n",
      "Epoch 1/1\n",
      "7360/7360 [==============================] - 10s 1ms/step - loss: 0.0354\n",
      "Epoch: 96  of  120\n",
      "Epoch 1/1\n",
      "7360/7360 [==============================] - 10s 1ms/step - loss: 0.0353\n",
      "Epoch: 97  of  120\n",
      "Epoch 1/1\n",
      "7360/7360 [==============================] - 10s 1ms/step - loss: 0.0353\n",
      "Epoch: 98  of  120\n",
      "Epoch 1/1\n",
      "7360/7360 [==============================] - 10s 1ms/step - loss: 0.0353\n",
      "Epoch: 99  of  120\n",
      "Epoch 1/1\n",
      "7360/7360 [==============================] - 10s 1ms/step - loss: 0.0352\n",
      "Epoch: 100  of  120\n",
      "Epoch 1/1\n",
      "7360/7360 [==============================] - 10s 1ms/step - loss: 0.0353\n",
      "Epoch: 101  of  120\n",
      "Epoch 1/1\n",
      "7360/7360 [==============================] - 10s 1ms/step - loss: 0.0352\n",
      "Epoch: 102  of  120\n",
      "Epoch 1/1\n",
      "7360/7360 [==============================] - 10s 1ms/step - loss: 0.0351\n",
      "Epoch: 103  of  120\n",
      "Epoch 1/1\n",
      "7360/7360 [==============================] - 10s 1ms/step - loss: 0.0350\n",
      "Epoch: 104  of  120\n",
      "Epoch 1/1\n",
      "7360/7360 [==============================] - 10s 1ms/step - loss: 0.0350\n",
      "Epoch: 105  of  120\n",
      "Epoch 1/1\n",
      "7360/7360 [==============================] - 10s 1ms/step - loss: 0.0350\n",
      "Epoch: 106  of  120\n",
      "Epoch 1/1\n",
      "7360/7360 [==============================] - 10s 1ms/step - loss: 0.0349\n",
      "Epoch: 107  of  120\n",
      "Epoch 1/1\n",
      "7360/7360 [==============================] - 10s 1ms/step - loss: 0.0348\n",
      "Epoch: 108  of  120\n",
      "Epoch 1/1\n",
      "7360/7360 [==============================] - 10s 1ms/step - loss: 0.0348\n",
      "Epoch: 109  of  120\n",
      "Epoch 1/1\n",
      "7360/7360 [==============================] - 10s 1ms/step - loss: 0.0348\n",
      "Epoch: 110  of  120\n",
      "Epoch 1/1\n",
      "7360/7360 [==============================] - 10s 1ms/step - loss: 0.0347\n",
      "Epoch: 111  of  120\n",
      "Epoch 1/1\n",
      "7360/7360 [==============================] - 10s 1ms/step - loss: 0.0347\n",
      "Epoch: 112  of  120\n",
      "Epoch 1/1\n",
      "7360/7360 [==============================] - 10s 1ms/step - loss: 0.0346\n",
      "Epoch: 113  of  120\n",
      "Epoch 1/1\n",
      "7360/7360 [==============================] - 10s 1ms/step - loss: 0.0347\n",
      "Epoch: 114  of  120\n",
      "Epoch 1/1\n",
      "7360/7360 [==============================] - 10s 1ms/step - loss: 0.0346\n",
      "Epoch: 115  of  120\n",
      "Epoch 1/1\n",
      "7360/7360 [==============================] - 10s 1ms/step - loss: 0.0347\n",
      "Epoch: 116  of  120\n",
      "Epoch 1/1\n",
      "7360/7360 [==============================] - 10s 1ms/step - loss: 0.0346\n",
      "Epoch: 117  of  120\n",
      "Epoch 1/1\n",
      "7360/7360 [==============================] - 10s 1ms/step - loss: 0.0347\n",
      "Epoch: 118  of  120\n",
      "Epoch 1/1\n",
      "7360/7360 [==============================] - 10s 1ms/step - loss: 0.0345\n",
      "Epoch: 119  of  120\n",
      "Epoch 1/1\n",
      "7360/7360 [==============================] - 10s 1ms/step - loss: 0.0347\n",
      "Epoch: 120  of  120\n",
      "Epoch 1/1\n",
      "7360/7360 [==============================] - 10s 1ms/step - loss: 0.0345\n"
     ]
    }
   ],
   "source": [
    "# stateful - since we want to reset states, we need a loop over the fit function many times with one epoch instead of using the regular fit function and the full number of epochs\n",
    "for i in range(epochs):\n",
    "    print(\"Epoch: \" + str(i+1),\" of \",epochs)\n",
    "    # run through all data but the cell, hidden state are used for the next batch.\n",
    "    regressor_mae.fit(X_train, y_train, shuffle=False, epochs = 1, batch_size = batch_size)\n",
    "    # resets only the states but the weights, cell and hidden are kept\n",
    "    regressor_mae.reset_states()"
   ]
  },
  {
   "cell_type": "code",
   "execution_count": 20,
   "metadata": {},
   "outputs": [],
   "source": [
    "# stateless - between the batches the cell and hidden states are lost\n",
    "#regressor_mae.fit(X_train, y_train, shuffle=False, epochs = epochs, batch_size = batch_size)"
   ]
  },
  {
   "cell_type": "markdown",
   "metadata": {},
   "source": [
    "## Save the model"
   ]
  },
  {
   "cell_type": "code",
   "execution_count": 21,
   "metadata": {},
   "outputs": [],
   "source": [
    "import h5py\n",
    "\n",
    "# save\n",
    "regressor_mae.save(filepath=\"my_model_with_mae_30_ts.h5\")"
   ]
  },
  {
   "cell_type": "code",
   "execution_count": 22,
   "metadata": {},
   "outputs": [],
   "source": [
    "# load\n",
    "regressor_mae = load_model(filepath=\"my_model_with_mae_30_ts.h5\")"
   ]
  },
  {
   "cell_type": "markdown",
   "metadata": {},
   "source": [
    "## Defining Test Set length\n",
    "\n",
    "Again, define a method to define the test set length."
   ]
  },
  {
   "cell_type": "code",
   "execution_count": 23,
   "metadata": {},
   "outputs": [],
   "source": [
    "def get_test_length(dataset, batch_size):\n",
    "    \n",
    "    test_length_values = []\n",
    "    for x in range(len(dataset) - 200, len(dataset) - timesteps*2): \n",
    "        modulo=(x-upper_train)%batch_size\n",
    "        if (modulo == 0):\n",
    "            test_length_values.append(x)\n",
    "            print(x)\n",
    "    return (max(test_length_values))"
   ]
  },
  {
   "cell_type": "code",
   "execution_count": 24,
   "metadata": {},
   "outputs": [
    {
     "name": "stdout",
     "output_type": "stream",
     "text": [
      "7996\n",
      "8060\n",
      "8060\n",
      "Calculated test set length:  640\n"
     ]
    }
   ],
   "source": [
    "test_length = get_test_length(df_data_1, batch_size)\n",
    "print(test_length)\n",
    "upper_test = test_length + timesteps*2\n",
    "\n",
    "testset_length = test_length - upper_train\n",
    "print(\"Calculated test set length: \",testset_length)"
   ]
  },
  {
   "cell_type": "code",
   "execution_count": 25,
   "metadata": {},
   "outputs": [
    {
     "name": "stdout",
     "output_type": "stream",
     "text": [
      "7420 8120 8181\n"
     ]
    }
   ],
   "source": [
    "print(upper_train, upper_test, len(df_data_1))"
   ]
  },
  {
   "cell_type": "markdown",
   "metadata": {},
   "source": [
    "## Creating the Test Set"
   ]
  },
  {
   "cell_type": "code",
   "execution_count": 26,
   "metadata": {},
   "outputs": [
    {
     "data": {
      "text/plain": [
       "(640, 30, 1)"
      ]
     },
     "execution_count": 26,
     "metadata": {},
     "output_type": "execute_result"
    }
   ],
   "source": [
    "# construct test set\n",
    "\n",
    "# subsetting\n",
    "df_data_1_test = df_data_1[upper_train:upper_test] \n",
    "test_set = df_data_1_test.iloc[:,1:2].values\n",
    "\n",
    "# scaling\n",
    "scaled_real_bcg_values_test = sc.fit_transform(np.float64(test_set))\n",
    "\n",
    "# creating input data\n",
    "X_test = []\n",
    "for i in range(timesteps, testset_length + timesteps):\n",
    "    X_test.append(scaled_real_bcg_values_test[i-timesteps:i, 0])\n",
    "X_test = np.array(X_test)\n",
    "\n",
    "\n",
    "# reshaping\n",
    "X_test = np.reshape(X_test, (X_test.shape[0], X_test.shape[1], 1))\n",
    "\n",
    "# size check\n",
    "X_test.shape"
   ]
  },
  {
   "cell_type": "code",
   "execution_count": 27,
   "metadata": {},
   "outputs": [
    {
     "name": "stdout",
     "output_type": "stream",
     "text": [
      "Before reshaping:  (640, 30, 1)\n",
      "After reshaping:  (640, 30)\n",
      "y test set after reshape:  (610,)\n"
     ]
    }
   ],
   "source": [
    "# prediction\n",
    "predicted_bcg_values_test_mae = regressor_mae.predict(X_test, batch_size=batch_size)\n",
    "regressor_mae.reset_states()\n",
    "\n",
    "print(\"Before reshaping: \",predicted_bcg_values_test_mae.shape)\n",
    "\n",
    "# reshaping\n",
    "predicted_bcg_values_test_mae = np.reshape(predicted_bcg_values_test_mae, \n",
    "                                       (predicted_bcg_values_test_mae.shape[0], \n",
    "                                        predicted_bcg_values_test_mae.shape[1]))\n",
    "\n",
    "print(\"After reshaping: \",predicted_bcg_values_test_mae.shape)\n",
    "\n",
    "# inverse transform\n",
    "predicted_bcg_values_test_mae = sc.inverse_transform(predicted_bcg_values_test_mae)\n",
    "\n",
    "\n",
    "# creating y_test data\n",
    "y_test = []\n",
    "for j in range(0, testset_length - timesteps):\n",
    "    y_test = np.append(y_test, predicted_bcg_values_test_mae[j, timesteps-1])\n",
    "\n",
    "# reshaping\n",
    "pred_mae = np.reshape(y_test, (y_test.shape[0], 1))\n",
    "print(\"y test set after reshape: \",y_test.shape)"
   ]
  },
  {
   "cell_type": "code",
   "execution_count": 28,
   "metadata": {},
   "outputs": [
    {
     "data": {
      "image/png": "[encoded data removed]",
      "text/plain": [
       "<Figure size 432x288 with 1 Axes>"
      ]
     },
     "metadata": {
      "needs_background": "light"
     },
     "output_type": "display_data"
    }
   ],
   "source": [
    "# Visualising the prediction on the test set\n",
    "plt.plot(test_set[timesteps:len(pred_mae)].astype(float), color = 'red', label = 'Real Crude Oil Prices')\n",
    "plt.plot(y_test[0:len(pred_mae) - timesteps].astype(float), color = 'blue', label = 'Predicted Crude Oil Prices')\n",
    "plt.title('Crude Oil Prices Prediction - MAE loss')\n",
    "plt.xlabel('Time')\n",
    "plt.ylabel('Crude Oil Prices (U.S. $)')\n",
    "plt.legend()\n",
    "plt.show()"
   ]
  },
  {
   "cell_type": "markdown",
   "metadata": {},
   "source": [
    "## Evaluation MAE loss prediction"
   ]
  },
  {
   "cell_type": "code",
   "execution_count": 29,
   "metadata": {},
   "outputs": [
    {
     "name": "stdout",
     "output_type": "stream",
     "text": [
      "2.19763363881638\n"
     ]
    }
   ],
   "source": [
    "import math\n",
    "from sklearn.metrics import mean_squared_error\n",
    "\n",
    "# RMSE on MAE loss prediction. The RMSE has the useful property of being in the same units as the response variable (US $).\n",
    "rmse = math.sqrt(mean_squared_error(test_set[timesteps:len(y_test)], y_test[0:len(y_test) - timesteps]))\n",
    "print(rmse)"
   ]
  },
  {
   "cell_type": "code",
   "execution_count": 32,
   "metadata": {},
   "outputs": [
    {
     "name": "stdout",
     "output_type": "stream",
     "text": [
      "Mean prediction price:  61.03658620689655\n"
     ]
    }
   ],
   "source": [
    "mean = np.mean(np.float64(test_set[timesteps:len(pred_mae)]))\n",
    "print(\"Mean prediction price: \",mean)"
   ]
  },
  {
   "cell_type": "code",
   "execution_count": 33,
   "metadata": {},
   "outputs": [
    {
     "data": {
      "text/plain": [
       "3.600518599397141"
      ]
     },
     "execution_count": 33,
     "metadata": {},
     "output_type": "execute_result"
    }
   ],
   "source": [
    "rmse/mean * 100"
   ]
  },
  {
   "cell_type": "code",
   "execution_count": 34,
   "metadata": {},
   "outputs": [
    {
     "name": "stdout",
     "output_type": "stream",
     "text": [
      "1.811172704762426\n"
     ]
    }
   ],
   "source": [
    "from sklearn.metrics import mean_absolute_error\n",
    "\n",
    "# MAE on MAE loss prediction\n",
    "mae = mean_absolute_error(test_set[timesteps:len(y_test)], y_test[0:len(y_test) - timesteps])\n",
    "print(mae)"
   ]
  },
  {
   "cell_type": "code",
   "execution_count": 35,
   "metadata": {},
   "outputs": [
    {
     "data": {
      "text/plain": [
       "2.9673558390422903"
      ]
     },
     "execution_count": 35,
     "metadata": {},
     "output_type": "execute_result"
    }
   ],
   "source": [
    "mae/mean_mae * 100"
   ]
  },
  {
   "cell_type": "markdown",
   "metadata": {},
   "source": [
    "## Design the model with MSE Loss"
   ]
  },
  {
   "cell_type": "code",
   "execution_count": 36,
   "metadata": {},
   "outputs": [
    {
     "name": "stdout",
     "output_type": "stream",
     "text": [
      "_________________________________________________________________\n",
      "Layer (type)                 Output Shape              Param #   \n",
      "=================================================================\n",
      "input_2 (InputLayer)         (64, 30, 1)               0         \n",
      "_________________________________________________________________\n",
      "lstm_3 (LSTM)                (64, 30, 10)              480       \n",
      "_________________________________________________________________\n",
      "lstm_4 (LSTM)                (64, 30, 10)              840       \n",
      "_________________________________________________________________\n",
      "dense_2 (Dense)              (64, 30, 1)               11        \n",
      "=================================================================\n",
      "Total params: 1,331\n",
      "Trainable params: 1,331\n",
      "Non-trainable params: 0\n",
      "_________________________________________________________________\n"
     ]
    }
   ],
   "source": [
    "# Same LSTM model design as before\n",
    "\n",
    "inputs_1_mse = Input(batch_shape=(batch_size,timesteps,1))\n",
    "lstm_1_mse = LSTM(10, stateful=True, return_sequences=True)(inputs_1_mse)\n",
    "lstm_2_mse = LSTM(10, stateful=True, return_sequences=True)(lstm_1_mse)\n",
    "\n",
    "output_1_mse = Dense(units = 1)(lstm_2_mse)\n",
    "\n",
    "regressor_mse = Model(inputs=inputs_1_mse, outputs = output_1_mse)\n",
    "\n",
    "# mse -> mean squared error as loss function\n",
    "regressor_mse.compile(optimizer='adam', loss = 'mse')\n",
    "regressor_mse.summary()"
   ]
  },
  {
   "cell_type": "code",
   "execution_count": 37,
   "metadata": {},
   "outputs": [
    {
     "name": "stdout",
     "output_type": "stream",
     "text": [
      "Epoch: 1  of  120\n",
      "Epoch 1/1\n",
      "7360/7360 [==============================] - 11s 2ms/step - loss: 0.0041\n",
      "Epoch: 2  of  120\n",
      "Epoch 1/1\n",
      "7360/7360 [==============================] - 10s 1ms/step - loss: 0.0048\n",
      "Epoch: 3  of  120\n",
      "Epoch 1/1\n",
      "7360/7360 [==============================] - 10s 1ms/step - loss: 0.0053\n",
      "Epoch: 4  of  120\n",
      "Epoch 1/1\n",
      "7360/7360 [==============================] - 10s 1ms/step - loss: 0.0058\n",
      "Epoch: 5  of  120\n",
      "Epoch 1/1\n",
      "7360/7360 [==============================] - 11s 1ms/step - loss: 0.0062\n",
      "Epoch: 6  of  120\n",
      "Epoch 1/1\n",
      "7360/7360 [==============================] - 11s 1ms/step - loss: 0.0066\n",
      "Epoch: 7  of  120\n",
      "Epoch 1/1\n",
      "7360/7360 [==============================] - 10s 1ms/step - loss: 0.0066\n",
      "Epoch: 8  of  120\n",
      "Epoch 1/1\n",
      "7360/7360 [==============================] - 11s 1ms/step - loss: 0.0068\n",
      "Epoch: 9  of  120\n",
      "Epoch 1/1\n",
      "7360/7360 [==============================] - 10s 1ms/step - loss: 0.0067\n",
      "Epoch: 10  of  120\n",
      "Epoch 1/1\n",
      "7360/7360 [==============================] - 10s 1ms/step - loss: 0.0064\n",
      "Epoch: 11  of  120\n",
      "Epoch 1/1\n",
      "7360/7360 [==============================] - 10s 1ms/step - loss: 0.0059\n",
      "Epoch: 12  of  120\n",
      "Epoch 1/1\n",
      "7360/7360 [==============================] - 10s 1ms/step - loss: 0.0055\n",
      "Epoch: 13  of  120\n",
      "Epoch 1/1\n",
      "7360/7360 [==============================] - 10s 1ms/step - loss: 0.0051\n",
      "Epoch: 14  of  120\n",
      "Epoch 1/1\n",
      "7360/7360 [==============================] - 10s 1ms/step - loss: 0.0048\n",
      "Epoch: 15  of  120\n",
      "Epoch 1/1\n",
      "7360/7360 [==============================] - 10s 1ms/step - loss: 0.0045\n",
      "Epoch: 16  of  120\n",
      "Epoch 1/1\n",
      "7360/7360 [==============================] - 10s 1ms/step - loss: 0.0043\n",
      "Epoch: 17  of  120\n",
      "Epoch 1/1\n",
      "7360/7360 [==============================] - 10s 1ms/step - loss: 0.0042\n",
      "Epoch: 18  of  120\n",
      "Epoch 1/1\n",
      "7360/7360 [==============================] - 10s 1ms/step - loss: 0.0041\n",
      "Epoch: 19  of  120\n",
      "Epoch 1/1\n",
      "7360/7360 [==============================] - 10s 1ms/step - loss: 0.0041\n",
      "Epoch: 20  of  120\n",
      "Epoch 1/1\n",
      "7360/7360 [==============================] - 10s 1ms/step - loss: 0.0040\n",
      "Epoch: 21  of  120\n",
      "Epoch 1/1\n",
      "7360/7360 [==============================] - 10s 1ms/step - loss: 0.0040\n",
      "Epoch: 22  of  120\n",
      "Epoch 1/1\n",
      "7360/7360 [==============================] - 10s 1ms/step - loss: 0.0040\n",
      "Epoch: 23  of  120\n",
      "Epoch 1/1\n",
      "7360/7360 [==============================] - 10s 1ms/step - loss: 0.0039\n",
      "Epoch: 24  of  120\n",
      "Epoch 1/1\n",
      "7360/7360 [==============================] - 10s 1ms/step - loss: 0.0039\n",
      "Epoch: 25  of  120\n",
      "Epoch 1/1\n",
      "7360/7360 [==============================] - 11s 1ms/step - loss: 0.0039\n",
      "Epoch: 26  of  120\n",
      "Epoch 1/1\n",
      "7360/7360 [==============================] - 11s 1ms/step - loss: 0.0038\n",
      "Epoch: 27  of  120\n",
      "Epoch 1/1\n",
      "7360/7360 [==============================] - 11s 1ms/step - loss: 0.0038\n",
      "Epoch: 28  of  120\n",
      "Epoch 1/1\n",
      "7360/7360 [==============================] - 10s 1ms/step - loss: 0.0038\n",
      "Epoch: 29  of  120\n",
      "Epoch 1/1\n",
      "7360/7360 [==============================] - 10s 1ms/step - loss: 0.0037\n",
      "Epoch: 30  of  120\n",
      "Epoch 1/1\n",
      "7360/7360 [==============================] - 10s 1ms/step - loss: 0.0038\n",
      "Epoch: 31  of  120\n",
      "Epoch 1/1\n",
      "7360/7360 [==============================] - 10s 1ms/step - loss: 0.0035\n",
      "Epoch: 32  of  120\n",
      "Epoch 1/1\n",
      "7360/7360 [==============================] - 10s 1ms/step - loss: 0.0039\n",
      "Epoch: 33  of  120\n",
      "Epoch 1/1\n",
      "7360/7360 [==============================] - 10s 1ms/step - loss: 0.0037\n",
      "Epoch: 34  of  120\n",
      "Epoch 1/1\n",
      "7360/7360 [==============================] - 10s 1ms/step - loss: 0.0037\n",
      "Epoch: 35  of  120\n",
      "Epoch 1/1\n",
      "7360/7360 [==============================] - 10s 1ms/step - loss: 0.0036\n",
      "Epoch: 36  of  120\n",
      "Epoch 1/1\n",
      "7360/7360 [==============================] - 10s 1ms/step - loss: 0.0036\n",
      "Epoch: 37  of  120\n",
      "Epoch 1/1\n",
      "7360/7360 [==============================] - 10s 1ms/step - loss: 0.0035\n",
      "Epoch: 38  of  120\n",
      "Epoch 1/1\n",
      "7360/7360 [==============================] - 11s 1ms/step - loss: 0.0035\n",
      "Epoch: 39  of  120\n",
      "Epoch 1/1\n",
      "7360/7360 [==============================] - 10s 1ms/step - loss: 0.0035\n",
      "Epoch: 40  of  120\n",
      "Epoch 1/1\n",
      "7360/7360 [==============================] - 10s 1ms/step - loss: 0.0035\n",
      "Epoch: 41  of  120\n",
      "Epoch 1/1\n",
      "7360/7360 [==============================] - 11s 1ms/step - loss: 0.0034\n",
      "Epoch: 42  of  120\n",
      "Epoch 1/1\n",
      "7360/7360 [==============================] - 11s 1ms/step - loss: 0.0035\n",
      "Epoch: 43  of  120\n",
      "Epoch 1/1\n",
      "7360/7360 [==============================] - 10s 1ms/step - loss: 0.0035\n",
      "Epoch: 44  of  120\n",
      "Epoch 1/1\n",
      "7360/7360 [==============================] - 10s 1ms/step - loss: 0.0035\n",
      "Epoch: 45  of  120\n",
      "Epoch 1/1\n",
      "7360/7360 [==============================] - 10s 1ms/step - loss: 0.0035\n",
      "Epoch: 46  of  120\n",
      "Epoch 1/1\n",
      "7360/7360 [==============================] - 10s 1ms/step - loss: 0.0035\n",
      "Epoch: 47  of  120\n",
      "Epoch 1/1\n",
      "7360/7360 [==============================] - 10s 1ms/step - loss: 0.0035\n",
      "Epoch: 48  of  120\n",
      "Epoch 1/1\n",
      "7360/7360 [==============================] - 10s 1ms/step - loss: 0.0035\n",
      "Epoch: 49  of  120\n",
      "Epoch 1/1\n",
      "7360/7360 [==============================] - 10s 1ms/step - loss: 0.0034\n",
      "Epoch: 50  of  120\n",
      "Epoch 1/1\n",
      "7360/7360 [==============================] - 10s 1ms/step - loss: 0.0033\n",
      "Epoch: 51  of  120\n",
      "Epoch 1/1\n",
      "7360/7360 [==============================] - 10s 1ms/step - loss: 0.0033\n",
      "Epoch: 52  of  120\n",
      "Epoch 1/1\n",
      "7360/7360 [==============================] - 10s 1ms/step - loss: 0.0034\n",
      "Epoch: 53  of  120\n",
      "Epoch 1/1\n",
      "7360/7360 [==============================] - 10s 1ms/step - loss: 0.0033\n",
      "Epoch: 54  of  120\n",
      "Epoch 1/1\n",
      "7360/7360 [==============================] - 10s 1ms/step - loss: 0.0033\n",
      "Epoch: 55  of  120\n",
      "Epoch 1/1\n",
      "7360/7360 [==============================] - 10s 1ms/step - loss: 0.0033\n",
      "Epoch: 56  of  120\n",
      "Epoch 1/1\n",
      "7360/7360 [==============================] - 10s 1ms/step - loss: 0.0032\n",
      "Epoch: 57  of  120\n",
      "Epoch 1/1\n",
      "7360/7360 [==============================] - 10s 1ms/step - loss: 0.0032\n",
      "Epoch: 58  of  120\n",
      "Epoch 1/1\n",
      "7360/7360 [==============================] - 10s 1ms/step - loss: 0.0033\n",
      "Epoch: 59  of  120\n",
      "Epoch 1/1\n",
      "7360/7360 [==============================] - 10s 1ms/step - loss: 0.0031\n",
      "Epoch: 60  of  120\n",
      "Epoch 1/1\n",
      "7360/7360 [==============================] - 10s 1ms/step - loss: 0.0031\n",
      "Epoch: 61  of  120\n",
      "Epoch 1/1\n",
      "7360/7360 [==============================] - 10s 1ms/step - loss: 0.0033\n",
      "Epoch: 62  of  120\n",
      "Epoch 1/1\n",
      "7360/7360 [==============================] - 10s 1ms/step - loss: 0.0030\n",
      "Epoch: 63  of  120\n",
      "Epoch 1/1\n",
      "7360/7360 [==============================] - 10s 1ms/step - loss: 0.0031\n",
      "Epoch: 64  of  120\n",
      "Epoch 1/1\n",
      "7360/7360 [==============================] - 10s 1ms/step - loss: 0.0032\n",
      "Epoch: 65  of  120\n",
      "Epoch 1/1\n",
      "7360/7360 [==============================] - 10s 1ms/step - loss: 0.0030\n",
      "Epoch: 66  of  120\n",
      "Epoch 1/1\n",
      "7360/7360 [==============================] - 10s 1ms/step - loss: 0.0031\n",
      "Epoch: 67  of  120\n",
      "Epoch 1/1\n",
      "7360/7360 [==============================] - 10s 1ms/step - loss: 0.0032\n",
      "Epoch: 68  of  120\n",
      "Epoch 1/1\n",
      "7360/7360 [==============================] - 10s 1ms/step - loss: 0.0032\n",
      "Epoch: 69  of  120\n",
      "Epoch 1/1\n",
      "7360/7360 [==============================] - 10s 1ms/step - loss: 0.0030\n",
      "Epoch: 70  of  120\n",
      "Epoch 1/1\n",
      "7360/7360 [==============================] - 10s 1ms/step - loss: 0.0032\n",
      "Epoch: 71  of  120\n",
      "Epoch 1/1\n",
      "7360/7360 [==============================] - 10s 1ms/step - loss: 0.0031\n",
      "Epoch: 72  of  120\n",
      "Epoch 1/1\n",
      "7360/7360 [==============================] - 10s 1ms/step - loss: 0.0030\n",
      "Epoch: 73  of  120\n",
      "Epoch 1/1\n",
      "7360/7360 [==============================] - 10s 1ms/step - loss: 0.0031\n",
      "Epoch: 74  of  120\n",
      "Epoch 1/1\n",
      "7360/7360 [==============================] - 10s 1ms/step - loss: 0.0031\n",
      "Epoch: 75  of  120\n",
      "Epoch 1/1\n",
      "7360/7360 [==============================] - 10s 1ms/step - loss: 0.0029\n",
      "Epoch: 76  of  120\n",
      "Epoch 1/1\n",
      "7360/7360 [==============================] - 10s 1ms/step - loss: 0.0031\n",
      "Epoch: 77  of  120\n",
      "Epoch 1/1\n",
      "7360/7360 [==============================] - 10s 1ms/step - loss: 0.0031\n",
      "Epoch: 78  of  120\n",
      "Epoch 1/1\n",
      "7360/7360 [==============================] - 10s 1ms/step - loss: 0.0030\n",
      "Epoch: 79  of  120\n",
      "Epoch 1/1\n",
      "7360/7360 [==============================] - 10s 1ms/step - loss: 0.0029\n",
      "Epoch: 80  of  120\n",
      "Epoch 1/1\n",
      "7360/7360 [==============================] - 10s 1ms/step - loss: 0.0029\n",
      "Epoch: 81  of  120\n",
      "Epoch 1/1\n",
      "7360/7360 [==============================] - 10s 1ms/step - loss: 0.0030\n",
      "Epoch: 82  of  120\n",
      "Epoch 1/1\n",
      "7360/7360 [==============================] - 10s 1ms/step - loss: 0.0030\n",
      "Epoch: 83  of  120\n",
      "Epoch 1/1\n",
      "7360/7360 [==============================] - 10s 1ms/step - loss: 0.0030\n",
      "Epoch: 84  of  120\n",
      "Epoch 1/1\n",
      "7360/7360 [==============================] - 10s 1ms/step - loss: 0.0028\n",
      "Epoch: 85  of  120\n",
      "Epoch 1/1\n",
      "7360/7360 [==============================] - 10s 1ms/step - loss: 0.0029\n",
      "Epoch: 86  of  120\n",
      "Epoch 1/1\n",
      "7360/7360 [==============================] - 10s 1ms/step - loss: 0.0032\n",
      "Epoch: 87  of  120\n",
      "Epoch 1/1\n",
      "7360/7360 [==============================] - 10s 1ms/step - loss: 0.0030\n",
      "Epoch: 88  of  120\n",
      "Epoch 1/1\n",
      "7360/7360 [==============================] - 10s 1ms/step - loss: 0.0029\n",
      "Epoch: 89  of  120\n",
      "Epoch 1/1\n",
      "7360/7360 [==============================] - 10s 1ms/step - loss: 0.0028\n",
      "Epoch: 90  of  120\n",
      "Epoch 1/1\n",
      "7360/7360 [==============================] - 10s 1ms/step - loss: 0.0029\n",
      "Epoch: 91  of  120\n",
      "Epoch 1/1\n",
      "7360/7360 [==============================] - 10s 1ms/step - loss: 0.0030\n",
      "Epoch: 92  of  120\n",
      "Epoch 1/1\n",
      "7360/7360 [==============================] - 10s 1ms/step - loss: 0.0030\n",
      "Epoch: 93  of  120\n",
      "Epoch 1/1\n",
      "7360/7360 [==============================] - 10s 1ms/step - loss: 0.0028\n",
      "Epoch: 94  of  120\n",
      "Epoch 1/1\n",
      "7360/7360 [==============================] - 10s 1ms/step - loss: 0.0030\n",
      "Epoch: 95  of  120\n",
      "Epoch 1/1\n",
      "7360/7360 [==============================] - 10s 1ms/step - loss: 0.0028\n",
      "Epoch: 96  of  120\n",
      "Epoch 1/1\n",
      "7360/7360 [==============================] - 10s 1ms/step - loss: 0.0029\n",
      "Epoch: 97  of  120\n",
      "Epoch 1/1\n",
      "7360/7360 [==============================] - 10s 1ms/step - loss: 0.0028\n",
      "Epoch: 98  of  120\n",
      "Epoch 1/1\n",
      "7360/7360 [==============================] - 10s 1ms/step - loss: 0.0029\n",
      "Epoch: 99  of  120\n",
      "Epoch 1/1\n",
      "7360/7360 [==============================] - 11s 1ms/step - loss: 0.0029\n",
      "Epoch: 100  of  120\n",
      "Epoch 1/1\n",
      "7360/7360 [==============================] - 10s 1ms/step - loss: 0.0027\n",
      "Epoch: 101  of  120\n",
      "Epoch 1/1\n",
      "7360/7360 [==============================] - 10s 1ms/step - loss: 0.0028\n",
      "Epoch: 102  of  120\n",
      "Epoch 1/1\n",
      "7360/7360 [==============================] - 10s 1ms/step - loss: 0.0032\n",
      "Epoch: 103  of  120\n",
      "Epoch 1/1\n",
      "7360/7360 [==============================] - 10s 1ms/step - loss: 0.0030\n",
      "Epoch: 104  of  120\n",
      "Epoch 1/1\n",
      "7360/7360 [==============================] - 10s 1ms/step - loss: 0.0028\n",
      "Epoch: 105  of  120\n",
      "Epoch 1/1\n",
      "7360/7360 [==============================] - 10s 1ms/step - loss: 0.0028\n",
      "Epoch: 106  of  120\n",
      "Epoch 1/1\n",
      "7360/7360 [==============================] - 10s 1ms/step - loss: 0.0027\n",
      "Epoch: 107  of  120\n",
      "Epoch 1/1\n",
      "7360/7360 [==============================] - 10s 1ms/step - loss: 0.0027\n",
      "Epoch: 108  of  120\n",
      "Epoch 1/1\n",
      "7360/7360 [==============================] - 10s 1ms/step - loss: 0.0027\n",
      "Epoch: 109  of  120\n",
      "Epoch 1/1\n",
      "7360/7360 [==============================] - 10s 1ms/step - loss: 0.0028\n",
      "Epoch: 110  of  120\n",
      "Epoch 1/1\n",
      "7360/7360 [==============================] - 10s 1ms/step - loss: 0.0029\n",
      "Epoch: 111  of  120\n",
      "Epoch 1/1\n",
      "7360/7360 [==============================] - 10s 1ms/step - loss: 0.0027\n",
      "Epoch: 112  of  120\n",
      "Epoch 1/1\n",
      "7360/7360 [==============================] - 10s 1ms/step - loss: 0.0029\n",
      "Epoch: 113  of  120\n",
      "Epoch 1/1\n",
      "7360/7360 [==============================] - 10s 1ms/step - loss: 0.0028\n",
      "Epoch: 114  of  120\n",
      "Epoch 1/1\n",
      "7360/7360 [==============================] - 10s 1ms/step - loss: 0.0027\n",
      "Epoch: 115  of  120\n",
      "Epoch 1/1\n",
      "7360/7360 [==============================] - 10s 1ms/step - loss: 0.0029\n",
      "Epoch: 116  of  120\n",
      "Epoch 1/1\n",
      "7360/7360 [==============================] - 10s 1ms/step - loss: 0.0028\n",
      "Epoch: 117  of  120\n",
      "Epoch 1/1\n",
      "7360/7360 [==============================] - 10s 1ms/step - loss: 0.0027\n",
      "Epoch: 118  of  120\n",
      "Epoch 1/1\n",
      "7360/7360 [==============================] - 10s 1ms/step - loss: 0.0028\n",
      "Epoch: 119  of  120\n",
      "Epoch 1/1\n",
      "7360/7360 [==============================] - 10s 1ms/step - loss: 0.0028\n",
      "Epoch: 120  of  120\n",
      "Epoch 1/1\n",
      "7360/7360 [==============================] - 10s 1ms/step - loss: 0.0026\n"
     ]
    }
   ],
   "source": [
    "# remember, epochs = 120\n",
    "for i in range(epochs):\n",
    "    print(\"Epoch: \" + str(i+1),\" of \",epochs)\n",
    "    regressor_mse.fit(X_train, y_train, shuffle=False, epochs = 1, batch_size = batch_size)\n",
    "    regressor_mse.reset_states()"
   ]
  },
  {
   "cell_type": "code",
   "execution_count": 38,
   "metadata": {},
   "outputs": [],
   "source": [
    "# save\n",
    "regressor_mse.save(filepath=\"my_model_with_mse_30_ts.h5\")"
   ]
  },
  {
   "cell_type": "code",
   "execution_count": 39,
   "metadata": {},
   "outputs": [],
   "source": [
    "# load\n",
    "regressor_mse = load_model(filepath=\"my_model_with_mse_30_ts.h5\")"
   ]
  },
  {
   "cell_type": "code",
   "execution_count": 40,
   "metadata": {},
   "outputs": [],
   "source": [
    "predicted_bcg_values_test_mse = regressor_mse.predict(X_test, batch_size=batch_size)\n",
    "regressor_mse.reset_states()\n",
    "\n",
    "predicted_bcg_values_test_mse = np.reshape(predicted_bcg_values_test_mse, \n",
    "                                       (predicted_bcg_values_test_mse.shape[0], \n",
    "                                        predicted_bcg_values_test_mse.shape[1]))\n",
    "predicted_bcg_values_test_mse = sc.inverse_transform(predicted_bcg_values_test_mse)\n",
    "\n",
    "pred_mse = []\n",
    "\n",
    "for j in range(0, testset_length - timesteps):\n",
    "    pred_mse = np.append(pred_mse, predicted_bcg_values_test_mse[j, timesteps-1])\n",
    "\n",
    "pred_mse = np.reshape(pred_mse, (pred_mse.shape[0], 1))"
   ]
  },
  {
   "cell_type": "code",
   "execution_count": 41,
   "metadata": {},
   "outputs": [
    {
     "data": {
      "image/png": "[encoded data removed]",
      "text/plain": [
       "<Figure size 432x288 with 1 Axes>"
      ]
     },
     "metadata": {
      "needs_background": "light"
     },
     "output_type": "display_data"
    }
   ],
   "source": [
    "# Visualising the results\n",
    "plt.plot(test_set[timesteps:len(pred_mse)].astype(float), color = 'red', label = 'Real Crude Oil Prices')\n",
    "plt.plot(pred_mse[0:len(pred_mse) - timesteps], color = 'green', label = 'Predicted Crude Oil Prices with MSE')\n",
    "plt.title('Crude Oil Prices Prediction - MSE loss')\n",
    "plt.xlabel('Time')\n",
    "plt.ylabel('Crude Oil Prices (U.S. $)')\n",
    "plt.legend()\n",
    "plt.show()"
   ]
  },
  {
   "cell_type": "markdown",
   "metadata": {},
   "source": [
    "## Evaluation MSE loss prediction"
   ]
  },
  {
   "cell_type": "code",
   "execution_count": 43,
   "metadata": {},
   "outputs": [
    {
     "name": "stdout",
     "output_type": "stream",
     "text": [
      "2.0193762509331328\n"
     ]
    }
   ],
   "source": [
    "# RMSE evaluation on MSE loss prediction. The RMSE has the useful property of being in the same units as the response variable (US $).\n",
    "rmse = math.sqrt(mean_squared_error(test_set[timesteps:len(pred_mse)], pred_mse[0:len(pred_mse) - timesteps]))\n",
    "print(rmse)"
   ]
  },
  {
   "cell_type": "code",
   "execution_count": 44,
   "metadata": {},
   "outputs": [
    {
     "name": "stdout",
     "output_type": "stream",
     "text": [
      "Mean prediction price:  61.03658620689655\n"
     ]
    }
   ],
   "source": [
    "mean_mse = np.mean(np.float64(test_set[timesteps:len(pred_mse)]))\n",
    "print(\"Mean prediction price: \",mean)"
   ]
  },
  {
   "cell_type": "code",
   "execution_count": 45,
   "metadata": {},
   "outputs": [
    {
     "data": {
      "text/plain": [
       "3.30846853735893"
      ]
     },
     "execution_count": 45,
     "metadata": {},
     "output_type": "execute_result"
    }
   ],
   "source": [
    "rmse/mean_mse * 100"
   ]
  },
  {
   "cell_type": "code",
   "execution_count": 46,
   "metadata": {},
   "outputs": [
    {
     "name": "stdout",
     "output_type": "stream",
     "text": [
      "1.601050466340164\n"
     ]
    }
   ],
   "source": [
    "# MSE evaluation on MSE loss prediction\n",
    "mae = mean_absolute_error(test_set[timesteps:len(pred_mse)], pred_mse[0:len(pred_mse) - timesteps])\n",
    "print(mae)"
   ]
  },
  {
   "cell_type": "code",
   "execution_count": 47,
   "metadata": {},
   "outputs": [
    {
     "data": {
      "text/plain": [
       "2.623099628988196"
      ]
     },
     "execution_count": 47,
     "metadata": {},
     "output_type": "execute_result"
    }
   ],
   "source": [
    "mae/mean_mse * 100"
   ]
  },
  {
   "cell_type": "code",
   "execution_count": null,
   "metadata": {},
   "outputs": [],
   "source": []
  }
 ],
 "metadata": {
  "celltoolbar": "Attachments",
  "kernelspec": {
   "display_name": "Python 3",
   "language": "python",
   "name": "python3"
  },
  "language_info": {
   "codemirror_mode": {
    "name": "ipython",
    "version": 3
   },
   "file_extension": ".py",
   "mimetype": "text/x-python",
   "name": "python",
   "nbconvert_exporter": "python",
   "pygments_lexer": "ipython3",
   "version": "3.6.9"
  }
 },
 "nbformat": 4,
 "nbformat_minor": 4
}
