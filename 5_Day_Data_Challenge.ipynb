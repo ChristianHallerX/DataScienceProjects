{
 "cells": [
  {
   "cell_type": "markdown",
   "metadata": {},
   "source": [
    "# The 5 Day Data Challenge ( https://www.kaggle.com/rtatman/the-5-day-data-challenge )\n",
    "\n",
    "With the 1000 Cameras data set. ( https://www.kaggle.com/crawford/1000-cameras-dataset/ )\n",
    "\n",
    "and the FAA Aircraft Wildlife Strike data set. ( https://www.kaggle.com/faa/wildlife-strikes )\n",
    "\n",
    "## Day 1: Reading data into a kernel  (1000 Cameras data set)\n",
    "\n",
    "Step 1: Start a new kernel.\n",
    "\n",
    "Step 2: Pick your language."
   ]
  },
  {
   "cell_type": "code",
   "execution_count": 1,
   "metadata": {},
   "outputs": [],
   "source": [
    "import os\n",
    "import zipfile\n",
    "import kaggle\n",
    "import numpy as np\n",
    "import pandas as pd"
   ]
  },
  {
   "cell_type": "code",
   "execution_count": 3,
   "metadata": {},
   "outputs": [
    {
     "name": "stdout",
     "output_type": "stream",
     "text": [
      "1000-cameras-dataset.zip: Skipping, found more recently modified local copy (use --force to force download)\n"
     ]
    }
   ],
   "source": [
    "# use the Kaggle API to download the desired data set\n",
    "!kaggle datasets download -d crawford/1000-cameras-dataset"
   ]
  },
  {
   "cell_type": "markdown",
   "metadata": {},
   "source": [
    "The zip file needs to be unpacked to get to the csv"
   ]
  },
  {
   "cell_type": "code",
   "execution_count": 4,
   "metadata": {},
   "outputs": [],
   "source": [
    "# get the current working directory where the zip is stored\n",
    "cwd = os.getcwd()\n",
    "\n",
    "with zipfile.ZipFile(\"1000-cameras-dataset.zip\",\"r\") as zip_ref:\n",
    "    zip_ref.extractall(cwd)"
   ]
  },
  {
   "cell_type": "markdown",
   "metadata": {},
   "source": [
    "Step 3: Read your data into a dataframe"
   ]
  },
  {
   "cell_type": "code",
   "execution_count": 5,
   "metadata": {},
   "outputs": [
    {
     "data": {
      "text/html": [
       "<div>\n",
       "<style scoped>\n",
       "    .dataframe tbody tr th:only-of-type {\n",
       "        vertical-align: middle;\n",
       "    }\n",
       "\n",
       "    .dataframe tbody tr th {\n",
       "        vertical-align: top;\n",
       "    }\n",
       "\n",
       "    .dataframe thead th {\n",
       "        text-align: right;\n",
       "    }\n",
       "</style>\n",
       "<table border=\"1\" class=\"dataframe\">\n",
       "  <thead>\n",
       "    <tr style=\"text-align: right;\">\n",
       "      <th></th>\n",
       "      <th>Model</th>\n",
       "      <th>Release date</th>\n",
       "      <th>Max resolution</th>\n",
       "      <th>Low resolution</th>\n",
       "      <th>Effective pixels</th>\n",
       "      <th>Zoom wide (W)</th>\n",
       "      <th>Zoom tele (T)</th>\n",
       "      <th>Normal focus range</th>\n",
       "      <th>Macro focus range</th>\n",
       "      <th>Storage included</th>\n",
       "      <th>Weight (inc. batteries)</th>\n",
       "      <th>Dimensions</th>\n",
       "      <th>Price</th>\n",
       "    </tr>\n",
       "  </thead>\n",
       "  <tbody>\n",
       "    <tr>\n",
       "      <td>0</td>\n",
       "      <td>Agfa ePhoto 1280</td>\n",
       "      <td>1997</td>\n",
       "      <td>1024.0</td>\n",
       "      <td>640.0</td>\n",
       "      <td>0.0</td>\n",
       "      <td>38.0</td>\n",
       "      <td>114.0</td>\n",
       "      <td>70.0</td>\n",
       "      <td>40.0</td>\n",
       "      <td>4.0</td>\n",
       "      <td>420.0</td>\n",
       "      <td>95.0</td>\n",
       "      <td>179.0</td>\n",
       "    </tr>\n",
       "    <tr>\n",
       "      <td>1</td>\n",
       "      <td>Agfa ePhoto 1680</td>\n",
       "      <td>1998</td>\n",
       "      <td>1280.0</td>\n",
       "      <td>640.0</td>\n",
       "      <td>1.0</td>\n",
       "      <td>38.0</td>\n",
       "      <td>114.0</td>\n",
       "      <td>50.0</td>\n",
       "      <td>0.0</td>\n",
       "      <td>4.0</td>\n",
       "      <td>420.0</td>\n",
       "      <td>158.0</td>\n",
       "      <td>179.0</td>\n",
       "    </tr>\n",
       "    <tr>\n",
       "      <td>2</td>\n",
       "      <td>Agfa ePhoto CL18</td>\n",
       "      <td>2000</td>\n",
       "      <td>640.0</td>\n",
       "      <td>0.0</td>\n",
       "      <td>0.0</td>\n",
       "      <td>45.0</td>\n",
       "      <td>45.0</td>\n",
       "      <td>0.0</td>\n",
       "      <td>0.0</td>\n",
       "      <td>2.0</td>\n",
       "      <td>0.0</td>\n",
       "      <td>0.0</td>\n",
       "      <td>179.0</td>\n",
       "    </tr>\n",
       "    <tr>\n",
       "      <td>3</td>\n",
       "      <td>Agfa ePhoto CL30</td>\n",
       "      <td>1999</td>\n",
       "      <td>1152.0</td>\n",
       "      <td>640.0</td>\n",
       "      <td>0.0</td>\n",
       "      <td>35.0</td>\n",
       "      <td>35.0</td>\n",
       "      <td>0.0</td>\n",
       "      <td>0.0</td>\n",
       "      <td>4.0</td>\n",
       "      <td>0.0</td>\n",
       "      <td>0.0</td>\n",
       "      <td>269.0</td>\n",
       "    </tr>\n",
       "    <tr>\n",
       "      <td>4</td>\n",
       "      <td>Agfa ePhoto CL30 Clik!</td>\n",
       "      <td>1999</td>\n",
       "      <td>1152.0</td>\n",
       "      <td>640.0</td>\n",
       "      <td>0.0</td>\n",
       "      <td>43.0</td>\n",
       "      <td>43.0</td>\n",
       "      <td>50.0</td>\n",
       "      <td>0.0</td>\n",
       "      <td>40.0</td>\n",
       "      <td>300.0</td>\n",
       "      <td>128.0</td>\n",
       "      <td>1299.0</td>\n",
       "    </tr>\n",
       "  </tbody>\n",
       "</table>\n",
       "</div>"
      ],
      "text/plain": [
       "                    Model  Release date  Max resolution  Low resolution  \\\n",
       "0        Agfa ePhoto 1280          1997          1024.0           640.0   \n",
       "1        Agfa ePhoto 1680          1998          1280.0           640.0   \n",
       "2        Agfa ePhoto CL18          2000           640.0             0.0   \n",
       "3        Agfa ePhoto CL30          1999          1152.0           640.0   \n",
       "4  Agfa ePhoto CL30 Clik!          1999          1152.0           640.0   \n",
       "\n",
       "   Effective pixels  Zoom wide (W)  Zoom tele (T)  Normal focus range  \\\n",
       "0               0.0           38.0          114.0                70.0   \n",
       "1               1.0           38.0          114.0                50.0   \n",
       "2               0.0           45.0           45.0                 0.0   \n",
       "3               0.0           35.0           35.0                 0.0   \n",
       "4               0.0           43.0           43.0                50.0   \n",
       "\n",
       "   Macro focus range  Storage included  Weight (inc. batteries)  Dimensions  \\\n",
       "0               40.0               4.0                    420.0        95.0   \n",
       "1                0.0               4.0                    420.0       158.0   \n",
       "2                0.0               2.0                      0.0         0.0   \n",
       "3                0.0               4.0                      0.0         0.0   \n",
       "4                0.0              40.0                    300.0       128.0   \n",
       "\n",
       "    Price  \n",
       "0   179.0  \n",
       "1   179.0  \n",
       "2   179.0  \n",
       "3   269.0  \n",
       "4  1299.0  "
      ]
     },
     "execution_count": 5,
     "metadata": {},
     "output_type": "execute_result"
    }
   ],
   "source": [
    "df = pd.read_csv(\"Camera_dataset.csv\")\n",
    "df.head()\n",
    "# what unit is \"Dimensions\"?"
   ]
  },
  {
   "cell_type": "markdown",
   "metadata": {},
   "source": [
    "Step 4: Summarize your data"
   ]
  },
  {
   "cell_type": "code",
   "execution_count": 6,
   "metadata": {},
   "outputs": [
    {
     "data": {
      "text/html": [
       "<div>\n",
       "<style scoped>\n",
       "    .dataframe tbody tr th:only-of-type {\n",
       "        vertical-align: middle;\n",
       "    }\n",
       "\n",
       "    .dataframe tbody tr th {\n",
       "        vertical-align: top;\n",
       "    }\n",
       "\n",
       "    .dataframe thead th {\n",
       "        text-align: right;\n",
       "    }\n",
       "</style>\n",
       "<table border=\"1\" class=\"dataframe\">\n",
       "  <thead>\n",
       "    <tr style=\"text-align: right;\">\n",
       "      <th></th>\n",
       "      <th>Release date</th>\n",
       "      <th>Max resolution</th>\n",
       "      <th>Low resolution</th>\n",
       "      <th>Effective pixels</th>\n",
       "      <th>Zoom wide (W)</th>\n",
       "      <th>Zoom tele (T)</th>\n",
       "      <th>Normal focus range</th>\n",
       "      <th>Macro focus range</th>\n",
       "      <th>Storage included</th>\n",
       "      <th>Weight (inc. batteries)</th>\n",
       "      <th>Dimensions</th>\n",
       "      <th>Price</th>\n",
       "    </tr>\n",
       "  </thead>\n",
       "  <tbody>\n",
       "    <tr>\n",
       "      <td>count</td>\n",
       "      <td>1038.000000</td>\n",
       "      <td>1038.000000</td>\n",
       "      <td>1038.000000</td>\n",
       "      <td>1038.000000</td>\n",
       "      <td>1038.000000</td>\n",
       "      <td>1038.000000</td>\n",
       "      <td>1038.000000</td>\n",
       "      <td>1037.000000</td>\n",
       "      <td>1036.000000</td>\n",
       "      <td>1036.000000</td>\n",
       "      <td>1036.000000</td>\n",
       "      <td>1038.000000</td>\n",
       "    </tr>\n",
       "    <tr>\n",
       "      <td>mean</td>\n",
       "      <td>2003.590559</td>\n",
       "      <td>2474.672447</td>\n",
       "      <td>1773.936416</td>\n",
       "      <td>4.596339</td>\n",
       "      <td>32.963391</td>\n",
       "      <td>121.525048</td>\n",
       "      <td>44.145472</td>\n",
       "      <td>7.787850</td>\n",
       "      <td>17.447876</td>\n",
       "      <td>319.265444</td>\n",
       "      <td>105.363417</td>\n",
       "      <td>457.384393</td>\n",
       "    </tr>\n",
       "    <tr>\n",
       "      <td>std</td>\n",
       "      <td>2.724755</td>\n",
       "      <td>759.513608</td>\n",
       "      <td>830.897955</td>\n",
       "      <td>2.844044</td>\n",
       "      <td>10.333149</td>\n",
       "      <td>93.455422</td>\n",
       "      <td>24.141959</td>\n",
       "      <td>8.100081</td>\n",
       "      <td>27.440655</td>\n",
       "      <td>260.410137</td>\n",
       "      <td>24.262761</td>\n",
       "      <td>760.452918</td>\n",
       "    </tr>\n",
       "    <tr>\n",
       "      <td>min</td>\n",
       "      <td>1994.000000</td>\n",
       "      <td>0.000000</td>\n",
       "      <td>0.000000</td>\n",
       "      <td>0.000000</td>\n",
       "      <td>0.000000</td>\n",
       "      <td>0.000000</td>\n",
       "      <td>0.000000</td>\n",
       "      <td>0.000000</td>\n",
       "      <td>0.000000</td>\n",
       "      <td>0.000000</td>\n",
       "      <td>0.000000</td>\n",
       "      <td>14.000000</td>\n",
       "    </tr>\n",
       "    <tr>\n",
       "      <td>25%</td>\n",
       "      <td>2002.000000</td>\n",
       "      <td>2048.000000</td>\n",
       "      <td>1120.000000</td>\n",
       "      <td>3.000000</td>\n",
       "      <td>35.000000</td>\n",
       "      <td>96.000000</td>\n",
       "      <td>30.000000</td>\n",
       "      <td>3.000000</td>\n",
       "      <td>8.000000</td>\n",
       "      <td>180.000000</td>\n",
       "      <td>92.000000</td>\n",
       "      <td>149.000000</td>\n",
       "    </tr>\n",
       "    <tr>\n",
       "      <td>50%</td>\n",
       "      <td>2004.000000</td>\n",
       "      <td>2560.000000</td>\n",
       "      <td>2048.000000</td>\n",
       "      <td>4.000000</td>\n",
       "      <td>36.000000</td>\n",
       "      <td>108.000000</td>\n",
       "      <td>50.000000</td>\n",
       "      <td>6.000000</td>\n",
       "      <td>16.000000</td>\n",
       "      <td>226.000000</td>\n",
       "      <td>101.000000</td>\n",
       "      <td>199.000000</td>\n",
       "    </tr>\n",
       "    <tr>\n",
       "      <td>75%</td>\n",
       "      <td>2006.000000</td>\n",
       "      <td>3072.000000</td>\n",
       "      <td>2560.000000</td>\n",
       "      <td>7.000000</td>\n",
       "      <td>38.000000</td>\n",
       "      <td>117.000000</td>\n",
       "      <td>60.000000</td>\n",
       "      <td>10.000000</td>\n",
       "      <td>20.000000</td>\n",
       "      <td>350.000000</td>\n",
       "      <td>115.000000</td>\n",
       "      <td>399.000000</td>\n",
       "    </tr>\n",
       "    <tr>\n",
       "      <td>max</td>\n",
       "      <td>2007.000000</td>\n",
       "      <td>5616.000000</td>\n",
       "      <td>4992.000000</td>\n",
       "      <td>21.000000</td>\n",
       "      <td>52.000000</td>\n",
       "      <td>518.000000</td>\n",
       "      <td>120.000000</td>\n",
       "      <td>85.000000</td>\n",
       "      <td>450.000000</td>\n",
       "      <td>1860.000000</td>\n",
       "      <td>240.000000</td>\n",
       "      <td>7999.000000</td>\n",
       "    </tr>\n",
       "  </tbody>\n",
       "</table>\n",
       "</div>"
      ],
      "text/plain": [
       "       Release date  Max resolution  Low resolution  Effective pixels  \\\n",
       "count   1038.000000     1038.000000     1038.000000       1038.000000   \n",
       "mean    2003.590559     2474.672447     1773.936416          4.596339   \n",
       "std        2.724755      759.513608      830.897955          2.844044   \n",
       "min     1994.000000        0.000000        0.000000          0.000000   \n",
       "25%     2002.000000     2048.000000     1120.000000          3.000000   \n",
       "50%     2004.000000     2560.000000     2048.000000          4.000000   \n",
       "75%     2006.000000     3072.000000     2560.000000          7.000000   \n",
       "max     2007.000000     5616.000000     4992.000000         21.000000   \n",
       "\n",
       "       Zoom wide (W)  Zoom tele (T)  Normal focus range  Macro focus range  \\\n",
       "count    1038.000000    1038.000000         1038.000000        1037.000000   \n",
       "mean       32.963391     121.525048           44.145472           7.787850   \n",
       "std        10.333149      93.455422           24.141959           8.100081   \n",
       "min         0.000000       0.000000            0.000000           0.000000   \n",
       "25%        35.000000      96.000000           30.000000           3.000000   \n",
       "50%        36.000000     108.000000           50.000000           6.000000   \n",
       "75%        38.000000     117.000000           60.000000          10.000000   \n",
       "max        52.000000     518.000000          120.000000          85.000000   \n",
       "\n",
       "       Storage included  Weight (inc. batteries)   Dimensions        Price  \n",
       "count       1036.000000              1036.000000  1036.000000  1038.000000  \n",
       "mean          17.447876               319.265444   105.363417   457.384393  \n",
       "std           27.440655               260.410137    24.262761   760.452918  \n",
       "min            0.000000                 0.000000     0.000000    14.000000  \n",
       "25%            8.000000               180.000000    92.000000   149.000000  \n",
       "50%           16.000000               226.000000   101.000000   199.000000  \n",
       "75%           20.000000               350.000000   115.000000   399.000000  \n",
       "max          450.000000              1860.000000   240.000000  7999.000000  "
      ]
     },
     "execution_count": 6,
     "metadata": {},
     "output_type": "execute_result"
    }
   ],
   "source": [
    "df.describe()"
   ]
  },
  {
   "cell_type": "code",
   "execution_count": 7,
   "metadata": {},
   "outputs": [
    {
     "data": {
      "text/html": [
       "<div>\n",
       "<style scoped>\n",
       "    .dataframe tbody tr th:only-of-type {\n",
       "        vertical-align: middle;\n",
       "    }\n",
       "\n",
       "    .dataframe tbody tr th {\n",
       "        vertical-align: top;\n",
       "    }\n",
       "\n",
       "    .dataframe thead th {\n",
       "        text-align: right;\n",
       "    }\n",
       "</style>\n",
       "<table border=\"1\" class=\"dataframe\">\n",
       "  <thead>\n",
       "    <tr style=\"text-align: right;\">\n",
       "      <th></th>\n",
       "      <th>count</th>\n",
       "      <th>mean</th>\n",
       "      <th>std</th>\n",
       "      <th>min</th>\n",
       "      <th>25%</th>\n",
       "      <th>50%</th>\n",
       "      <th>75%</th>\n",
       "      <th>max</th>\n",
       "    </tr>\n",
       "  </thead>\n",
       "  <tbody>\n",
       "    <tr>\n",
       "      <td>Release date</td>\n",
       "      <td>1038.0</td>\n",
       "      <td>2003.590559</td>\n",
       "      <td>2.724755</td>\n",
       "      <td>1994.0</td>\n",
       "      <td>2002.0</td>\n",
       "      <td>2004.0</td>\n",
       "      <td>2006.0</td>\n",
       "      <td>2007.0</td>\n",
       "    </tr>\n",
       "    <tr>\n",
       "      <td>Max resolution</td>\n",
       "      <td>1038.0</td>\n",
       "      <td>2474.672447</td>\n",
       "      <td>759.513608</td>\n",
       "      <td>0.0</td>\n",
       "      <td>2048.0</td>\n",
       "      <td>2560.0</td>\n",
       "      <td>3072.0</td>\n",
       "      <td>5616.0</td>\n",
       "    </tr>\n",
       "    <tr>\n",
       "      <td>Low resolution</td>\n",
       "      <td>1038.0</td>\n",
       "      <td>1773.936416</td>\n",
       "      <td>830.897955</td>\n",
       "      <td>0.0</td>\n",
       "      <td>1120.0</td>\n",
       "      <td>2048.0</td>\n",
       "      <td>2560.0</td>\n",
       "      <td>4992.0</td>\n",
       "    </tr>\n",
       "    <tr>\n",
       "      <td>Effective pixels</td>\n",
       "      <td>1038.0</td>\n",
       "      <td>4.596339</td>\n",
       "      <td>2.844044</td>\n",
       "      <td>0.0</td>\n",
       "      <td>3.0</td>\n",
       "      <td>4.0</td>\n",
       "      <td>7.0</td>\n",
       "      <td>21.0</td>\n",
       "    </tr>\n",
       "    <tr>\n",
       "      <td>Zoom wide (W)</td>\n",
       "      <td>1038.0</td>\n",
       "      <td>32.963391</td>\n",
       "      <td>10.333149</td>\n",
       "      <td>0.0</td>\n",
       "      <td>35.0</td>\n",
       "      <td>36.0</td>\n",
       "      <td>38.0</td>\n",
       "      <td>52.0</td>\n",
       "    </tr>\n",
       "    <tr>\n",
       "      <td>Zoom tele (T)</td>\n",
       "      <td>1038.0</td>\n",
       "      <td>121.525048</td>\n",
       "      <td>93.455422</td>\n",
       "      <td>0.0</td>\n",
       "      <td>96.0</td>\n",
       "      <td>108.0</td>\n",
       "      <td>117.0</td>\n",
       "      <td>518.0</td>\n",
       "    </tr>\n",
       "    <tr>\n",
       "      <td>Normal focus range</td>\n",
       "      <td>1038.0</td>\n",
       "      <td>44.145472</td>\n",
       "      <td>24.141959</td>\n",
       "      <td>0.0</td>\n",
       "      <td>30.0</td>\n",
       "      <td>50.0</td>\n",
       "      <td>60.0</td>\n",
       "      <td>120.0</td>\n",
       "    </tr>\n",
       "    <tr>\n",
       "      <td>Macro focus range</td>\n",
       "      <td>1037.0</td>\n",
       "      <td>7.787850</td>\n",
       "      <td>8.100081</td>\n",
       "      <td>0.0</td>\n",
       "      <td>3.0</td>\n",
       "      <td>6.0</td>\n",
       "      <td>10.0</td>\n",
       "      <td>85.0</td>\n",
       "    </tr>\n",
       "    <tr>\n",
       "      <td>Storage included</td>\n",
       "      <td>1036.0</td>\n",
       "      <td>17.447876</td>\n",
       "      <td>27.440655</td>\n",
       "      <td>0.0</td>\n",
       "      <td>8.0</td>\n",
       "      <td>16.0</td>\n",
       "      <td>20.0</td>\n",
       "      <td>450.0</td>\n",
       "    </tr>\n",
       "    <tr>\n",
       "      <td>Weight (inc. batteries)</td>\n",
       "      <td>1036.0</td>\n",
       "      <td>319.265444</td>\n",
       "      <td>260.410137</td>\n",
       "      <td>0.0</td>\n",
       "      <td>180.0</td>\n",
       "      <td>226.0</td>\n",
       "      <td>350.0</td>\n",
       "      <td>1860.0</td>\n",
       "    </tr>\n",
       "    <tr>\n",
       "      <td>Dimensions</td>\n",
       "      <td>1036.0</td>\n",
       "      <td>105.363417</td>\n",
       "      <td>24.262761</td>\n",
       "      <td>0.0</td>\n",
       "      <td>92.0</td>\n",
       "      <td>101.0</td>\n",
       "      <td>115.0</td>\n",
       "      <td>240.0</td>\n",
       "    </tr>\n",
       "    <tr>\n",
       "      <td>Price</td>\n",
       "      <td>1038.0</td>\n",
       "      <td>457.384393</td>\n",
       "      <td>760.452918</td>\n",
       "      <td>14.0</td>\n",
       "      <td>149.0</td>\n",
       "      <td>199.0</td>\n",
       "      <td>399.0</td>\n",
       "      <td>7999.0</td>\n",
       "    </tr>\n",
       "  </tbody>\n",
       "</table>\n",
       "</div>"
      ],
      "text/plain": [
       "                          count         mean         std     min     25%  \\\n",
       "Release date             1038.0  2003.590559    2.724755  1994.0  2002.0   \n",
       "Max resolution           1038.0  2474.672447  759.513608     0.0  2048.0   \n",
       "Low resolution           1038.0  1773.936416  830.897955     0.0  1120.0   \n",
       "Effective pixels         1038.0     4.596339    2.844044     0.0     3.0   \n",
       "Zoom wide (W)            1038.0    32.963391   10.333149     0.0    35.0   \n",
       "Zoom tele (T)            1038.0   121.525048   93.455422     0.0    96.0   \n",
       "Normal focus range       1038.0    44.145472   24.141959     0.0    30.0   \n",
       "Macro focus range        1037.0     7.787850    8.100081     0.0     3.0   \n",
       "Storage included         1036.0    17.447876   27.440655     0.0     8.0   \n",
       "Weight (inc. batteries)  1036.0   319.265444  260.410137     0.0   180.0   \n",
       "Dimensions               1036.0   105.363417   24.262761     0.0    92.0   \n",
       "Price                    1038.0   457.384393  760.452918    14.0   149.0   \n",
       "\n",
       "                            50%     75%     max  \n",
       "Release date             2004.0  2006.0  2007.0  \n",
       "Max resolution           2560.0  3072.0  5616.0  \n",
       "Low resolution           2048.0  2560.0  4992.0  \n",
       "Effective pixels            4.0     7.0    21.0  \n",
       "Zoom wide (W)              36.0    38.0    52.0  \n",
       "Zoom tele (T)             108.0   117.0   518.0  \n",
       "Normal focus range         50.0    60.0   120.0  \n",
       "Macro focus range           6.0    10.0    85.0  \n",
       "Storage included           16.0    20.0   450.0  \n",
       "Weight (inc. batteries)   226.0   350.0  1860.0  \n",
       "Dimensions                101.0   115.0   240.0  \n",
       "Price                     199.0   399.0  7999.0  "
      ]
     },
     "execution_count": 7,
     "metadata": {},
     "output_type": "execute_result"
    }
   ],
   "source": [
    "df.describe().transpose()"
   ]
  },
  {
   "cell_type": "code",
   "execution_count": 8,
   "metadata": {},
   "outputs": [
    {
     "data": {
      "text/plain": [
       "True"
      ]
     },
     "execution_count": 8,
     "metadata": {},
     "output_type": "execute_result"
    }
   ],
   "source": [
    "df.isnull().values.any()"
   ]
  },
  {
   "cell_type": "markdown",
   "metadata": {},
   "source": [
    "It looks like almost all camera models are completely described. Only \"Macro Focus Range\", \"Storage Included\", \"Weight\", and \"Dimensions\" are lacking either one or two entries."
   ]
  },
  {
   "cell_type": "code",
   "execution_count": 9,
   "metadata": {},
   "outputs": [
    {
     "data": {
      "text/plain": [
       "Model                       object\n",
       "Release date                 int64\n",
       "Max resolution             float64\n",
       "Low resolution             float64\n",
       "Effective pixels           float64\n",
       "Zoom wide (W)              float64\n",
       "Zoom tele (T)              float64\n",
       "Normal focus range         float64\n",
       "Macro focus range          float64\n",
       "Storage included           float64\n",
       "Weight (inc. batteries)    float64\n",
       "Dimensions                 float64\n",
       "Price                      float64\n",
       "dtype: object"
      ]
     },
     "execution_count": 9,
     "metadata": {},
     "output_type": "execute_result"
    }
   ],
   "source": [
    "# All columns are float type except for the \"Release Date\", which is just the year.\n",
    "df.dtypes"
   ]
  },
  {
   "cell_type": "markdown",
   "metadata": {},
   "source": [
    "## Day 2: Plot histograms of numeric columns"
   ]
  },
  {
   "cell_type": "code",
   "execution_count": 10,
   "metadata": {},
   "outputs": [],
   "source": [
    " import matplotlib.pyplot as plt\n",
    "\n",
    "bins = df[\"Release date\"].max() - df[\"Release date\"].min() +1\n",
    "\n",
    "plt.hist(df[\"Release date\"], bins = bins)\n",
    "plt.title(\"Release date\")\n",
    "plt.xlabel(\"Year\")\n",
    "plt.ylabel('n camera models')\n",
    "plt.grid(\"true\")\n",
    "# Number of released models increased each year"
   ]
  },
  {
   "cell_type": "code",
   "execution_count": 11,
   "metadata": {},
   "outputs": [
    {
     "data": {
      "image/png": "[encoded data removed]",
      "text/plain": [
       "<Figure size 432x288 with 1 Axes>"
      ]
     },
     "metadata": {
      "needs_background": "light"
     },
     "output_type": "display_data"
    }
   ],
   "source": [
    "plt.hist(df[\"Max resolution\"], bins=15)\n",
    "plt.title('Max resolution')\n",
    "plt.xlabel(\"Pixels\")\n",
    "plt.ylabel('n camera models')\n",
    "plt.grid(\"true\")"
   ]
  },
  {
   "cell_type": "code",
   "execution_count": 12,
   "metadata": {},
   "outputs": [
    {
     "data": {
      "image/png": "[encoded data removed]",
      "text/plain": [
       "<Figure size 432x288 with 1 Axes>"
      ]
     },
     "metadata": {
      "needs_background": "light"
     },
     "output_type": "display_data"
    }
   ],
   "source": [
    "plt.hist(df[\"Low resolution\"], bins=15)\n",
    "plt.title('Low resolution')\n",
    "plt.xlabel(\"Pixels\")\n",
    "plt.ylabel('n camera models')\n",
    "plt.grid(\"true\")"
   ]
  },
  {
   "cell_type": "code",
   "execution_count": 13,
   "metadata": {},
   "outputs": [
    {
     "data": {
      "image/png": "[encoded data removed]",
      "text/plain": [
       "<Figure size 432x288 with 1 Axes>"
      ]
     },
     "metadata": {
      "needs_background": "light"
     },
     "output_type": "display_data"
    }
   ],
   "source": [
    "plt.hist(df[\"Effective pixels\"], bins=15)\n",
    "plt.title('Effective pixels')\n",
    "plt.xlabel(\"MP\")\n",
    "plt.ylabel('n camera models')\n",
    "plt.grid(\"true\")"
   ]
  },
  {
   "cell_type": "code",
   "execution_count": 14,
   "metadata": {},
   "outputs": [
    {
     "data": {
      "image/png": "[encoded data removed]",
      "text/plain": [
       "<Figure size 432x288 with 1 Axes>"
      ]
     },
     "metadata": {
      "needs_background": "light"
     },
     "output_type": "display_data"
    }
   ],
   "source": [
    "plt.hist(df[\"Zoom wide (W)\"], bins=15)\n",
    "plt.title('Zoom wide (W)')\n",
    "plt.xlabel(\"millimeter\")\n",
    "plt.ylabel('n camera models')\n",
    "plt.grid(\"true\")"
   ]
  },
  {
   "cell_type": "code",
   "execution_count": 15,
   "metadata": {},
   "outputs": [
    {
     "data": {
      "image/png": "[encoded data removed]",
      "text/plain": [
       "<Figure size 432x288 with 1 Axes>"
      ]
     },
     "metadata": {
      "needs_background": "light"
     },
     "output_type": "display_data"
    }
   ],
   "source": [
    "plt.hist(df['Zoom tele (T)'], bins=15)\n",
    "plt.title('Zoom tele (T)')\n",
    "plt.xlabel(\"millimeter\")\n",
    "plt.ylabel('n camera models')\n",
    "plt.grid(\"true\")"
   ]
  },
  {
   "cell_type": "code",
   "execution_count": 16,
   "metadata": {},
   "outputs": [
    {
     "data": {
      "image/png": "[encoded data removed]",
      "text/plain": [
       "<Figure size 432x288 with 1 Axes>"
      ]
     },
     "metadata": {
      "needs_background": "light"
     },
     "output_type": "display_data"
    }
   ],
   "source": [
    "# not sure what this feature means....\n",
    "plt.hist(df['Normal focus range'], bins=15)\n",
    "plt.title('Normal focus range')\n",
    "plt.xlabel(\"millimeter\")\n",
    "plt.ylabel('n camera models')\n",
    "plt.grid(\"true\")"
   ]
  },
  {
   "cell_type": "code",
   "execution_count": 17,
   "metadata": {},
   "outputs": [
    {
     "name": "stderr",
     "output_type": "stream",
     "text": [
      "C:\\Users\\ChristianLaptop\\Anaconda3\\lib\\site-packages\\numpy\\lib\\histograms.py:824: RuntimeWarning: invalid value encountered in greater_equal\n",
      "  keep = (tmp_a >= first_edge)\n",
      "C:\\Users\\ChristianLaptop\\Anaconda3\\lib\\site-packages\\numpy\\lib\\histograms.py:825: RuntimeWarning: invalid value encountered in less_equal\n",
      "  keep &= (tmp_a <= last_edge)\n"
     ]
    },
    {
     "data": {
      "image/png": "[encoded data removed]",
      "text/plain": [
       "<Figure size 432x288 with 1 Axes>"
      ]
     },
     "metadata": {
      "needs_background": "light"
     },
     "output_type": "display_data"
    }
   ],
   "source": [
    "# the nearest distance between the camera and the subject such that the camera can take clear and in-focus shots\n",
    "plt.hist(df['Macro focus range'], bins=15)\n",
    "plt.title('Macro focus range')\n",
    "plt.xlabel(\"millimeter\")\n",
    "plt.ylabel('n camera models')\n",
    "plt.grid(\"true\")"
   ]
  },
  {
   "cell_type": "code",
   "execution_count": 18,
   "metadata": {},
   "outputs": [
    {
     "data": {
      "image/png": "[encoded data removed]",
      "text/plain": [
       "<Figure size 432x288 with 1 Axes>"
      ]
     },
     "metadata": {
      "needs_background": "light"
     },
     "output_type": "display_data"
    }
   ],
   "source": [
    "# internal memory in camera (not common anymore in newer cameras)\n",
    "plt.hist(df['Storage included'], bins=15)\n",
    "plt.title('Storage included')\n",
    "plt.xlabel(\"megabytes\")\n",
    "plt.ylabel('n camera models')\n",
    "plt.grid(\"true\")"
   ]
  },
  {
   "cell_type": "code",
   "execution_count": 19,
   "metadata": {},
   "outputs": [
    {
     "data": {
      "image/png": "[encoded data removed]",
      "text/plain": [
       "<Figure size 432x288 with 1 Axes>"
      ]
     },
     "metadata": {
      "needs_background": "light"
     },
     "output_type": "display_data"
    }
   ],
   "source": [
    "# likely measured in gram\n",
    "plt.hist(df['Weight (inc. batteries)'], bins=15)\n",
    "plt.title('Weight (inc. batteries)')\n",
    "plt.xlabel(\"gram\")\n",
    "plt.ylabel('n camera models')\n",
    "plt.grid(\"true\")"
   ]
  },
  {
   "cell_type": "code",
   "execution_count": 20,
   "metadata": {},
   "outputs": [
    {
     "data": {
      "image/png": "[encoded data removed]",
      "text/plain": [
       "<Figure size 432x288 with 1 Axes>"
      ]
     },
     "metadata": {
      "needs_background": "light"
     },
     "output_type": "display_data"
    }
   ],
   "source": [
    "# unclear unit. Volume? Max length in mm?\n",
    "plt.hist(df['Dimensions'], bins=15)\n",
    "plt.title('Dimensions')\n",
    "plt.xlabel(\"millimeter\")\n",
    "plt.ylabel('n camera models')\n",
    "plt.grid(\"true\")"
   ]
  },
  {
   "cell_type": "code",
   "execution_count": 21,
   "metadata": {},
   "outputs": [
    {
     "data": {
      "image/png": "[encoded data removed]",
      "text/plain": [
       "<Figure size 432x288 with 1 Axes>"
      ]
     },
     "metadata": {
      "needs_background": "light"
     },
     "output_type": "display_data"
    }
   ],
   "source": [
    "# unclear unit. Dollars? Euro?\n",
    "plt.hist(df['Price'], bins=15)\n",
    "plt.title('Price')\n",
    "plt.xlabel(\"Dollars\")\n",
    "plt.ylabel('n camera models')\n",
    "plt.grid(\"true\")"
   ]
  },
  {
   "cell_type": "markdown",
   "metadata": {},
   "source": [
    "## Day 3: Perform a t-test\n",
    "\n",
    "Perform a t-test with some pairs of features that seem interesting to compare."
   ]
  },
  {
   "cell_type": "code",
   "execution_count": 22,
   "metadata": {},
   "outputs": [],
   "source": [
    "from scipy import stats\n",
    "import numpy as np"
   ]
  },
  {
   "cell_type": "code",
   "execution_count": 23,
   "metadata": {},
   "outputs": [
    {
     "name": "stdout",
     "output_type": "stream",
     "text": [
      "Std Weight:  260.28442640365114\n",
      "Std Price:  760.0865225741193\n"
     ]
    },
    {
     "data": {
      "text/plain": [
       "Ttest_indResult(statistic=-5.535506668255527, pvalue=3.762350049590379e-08)"
      ]
     },
     "execution_count": 23,
     "metadata": {},
     "output_type": "execute_result"
    }
   ],
   "source": [
    "print(\"Std Weight: \",np.std(df[\"Weight (inc. batteries)\"]))\n",
    "print(\"Std Price: \",np.std(df[\"Price\"]))\n",
    "\n",
    "# we observe two independent samples from the same or different population\n",
    "stats.ttest_ind(df[\"Weight (inc. batteries)\"], df[\"Price\"], equal_var=False, nan_policy=\"omit\")\n",
    "# high probability to be different"
   ]
  },
  {
   "cell_type": "code",
   "execution_count": 24,
   "metadata": {},
   "outputs": [
    {
     "name": "stdout",
     "output_type": "stream",
     "text": [
      "Std Weight:  2.842674066168389\n",
      "Std Price:  760.0865225741193\n"
     ]
    },
    {
     "data": {
      "text/plain": [
       "Ttest_indResult(statistic=-19.183076963921863, pvalue=1.977299973484485e-70)"
      ]
     },
     "execution_count": 24,
     "metadata": {},
     "output_type": "execute_result"
    }
   ],
   "source": [
    "print(\"Std Weight: \",np.std(df[\"Effective pixels\"]))\n",
    "print(\"Std Price: \",np.std(df[\"Price\"]))\n",
    "\n",
    "stats.ttest_ind(df[\"Effective pixels\"], df[\"Price\"], equal_var=False)\n",
    "# high probability to be different"
   ]
  },
  {
   "cell_type": "markdown",
   "metadata": {},
   "source": [
    "## Day: 4 Visualize categorical data with a bar chart (FAA Wildlife Strike data set)\n",
    "\n",
    "Load a new categorical file from Kaggle. Here: a airplane wildlife strike data set."
   ]
  },
  {
   "cell_type": "code",
   "execution_count": 25,
   "metadata": {},
   "outputs": [],
   "source": [
    "import os\n",
    "import zipfile\n",
    "import kaggle"
   ]
  },
  {
   "cell_type": "code",
   "execution_count": 26,
   "metadata": {},
   "outputs": [
    {
     "name": "stdout",
     "output_type": "stream",
     "text": [
      "Downloading wildlife-strikes.zip to C:\\Users\\ChristianLaptop\n",
      "\n"
     ]
    },
    {
     "name": "stderr",
     "output_type": "stream",
     "text": [
      "\n",
      "  0%|          | 0.00/4.83M [00:00<?, ?B/s]\n",
      " 21%|##        | 1.00M/4.83M [00:00<00:01, 3.73MB/s]\n",
      " 41%|####1     | 2.00M/4.83M [00:00<00:00, 4.14MB/s]\n",
      " 62%|######2   | 3.00M/4.83M [00:00<00:00, 4.40MB/s]\n",
      " 83%|########2 | 4.00M/4.83M [00:00<00:00, 4.70MB/s]\n",
      "100%|##########| 4.83M/4.83M [00:01<00:00, 4.94MB/s]\n",
      "100%|##########| 4.83M/4.83M [00:01<00:00, 4.99MB/s]\n"
     ]
    }
   ],
   "source": [
    "!kaggle datasets download -d faa/wildlife-strikes"
   ]
  },
  {
   "cell_type": "code",
   "execution_count": 27,
   "metadata": {},
   "outputs": [],
   "source": [
    "cwd = os.getcwd()\n",
    "\n",
    "with zipfile.ZipFile(\"wildlife-strikes.zip\",\"r\") as zip_ref:\n",
    "    zip_ref.extractall(cwd)"
   ]
  },
  {
   "cell_type": "code",
   "execution_count": 28,
   "metadata": {},
   "outputs": [
    {
     "name": "stderr",
     "output_type": "stream",
     "text": [
      "C:\\Users\\ChristianLaptop\\Anaconda3\\lib\\site-packages\\IPython\\core\\interactiveshell.py:3058: DtypeWarning: Columns (9,12,15,17) have mixed types. Specify dtype option on import or set low_memory=False.\n",
      "  interactivity=interactivity, compiler=compiler, result=result)\n"
     ]
    },
    {
     "name": "stdout",
     "output_type": "stream",
     "text": [
      "The dataset contains 174104 entries and 66 features.\n"
     ]
    },
    {
     "data": {
      "text/html": [
       "<div>\n",
       "<style scoped>\n",
       "    .dataframe tbody tr th:only-of-type {\n",
       "        vertical-align: middle;\n",
       "    }\n",
       "\n",
       "    .dataframe tbody tr th {\n",
       "        vertical-align: top;\n",
       "    }\n",
       "\n",
       "    .dataframe thead th {\n",
       "        text-align: right;\n",
       "    }\n",
       "</style>\n",
       "<table border=\"1\" class=\"dataframe\">\n",
       "  <thead>\n",
       "    <tr style=\"text-align: right;\">\n",
       "      <th></th>\n",
       "      <th>Record ID</th>\n",
       "      <th>Incident Year</th>\n",
       "      <th>Incident Month</th>\n",
       "      <th>Incident Day</th>\n",
       "      <th>Operator ID</th>\n",
       "      <th>Operator</th>\n",
       "      <th>Aircraft</th>\n",
       "      <th>Aircraft Type</th>\n",
       "      <th>Aircraft Make</th>\n",
       "      <th>Aircraft Model</th>\n",
       "      <th>...</th>\n",
       "      <th>Fuselage Strike</th>\n",
       "      <th>Fuselage Damage</th>\n",
       "      <th>Landing Gear Strike</th>\n",
       "      <th>Landing Gear Damage</th>\n",
       "      <th>Tail Strike</th>\n",
       "      <th>Tail Damage</th>\n",
       "      <th>Lights Strike</th>\n",
       "      <th>Lights Damage</th>\n",
       "      <th>Other Strike</th>\n",
       "      <th>Other Damage</th>\n",
       "    </tr>\n",
       "  </thead>\n",
       "  <tbody>\n",
       "    <tr>\n",
       "      <td>0</td>\n",
       "      <td>127128</td>\n",
       "      <td>1990</td>\n",
       "      <td>1</td>\n",
       "      <td>1</td>\n",
       "      <td>DAL</td>\n",
       "      <td>DELTA AIR LINES</td>\n",
       "      <td>B-757-200</td>\n",
       "      <td>A</td>\n",
       "      <td>148</td>\n",
       "      <td>26</td>\n",
       "      <td>...</td>\n",
       "      <td>0</td>\n",
       "      <td>0</td>\n",
       "      <td>0</td>\n",
       "      <td>0</td>\n",
       "      <td>1</td>\n",
       "      <td>1</td>\n",
       "      <td>0</td>\n",
       "      <td>0</td>\n",
       "      <td>0</td>\n",
       "      <td>0</td>\n",
       "    </tr>\n",
       "    <tr>\n",
       "      <td>1</td>\n",
       "      <td>129779</td>\n",
       "      <td>1990</td>\n",
       "      <td>1</td>\n",
       "      <td>1</td>\n",
       "      <td>HAL</td>\n",
       "      <td>HAWAIIAN AIR</td>\n",
       "      <td>DC-9</td>\n",
       "      <td>A</td>\n",
       "      <td>583</td>\n",
       "      <td>90</td>\n",
       "      <td>...</td>\n",
       "      <td>0</td>\n",
       "      <td>0</td>\n",
       "      <td>0</td>\n",
       "      <td>0</td>\n",
       "      <td>0</td>\n",
       "      <td>0</td>\n",
       "      <td>0</td>\n",
       "      <td>0</td>\n",
       "      <td>1</td>\n",
       "      <td>0</td>\n",
       "    </tr>\n",
       "    <tr>\n",
       "      <td>2</td>\n",
       "      <td>129780</td>\n",
       "      <td>1990</td>\n",
       "      <td>1</td>\n",
       "      <td>2</td>\n",
       "      <td>UNK</td>\n",
       "      <td>UNKNOWN</td>\n",
       "      <td>UNKNOWN</td>\n",
       "      <td>NaN</td>\n",
       "      <td>NaN</td>\n",
       "      <td>NaN</td>\n",
       "      <td>...</td>\n",
       "      <td>0</td>\n",
       "      <td>0</td>\n",
       "      <td>0</td>\n",
       "      <td>0</td>\n",
       "      <td>0</td>\n",
       "      <td>0</td>\n",
       "      <td>0</td>\n",
       "      <td>0</td>\n",
       "      <td>0</td>\n",
       "      <td>0</td>\n",
       "    </tr>\n",
       "    <tr>\n",
       "      <td>3</td>\n",
       "      <td>2258</td>\n",
       "      <td>1990</td>\n",
       "      <td>1</td>\n",
       "      <td>3</td>\n",
       "      <td>MIL</td>\n",
       "      <td>MILITARY</td>\n",
       "      <td>A-10A</td>\n",
       "      <td>A</td>\n",
       "      <td>345</td>\n",
       "      <td>NaN</td>\n",
       "      <td>...</td>\n",
       "      <td>0</td>\n",
       "      <td>0</td>\n",
       "      <td>0</td>\n",
       "      <td>0</td>\n",
       "      <td>0</td>\n",
       "      <td>0</td>\n",
       "      <td>0</td>\n",
       "      <td>0</td>\n",
       "      <td>0</td>\n",
       "      <td>0</td>\n",
       "    </tr>\n",
       "    <tr>\n",
       "      <td>4</td>\n",
       "      <td>2257</td>\n",
       "      <td>1990</td>\n",
       "      <td>1</td>\n",
       "      <td>3</td>\n",
       "      <td>MIL</td>\n",
       "      <td>MILITARY</td>\n",
       "      <td>F-16</td>\n",
       "      <td>A</td>\n",
       "      <td>561</td>\n",
       "      <td>NaN</td>\n",
       "      <td>...</td>\n",
       "      <td>0</td>\n",
       "      <td>0</td>\n",
       "      <td>0</td>\n",
       "      <td>0</td>\n",
       "      <td>0</td>\n",
       "      <td>0</td>\n",
       "      <td>0</td>\n",
       "      <td>0</td>\n",
       "      <td>0</td>\n",
       "      <td>0</td>\n",
       "    </tr>\n",
       "  </tbody>\n",
       "</table>\n",
       "<p>5 rows × 66 columns</p>\n",
       "</div>"
      ],
      "text/plain": [
       "   Record ID  Incident Year  Incident Month  Incident Day Operator ID  \\\n",
       "0     127128           1990               1             1         DAL   \n",
       "1     129779           1990               1             1         HAL   \n",
       "2     129780           1990               1             2         UNK   \n",
       "3       2258           1990               1             3         MIL   \n",
       "4       2257           1990               1             3         MIL   \n",
       "\n",
       "          Operator   Aircraft Aircraft Type Aircraft Make Aircraft Model  ...  \\\n",
       "0  DELTA AIR LINES  B-757-200             A           148             26  ...   \n",
       "1     HAWAIIAN AIR       DC-9             A           583             90  ...   \n",
       "2          UNKNOWN    UNKNOWN           NaN           NaN            NaN  ...   \n",
       "3         MILITARY      A-10A             A           345            NaN  ...   \n",
       "4         MILITARY       F-16             A           561            NaN  ...   \n",
       "\n",
       "   Fuselage Strike  Fuselage Damage Landing Gear Strike  Landing Gear Damage  \\\n",
       "0                0                0                   0                    0   \n",
       "1                0                0                   0                    0   \n",
       "2                0                0                   0                    0   \n",
       "3                0                0                   0                    0   \n",
       "4                0                0                   0                    0   \n",
       "\n",
       "  Tail Strike Tail Damage  Lights Strike Lights Damage  Other Strike  \\\n",
       "0           1           1              0             0             0   \n",
       "1           0           0              0             0             1   \n",
       "2           0           0              0             0             0   \n",
       "3           0           0              0             0             0   \n",
       "4           0           0              0             0             0   \n",
       "\n",
       "  Other Damage  \n",
       "0            0  \n",
       "1            0  \n",
       "2            0  \n",
       "3            0  \n",
       "4            0  \n",
       "\n",
       "[5 rows x 66 columns]"
      ]
     },
     "execution_count": 28,
     "metadata": {},
     "output_type": "execute_result"
    }
   ],
   "source": [
    "df2 = pd.read_csv(\"database.csv\")\n",
    "print(\"The dataset contains {} entries and {} features.\".format(df2.shape[0], df2.shape[1]))\n",
    "df2.head()\n",
    "# note: the data frame below is a disambiguation and does not show all 66 columns"
   ]
  },
  {
   "cell_type": "markdown",
   "metadata": {},
   "source": [
    "## List all features"
   ]
  },
  {
   "cell_type": "code",
   "execution_count": 29,
   "metadata": {},
   "outputs": [
    {
     "data": {
      "text/plain": [
       "['Record ID',\n",
       " 'Incident Year',\n",
       " 'Incident Month',\n",
       " 'Incident Day',\n",
       " 'Operator ID',\n",
       " 'Operator',\n",
       " 'Aircraft',\n",
       " 'Aircraft Type',\n",
       " 'Aircraft Make',\n",
       " 'Aircraft Model',\n",
       " 'Aircraft Mass',\n",
       " 'Engine Make',\n",
       " 'Engine Model',\n",
       " 'Engines',\n",
       " 'Engine Type',\n",
       " 'Engine1 Position',\n",
       " 'Engine2 Position',\n",
       " 'Engine3 Position',\n",
       " 'Engine4 Position',\n",
       " 'Airport ID',\n",
       " 'Airport',\n",
       " 'State',\n",
       " 'FAA Region',\n",
       " 'Warning Issued',\n",
       " 'Flight Phase',\n",
       " 'Visibility',\n",
       " 'Precipitation',\n",
       " 'Height',\n",
       " 'Speed',\n",
       " 'Distance',\n",
       " 'Species ID',\n",
       " 'Species Name',\n",
       " 'Species Quantity',\n",
       " 'Flight Impact',\n",
       " 'Fatalities',\n",
       " 'Injuries',\n",
       " 'Aircraft Damage',\n",
       " 'Radome Strike',\n",
       " 'Radome Damage',\n",
       " 'Windshield Strike',\n",
       " 'Windshield Damage',\n",
       " 'Nose Strike',\n",
       " 'Nose Damage',\n",
       " 'Engine1 Strike',\n",
       " 'Engine1 Damage',\n",
       " 'Engine2 Strike',\n",
       " 'Engine2 Damage',\n",
       " 'Engine3 Strike',\n",
       " 'Engine3 Damage',\n",
       " 'Engine4 Strike',\n",
       " 'Engine4 Damage',\n",
       " 'Engine Ingested',\n",
       " 'Propeller Strike',\n",
       " 'Propeller Damage',\n",
       " 'Wing or Rotor Strike',\n",
       " 'Wing or Rotor Damage',\n",
       " 'Fuselage Strike',\n",
       " 'Fuselage Damage',\n",
       " 'Landing Gear Strike',\n",
       " 'Landing Gear Damage',\n",
       " 'Tail Strike',\n",
       " 'Tail Damage',\n",
       " 'Lights Strike',\n",
       " 'Lights Damage',\n",
       " 'Other Strike',\n",
       " 'Other Damage']"
      ]
     },
     "execution_count": 29,
     "metadata": {},
     "output_type": "execute_result"
    }
   ],
   "source": [
    "list(df2)"
   ]
  },
  {
   "cell_type": "markdown",
   "metadata": {},
   "source": [
    "## Which airlines are facing the most incidents?"
   ]
  },
  {
   "cell_type": "code",
   "execution_count": 30,
   "metadata": {},
   "outputs": [
    {
     "data": {
      "text/plain": [
       "(-1, 10)"
      ]
     },
     "execution_count": 30,
     "metadata": {},
     "output_type": "execute_result"
    },
    {
     "data": {
      "image/png": "[encoded data removed]",
      "text/plain": [
       "<Figure size 432x288 with 1 Axes>"
      ]
     },
     "metadata": {
      "needs_background": "light"
     },
     "output_type": "display_data"
    }
   ],
   "source": [
    "import seaborn as sns\n",
    "import matplotlib.pyplot as plt\n",
    "\n",
    "# make a barplot from a column in our dataframe\n",
    "lm = sns.countplot(x = 'Operator ID', data = df2, order = df2['Operator ID'].value_counts().index).set_title('Airline')\n",
    "axes = lm.axes\n",
    "axes.set_xlim(-1,10)\n",
    "# in a large proportion of records the airline was classified as \"Unknown\""
   ]
  },
  {
   "cell_type": "markdown",
   "metadata": {},
   "source": [
    "## In which month are incidents most common?"
   ]
  },
  {
   "cell_type": "code",
   "execution_count": 31,
   "metadata": {},
   "outputs": [
    {
     "data": {
      "text/plain": [
       "(-1, 12)"
      ]
     },
     "execution_count": 31,
     "metadata": {},
     "output_type": "execute_result"
    },
    {
     "data": {
      "image/png": "[encoded data removed]",
      "text/plain": [
       "<Figure size 432x288 with 1 Axes>"
      ]
     },
     "metadata": {
      "needs_background": "light"
     },
     "output_type": "display_data"
    }
   ],
   "source": [
    "lm = sns.countplot(x = 'Incident Month', data = df2, order = df2['Incident Month'].value_counts().index).set_title('Month')\n",
    "axes = lm.axes\n",
    "axes.set_xlim(-1,12)\n",
    "# late summer months July, August, September are most common. Winter months December, January, February the least common."
   ]
  },
  {
   "cell_type": "code",
   "execution_count": 32,
   "metadata": {},
   "outputs": [
    {
     "data": {
      "text/plain": [
       "<matplotlib.axes._subplots.AxesSubplot at 0x1ed826d5080>"
      ]
     },
     "execution_count": 32,
     "metadata": {},
     "output_type": "execute_result"
    },
    {
     "data": {
      "image/png": "[encoded data removed]",
      "text/plain": [
       "<Figure size 432x288 with 1 Axes>"
      ]
     },
     "metadata": {
      "needs_background": "light"
     },
     "output_type": "display_data"
    }
   ],
   "source": [
    "df2.groupby('Incident Month').size().plot()"
   ]
  },
  {
   "cell_type": "markdown",
   "metadata": {},
   "source": [
    "## Is there a trend in the years recorded?"
   ]
  },
  {
   "cell_type": "code",
   "execution_count": 33,
   "metadata": {},
   "outputs": [
    {
     "data": {
      "text/plain": [
       "<matplotlib.axes._subplots.AxesSubplot at 0x1ed827fbc50>"
      ]
     },
     "execution_count": 33,
     "metadata": {},
     "output_type": "execute_result"
    },
    {
     "data": {
      "image/png": "[encoded data removed]",
      "text/plain": [
       "<Figure size 432x288 with 1 Axes>"
      ]
     },
     "metadata": {
      "needs_background": "light"
     },
     "output_type": "display_data"
    }
   ],
   "source": [
    "df2.groupby('Incident Year').size().plot()\n",
    "# With the increase number of overall flights (not part of data set) likely the accident number increased.\n",
    "# But may also be a reporting bias as pilots and agencies became more sensitive to reporting strikes.\n",
    "# The record likely ended at some point in the middle of the last year"
   ]
  },
  {
   "cell_type": "markdown",
   "metadata": {},
   "source": [
    "## Correlation heatmap - are certain strikes correlated with certain years or momths?"
   ]
  },
  {
   "cell_type": "code",
   "execution_count": 34,
   "metadata": {},
   "outputs": [
    {
     "data": {
      "text/plain": [
       "<matplotlib.axes._subplots.AxesSubplot at 0x1ed828afd68>"
      ]
     },
     "execution_count": 34,
     "metadata": {},
     "output_type": "execute_result"
    },
    {
     "data": {
      "image/png": "[encoded data removed]",
      "text/plain": [
       "<Figure size 792x648 with 2 Axes>"
      ]
     },
     "metadata": {
      "needs_background": "light"
     },
     "output_type": "display_data"
    }
   ],
   "source": [
    "# Compute the correlation matrix\n",
    "corr = df2.corr()\n",
    "\n",
    "# Generate a mask for the upper triangle\n",
    "mask = np.zeros_like(corr, dtype=np.bool)\n",
    "mask[np.triu_indices_from(mask)] = True\n",
    "\n",
    "# Set up the matplotlib figure\n",
    "f, ax = plt.subplots(figsize=(11, 9))\n",
    "\n",
    "# Generate a custom diverging colormap\n",
    "cmap = sns.diverging_palette(220, 10, as_cmap=True)\n",
    "\n",
    "# Draw the heatmap with the mask and correct aspect ratio\n",
    "sns.heatmap(corr, mask=mask, cmap=cmap, vmax=.3, center=0,\n",
    "            square=True, linewidths=.5, cbar_kws={\"shrink\": .5})\n",
    "\n",
    "# Not all correlation pairs make sense, such as Incident  Year vs Record ID,\n",
    "# or Propeller Strike vs. Engine Position (it is likely that propellers (wings) are placed other places than some jet engines (rear of plane))\n",
    "\n",
    "# Of course, \"Engine\" number is well correlated with \"Mass\".\n",
    "# Any kind of \"Strike\" naturally correlates with \"Aircraft Damage\", \"Injuries\", and \"Fatalities\".\n",
    "# Any kind of \"Engine Damage\" correlates with \"Engine Ingested\", which is likely a description for a jet engine accident."
   ]
  },
  {
   "cell_type": "markdown",
   "metadata": {},
   "source": [
    "## Day 5: Using a Chi-Square Test"
   ]
  },
  {
   "cell_type": "code",
   "execution_count": 35,
   "metadata": {},
   "outputs": [
    {
     "data": {
      "text/html": [
       "<div>\n",
       "<style scoped>\n",
       "    .dataframe tbody tr th:only-of-type {\n",
       "        vertical-align: middle;\n",
       "    }\n",
       "\n",
       "    .dataframe tbody tr th {\n",
       "        vertical-align: top;\n",
       "    }\n",
       "\n",
       "    .dataframe thead th {\n",
       "        text-align: right;\n",
       "    }\n",
       "</style>\n",
       "<table border=\"1\" class=\"dataframe\">\n",
       "  <thead>\n",
       "    <tr style=\"text-align: right;\">\n",
       "      <th></th>\n",
       "      <th>Incident Month</th>\n",
       "      <th>Radome Strike</th>\n",
       "      <th>Windshield Strike</th>\n",
       "      <th>Nose Strike</th>\n",
       "      <th>Engine1 Strike</th>\n",
       "      <th>Engine2 Strike</th>\n",
       "      <th>Engine3 Strike</th>\n",
       "      <th>Engine4 Strike</th>\n",
       "      <th>Propeller Strike</th>\n",
       "      <th>Wing or Rotor Strike</th>\n",
       "      <th>Fuselage Strike</th>\n",
       "      <th>Landing Gear Strike</th>\n",
       "      <th>Tail Strike</th>\n",
       "      <th>Lights Strike</th>\n",
       "      <th>Other Strike</th>\n",
       "    </tr>\n",
       "  </thead>\n",
       "  <tbody>\n",
       "    <tr>\n",
       "      <td>0</td>\n",
       "      <td>1</td>\n",
       "      <td>1</td>\n",
       "      <td>0</td>\n",
       "      <td>0</td>\n",
       "      <td>0</td>\n",
       "      <td>0</td>\n",
       "      <td>0</td>\n",
       "      <td>0</td>\n",
       "      <td>0</td>\n",
       "      <td>0</td>\n",
       "      <td>0</td>\n",
       "      <td>0</td>\n",
       "      <td>1</td>\n",
       "      <td>0</td>\n",
       "      <td>0</td>\n",
       "    </tr>\n",
       "    <tr>\n",
       "      <td>1</td>\n",
       "      <td>1</td>\n",
       "      <td>0</td>\n",
       "      <td>0</td>\n",
       "      <td>0</td>\n",
       "      <td>0</td>\n",
       "      <td>0</td>\n",
       "      <td>0</td>\n",
       "      <td>0</td>\n",
       "      <td>0</td>\n",
       "      <td>0</td>\n",
       "      <td>0</td>\n",
       "      <td>0</td>\n",
       "      <td>0</td>\n",
       "      <td>0</td>\n",
       "      <td>1</td>\n",
       "    </tr>\n",
       "    <tr>\n",
       "      <td>2</td>\n",
       "      <td>1</td>\n",
       "      <td>0</td>\n",
       "      <td>0</td>\n",
       "      <td>0</td>\n",
       "      <td>0</td>\n",
       "      <td>0</td>\n",
       "      <td>0</td>\n",
       "      <td>0</td>\n",
       "      <td>0</td>\n",
       "      <td>0</td>\n",
       "      <td>0</td>\n",
       "      <td>0</td>\n",
       "      <td>0</td>\n",
       "      <td>0</td>\n",
       "      <td>0</td>\n",
       "    </tr>\n",
       "    <tr>\n",
       "      <td>3</td>\n",
       "      <td>1</td>\n",
       "      <td>0</td>\n",
       "      <td>0</td>\n",
       "      <td>0</td>\n",
       "      <td>0</td>\n",
       "      <td>0</td>\n",
       "      <td>0</td>\n",
       "      <td>0</td>\n",
       "      <td>0</td>\n",
       "      <td>1</td>\n",
       "      <td>0</td>\n",
       "      <td>0</td>\n",
       "      <td>0</td>\n",
       "      <td>0</td>\n",
       "      <td>0</td>\n",
       "    </tr>\n",
       "    <tr>\n",
       "      <td>4</td>\n",
       "      <td>1</td>\n",
       "      <td>0</td>\n",
       "      <td>1</td>\n",
       "      <td>0</td>\n",
       "      <td>0</td>\n",
       "      <td>0</td>\n",
       "      <td>0</td>\n",
       "      <td>0</td>\n",
       "      <td>0</td>\n",
       "      <td>0</td>\n",
       "      <td>0</td>\n",
       "      <td>0</td>\n",
       "      <td>0</td>\n",
       "      <td>0</td>\n",
       "      <td>0</td>\n",
       "    </tr>\n",
       "  </tbody>\n",
       "</table>\n",
       "</div>"
      ],
      "text/plain": [
       "   Incident Month  Radome Strike  Windshield Strike  Nose Strike  \\\n",
       "0               1              1                  0            0   \n",
       "1               1              0                  0            0   \n",
       "2               1              0                  0            0   \n",
       "3               1              0                  0            0   \n",
       "4               1              0                  1            0   \n",
       "\n",
       "   Engine1 Strike  Engine2 Strike  Engine3 Strike  Engine4 Strike  \\\n",
       "0               0               0               0               0   \n",
       "1               0               0               0               0   \n",
       "2               0               0               0               0   \n",
       "3               0               0               0               0   \n",
       "4               0               0               0               0   \n",
       "\n",
       "   Propeller Strike  Wing or Rotor Strike  Fuselage Strike  \\\n",
       "0                 0                     0                0   \n",
       "1                 0                     0                0   \n",
       "2                 0                     0                0   \n",
       "3                 0                     1                0   \n",
       "4                 0                     0                0   \n",
       "\n",
       "   Landing Gear Strike  Tail Strike  Lights Strike  Other Strike  \n",
       "0                    0            1              0             0  \n",
       "1                    0            0              0             1  \n",
       "2                    0            0              0             0  \n",
       "3                    0            0              0             0  \n",
       "4                    0            0              0             0  "
      ]
     },
     "execution_count": 35,
     "metadata": {},
     "output_type": "execute_result"
    }
   ],
   "source": [
    "dfstrike = df2[['Incident Month', 'Radome Strike', 'Windshield Strike', 'Nose Strike', 'Engine1 Strike', 'Engine2 Strike', 'Engine3 Strike', 'Engine4 Strike', 'Propeller Strike', 'Wing or Rotor Strike', 'Fuselage Strike', 'Landing Gear Strike', 'Tail Strike', 'Lights Strike', 'Other Strike']]\n",
    "\n",
    "dfstrike.head()"
   ]
  },
  {
   "cell_type": "code",
   "execution_count": 36,
   "metadata": {},
   "outputs": [
    {
     "data": {
      "text/html": [
       "<div>\n",
       "<style scoped>\n",
       "    .dataframe tbody tr th:only-of-type {\n",
       "        vertical-align: middle;\n",
       "    }\n",
       "\n",
       "    .dataframe tbody tr th {\n",
       "        vertical-align: top;\n",
       "    }\n",
       "\n",
       "    .dataframe thead th {\n",
       "        text-align: right;\n",
       "    }\n",
       "</style>\n",
       "<table border=\"1\" class=\"dataframe\">\n",
       "  <thead>\n",
       "    <tr style=\"text-align: right;\">\n",
       "      <th></th>\n",
       "      <th>Radome Strike</th>\n",
       "      <th>Windshield Strike</th>\n",
       "      <th>Nose Strike</th>\n",
       "      <th>Engine1 Strike</th>\n",
       "      <th>Engine2 Strike</th>\n",
       "      <th>Engine3 Strike</th>\n",
       "      <th>Engine4 Strike</th>\n",
       "      <th>Propeller Strike</th>\n",
       "      <th>Wing or Rotor Strike</th>\n",
       "      <th>Fuselage Strike</th>\n",
       "      <th>Landing Gear Strike</th>\n",
       "      <th>Tail Strike</th>\n",
       "      <th>Lights Strike</th>\n",
       "      <th>Other Strike</th>\n",
       "    </tr>\n",
       "    <tr>\n",
       "      <th>Incident Month</th>\n",
       "      <th></th>\n",
       "      <th></th>\n",
       "      <th></th>\n",
       "      <th></th>\n",
       "      <th></th>\n",
       "      <th></th>\n",
       "      <th></th>\n",
       "      <th></th>\n",
       "      <th></th>\n",
       "      <th></th>\n",
       "      <th></th>\n",
       "      <th></th>\n",
       "      <th></th>\n",
       "      <th></th>\n",
       "    </tr>\n",
       "  </thead>\n",
       "  <tbody>\n",
       "    <tr>\n",
       "      <td>1</td>\n",
       "      <td>590</td>\n",
       "      <td>709</td>\n",
       "      <td>628</td>\n",
       "      <td>437</td>\n",
       "      <td>381</td>\n",
       "      <td>42</td>\n",
       "      <td>20</td>\n",
       "      <td>147</td>\n",
       "      <td>905</td>\n",
       "      <td>621</td>\n",
       "      <td>401</td>\n",
       "      <td>96</td>\n",
       "      <td>65</td>\n",
       "      <td>607</td>\n",
       "    </tr>\n",
       "    <tr>\n",
       "      <td>2</td>\n",
       "      <td>546</td>\n",
       "      <td>585</td>\n",
       "      <td>596</td>\n",
       "      <td>348</td>\n",
       "      <td>326</td>\n",
       "      <td>21</td>\n",
       "      <td>15</td>\n",
       "      <td>144</td>\n",
       "      <td>812</td>\n",
       "      <td>564</td>\n",
       "      <td>353</td>\n",
       "      <td>95</td>\n",
       "      <td>57</td>\n",
       "      <td>524</td>\n",
       "    </tr>\n",
       "    <tr>\n",
       "      <td>3</td>\n",
       "      <td>888</td>\n",
       "      <td>1117</td>\n",
       "      <td>1014</td>\n",
       "      <td>602</td>\n",
       "      <td>495</td>\n",
       "      <td>29</td>\n",
       "      <td>16</td>\n",
       "      <td>195</td>\n",
       "      <td>1285</td>\n",
       "      <td>932</td>\n",
       "      <td>478</td>\n",
       "      <td>143</td>\n",
       "      <td>69</td>\n",
       "      <td>768</td>\n",
       "    </tr>\n",
       "    <tr>\n",
       "      <td>4</td>\n",
       "      <td>1452</td>\n",
       "      <td>1873</td>\n",
       "      <td>1629</td>\n",
       "      <td>684</td>\n",
       "      <td>590</td>\n",
       "      <td>44</td>\n",
       "      <td>32</td>\n",
       "      <td>219</td>\n",
       "      <td>1621</td>\n",
       "      <td>1408</td>\n",
       "      <td>574</td>\n",
       "      <td>160</td>\n",
       "      <td>81</td>\n",
       "      <td>1159</td>\n",
       "    </tr>\n",
       "    <tr>\n",
       "      <td>5</td>\n",
       "      <td>2104</td>\n",
       "      <td>2707</td>\n",
       "      <td>2232</td>\n",
       "      <td>837</td>\n",
       "      <td>672</td>\n",
       "      <td>53</td>\n",
       "      <td>29</td>\n",
       "      <td>263</td>\n",
       "      <td>1841</td>\n",
       "      <td>1930</td>\n",
       "      <td>626</td>\n",
       "      <td>146</td>\n",
       "      <td>69</td>\n",
       "      <td>1395</td>\n",
       "    </tr>\n",
       "    <tr>\n",
       "      <td>6</td>\n",
       "      <td>1267</td>\n",
       "      <td>1733</td>\n",
       "      <td>1504</td>\n",
       "      <td>676</td>\n",
       "      <td>553</td>\n",
       "      <td>54</td>\n",
       "      <td>25</td>\n",
       "      <td>237</td>\n",
       "      <td>1364</td>\n",
       "      <td>1278</td>\n",
       "      <td>663</td>\n",
       "      <td>107</td>\n",
       "      <td>59</td>\n",
       "      <td>1501</td>\n",
       "    </tr>\n",
       "    <tr>\n",
       "      <td>7</td>\n",
       "      <td>1984</td>\n",
       "      <td>2689</td>\n",
       "      <td>2399</td>\n",
       "      <td>1030</td>\n",
       "      <td>820</td>\n",
       "      <td>48</td>\n",
       "      <td>36</td>\n",
       "      <td>433</td>\n",
       "      <td>2074</td>\n",
       "      <td>1892</td>\n",
       "      <td>954</td>\n",
       "      <td>160</td>\n",
       "      <td>93</td>\n",
       "      <td>2248</td>\n",
       "    </tr>\n",
       "    <tr>\n",
       "      <td>8</td>\n",
       "      <td>2479</td>\n",
       "      <td>3491</td>\n",
       "      <td>3062</td>\n",
       "      <td>1187</td>\n",
       "      <td>948</td>\n",
       "      <td>67</td>\n",
       "      <td>37</td>\n",
       "      <td>527</td>\n",
       "      <td>2548</td>\n",
       "      <td>2325</td>\n",
       "      <td>1011</td>\n",
       "      <td>216</td>\n",
       "      <td>125</td>\n",
       "      <td>2361</td>\n",
       "    </tr>\n",
       "    <tr>\n",
       "      <td>9</td>\n",
       "      <td>2876</td>\n",
       "      <td>3684</td>\n",
       "      <td>3121</td>\n",
       "      <td>1304</td>\n",
       "      <td>1024</td>\n",
       "      <td>62</td>\n",
       "      <td>41</td>\n",
       "      <td>487</td>\n",
       "      <td>2783</td>\n",
       "      <td>2567</td>\n",
       "      <td>965</td>\n",
       "      <td>214</td>\n",
       "      <td>153</td>\n",
       "      <td>1860</td>\n",
       "    </tr>\n",
       "    <tr>\n",
       "      <td>10</td>\n",
       "      <td>2612</td>\n",
       "      <td>3284</td>\n",
       "      <td>2905</td>\n",
       "      <td>1191</td>\n",
       "      <td>944</td>\n",
       "      <td>72</td>\n",
       "      <td>39</td>\n",
       "      <td>369</td>\n",
       "      <td>2622</td>\n",
       "      <td>2386</td>\n",
       "      <td>906</td>\n",
       "      <td>268</td>\n",
       "      <td>127</td>\n",
       "      <td>1666</td>\n",
       "    </tr>\n",
       "    <tr>\n",
       "      <td>11</td>\n",
       "      <td>1288</td>\n",
       "      <td>1543</td>\n",
       "      <td>1480</td>\n",
       "      <td>847</td>\n",
       "      <td>722</td>\n",
       "      <td>35</td>\n",
       "      <td>27</td>\n",
       "      <td>306</td>\n",
       "      <td>1831</td>\n",
       "      <td>1272</td>\n",
       "      <td>655</td>\n",
       "      <td>211</td>\n",
       "      <td>71</td>\n",
       "      <td>995</td>\n",
       "    </tr>\n",
       "    <tr>\n",
       "      <td>12</td>\n",
       "      <td>675</td>\n",
       "      <td>774</td>\n",
       "      <td>735</td>\n",
       "      <td>538</td>\n",
       "      <td>389</td>\n",
       "      <td>27</td>\n",
       "      <td>17</td>\n",
       "      <td>170</td>\n",
       "      <td>1060</td>\n",
       "      <td>706</td>\n",
       "      <td>465</td>\n",
       "      <td>140</td>\n",
       "      <td>69</td>\n",
       "      <td>712</td>\n",
       "    </tr>\n",
       "  </tbody>\n",
       "</table>\n",
       "</div>"
      ],
      "text/plain": [
       "                Radome Strike  Windshield Strike  Nose Strike  Engine1 Strike  \\\n",
       "Incident Month                                                                  \n",
       "1                         590                709          628             437   \n",
       "2                         546                585          596             348   \n",
       "3                         888               1117         1014             602   \n",
       "4                        1452               1873         1629             684   \n",
       "5                        2104               2707         2232             837   \n",
       "6                        1267               1733         1504             676   \n",
       "7                        1984               2689         2399            1030   \n",
       "8                        2479               3491         3062            1187   \n",
       "9                        2876               3684         3121            1304   \n",
       "10                       2612               3284         2905            1191   \n",
       "11                       1288               1543         1480             847   \n",
       "12                        675                774          735             538   \n",
       "\n",
       "                Engine2 Strike  Engine3 Strike  Engine4 Strike  \\\n",
       "Incident Month                                                   \n",
       "1                          381              42              20   \n",
       "2                          326              21              15   \n",
       "3                          495              29              16   \n",
       "4                          590              44              32   \n",
       "5                          672              53              29   \n",
       "6                          553              54              25   \n",
       "7                          820              48              36   \n",
       "8                          948              67              37   \n",
       "9                         1024              62              41   \n",
       "10                         944              72              39   \n",
       "11                         722              35              27   \n",
       "12                         389              27              17   \n",
       "\n",
       "                Propeller Strike  Wing or Rotor Strike  Fuselage Strike  \\\n",
       "Incident Month                                                            \n",
       "1                            147                   905              621   \n",
       "2                            144                   812              564   \n",
       "3                            195                  1285              932   \n",
       "4                            219                  1621             1408   \n",
       "5                            263                  1841             1930   \n",
       "6                            237                  1364             1278   \n",
       "7                            433                  2074             1892   \n",
       "8                            527                  2548             2325   \n",
       "9                            487                  2783             2567   \n",
       "10                           369                  2622             2386   \n",
       "11                           306                  1831             1272   \n",
       "12                           170                  1060              706   \n",
       "\n",
       "                Landing Gear Strike  Tail Strike  Lights Strike  Other Strike  \n",
       "Incident Month                                                                 \n",
       "1                               401           96             65           607  \n",
       "2                               353           95             57           524  \n",
       "3                               478          143             69           768  \n",
       "4                               574          160             81          1159  \n",
       "5                               626          146             69          1395  \n",
       "6                               663          107             59          1501  \n",
       "7                               954          160             93          2248  \n",
       "8                              1011          216            125          2361  \n",
       "9                               965          214            153          1860  \n",
       "10                              906          268            127          1666  \n",
       "11                              655          211             71           995  \n",
       "12                              465          140             69           712  "
      ]
     },
     "execution_count": 36,
     "metadata": {},
     "output_type": "execute_result"
    }
   ],
   "source": [
    "groupedtable = dfstrike.groupby('Incident Month').sum()\n",
    "groupedtable"
   ]
  },
  {
   "cell_type": "markdown",
   "metadata": {},
   "source": [
    "## Run Chi2 test\n",
    "\n",
    "The Chi Square statistic is commonly used for testing relationships between categorical variables. The null hypothesis of the Chi2 test is that no relationship exists on the categorical variables in the population; they are independent.\n",
    "\n",
    "(Null hypothesis: data and months are NOT different from each other) "
   ]
  },
  {
   "cell_type": "code",
   "execution_count": 37,
   "metadata": {},
   "outputs": [
    {
     "name": "stdout",
     "output_type": "stream",
     "text": [
      "Chi2: 2196.2409322657622, Degrees of freedom: 143, p-value: 0.0\n",
      "With the p-value below 0.01\n",
      "\n",
      "Contingency Table\n"
     ]
    },
    {
     "data": {
      "text/html": [
       "<div>\n",
       "<style scoped>\n",
       "    .dataframe tbody tr th:only-of-type {\n",
       "        vertical-align: middle;\n",
       "    }\n",
       "\n",
       "    .dataframe tbody tr th {\n",
       "        vertical-align: top;\n",
       "    }\n",
       "\n",
       "    .dataframe thead th {\n",
       "        text-align: right;\n",
       "    }\n",
       "</style>\n",
       "<table border=\"1\" class=\"dataframe\">\n",
       "  <thead>\n",
       "    <tr style=\"text-align: right;\">\n",
       "      <th></th>\n",
       "      <th>0</th>\n",
       "      <th>1</th>\n",
       "      <th>2</th>\n",
       "      <th>3</th>\n",
       "      <th>4</th>\n",
       "      <th>5</th>\n",
       "      <th>6</th>\n",
       "      <th>7</th>\n",
       "      <th>8</th>\n",
       "      <th>9</th>\n",
       "      <th>10</th>\n",
       "      <th>11</th>\n",
       "      <th>12</th>\n",
       "      <th>13</th>\n",
       "    </tr>\n",
       "  </thead>\n",
       "  <tbody>\n",
       "    <tr>\n",
       "      <td>0</td>\n",
       "      <td>698.838065</td>\n",
       "      <td>901.028407</td>\n",
       "      <td>793.600819</td>\n",
       "      <td>360.612510</td>\n",
       "      <td>292.930150</td>\n",
       "      <td>20.636229</td>\n",
       "      <td>12.441336</td>\n",
       "      <td>130.261538</td>\n",
       "      <td>772.778343</td>\n",
       "      <td>666.058495</td>\n",
       "      <td>299.895808</td>\n",
       "      <td>72.860042</td>\n",
       "      <td>38.664992</td>\n",
       "      <td>588.393266</td>\n",
       "    </tr>\n",
       "    <tr>\n",
       "      <td>1</td>\n",
       "      <td>616.818302</td>\n",
       "      <td>795.278392</td>\n",
       "      <td>700.459140</td>\n",
       "      <td>318.288896</td>\n",
       "      <td>258.550137</td>\n",
       "      <td>18.214239</td>\n",
       "      <td>10.981148</td>\n",
       "      <td>114.973275</td>\n",
       "      <td>682.080513</td>\n",
       "      <td>587.885937</td>\n",
       "      <td>264.698265</td>\n",
       "      <td>64.308757</td>\n",
       "      <td>34.127040</td>\n",
       "      <td>519.335958</td>\n",
       "    </tr>\n",
       "    <tr>\n",
       "      <td>2</td>\n",
       "      <td>993.515400</td>\n",
       "      <td>1280.962849</td>\n",
       "      <td>1128.236533</td>\n",
       "      <td>512.671104</td>\n",
       "      <td>416.449289</td>\n",
       "      <td>29.337857</td>\n",
       "      <td>17.687444</td>\n",
       "      <td>185.188602</td>\n",
       "      <td>1098.633894</td>\n",
       "      <td>946.913750</td>\n",
       "      <td>426.352139</td>\n",
       "      <td>103.582758</td>\n",
       "      <td>54.968764</td>\n",
       "      <td>836.499614</td>\n",
       "    </tr>\n",
       "    <tr>\n",
       "      <td>3</td>\n",
       "      <td>1425.882020</td>\n",
       "      <td>1838.423335</td>\n",
       "      <td>1619.232260</td>\n",
       "      <td>735.779747</td>\n",
       "      <td>597.683290</td>\n",
       "      <td>42.105359</td>\n",
       "      <td>25.384819</td>\n",
       "      <td>265.780578</td>\n",
       "      <td>1576.746889</td>\n",
       "      <td>1358.999862</td>\n",
       "      <td>611.895749</td>\n",
       "      <td>148.660798</td>\n",
       "      <td>78.890546</td>\n",
       "      <td>1200.534747</td>\n",
       "    </tr>\n",
       "    <tr>\n",
       "      <td>4</td>\n",
       "      <td>1843.774564</td>\n",
       "      <td>2377.222053</td>\n",
       "      <td>2093.791221</td>\n",
       "      <td>951.419517</td>\n",
       "      <td>772.850230</td>\n",
       "      <td>54.445451</td>\n",
       "      <td>32.824514</td>\n",
       "      <td>343.674626</td>\n",
       "      <td>2038.854385</td>\n",
       "      <td>1757.290815</td>\n",
       "      <td>791.228027</td>\n",
       "      <td>192.229788</td>\n",
       "      <td>102.011513</td>\n",
       "      <td>1552.383296</td>\n",
       "    </tr>\n",
       "    <tr>\n",
       "      <td>5</td>\n",
       "      <td>1363.408446</td>\n",
       "      <td>1757.874681</td>\n",
       "      <td>1548.287241</td>\n",
       "      <td>703.542304</td>\n",
       "      <td>571.496403</td>\n",
       "      <td>40.260555</td>\n",
       "      <td>24.272609</td>\n",
       "      <td>254.135672</td>\n",
       "      <td>1507.663324</td>\n",
       "      <td>1299.456661</td>\n",
       "      <td>585.086157</td>\n",
       "      <td>142.147376</td>\n",
       "      <td>75.434037</td>\n",
       "      <td>1147.934535</td>\n",
       "    </tr>\n",
       "    <tr>\n",
       "      <td>6</td>\n",
       "      <td>2085.751419</td>\n",
       "      <td>2689.208522</td>\n",
       "      <td>2368.580246</td>\n",
       "      <td>1076.283753</td>\n",
       "      <td>874.279045</td>\n",
       "      <td>61.590869</td>\n",
       "      <td>37.132401</td>\n",
       "      <td>388.778461</td>\n",
       "      <td>2306.433503</td>\n",
       "      <td>1987.917549</td>\n",
       "      <td>895.068742</td>\n",
       "      <td>217.458013</td>\n",
       "      <td>115.399498</td>\n",
       "      <td>1756.117980</td>\n",
       "    </tr>\n",
       "    <tr>\n",
       "      <td>7</td>\n",
       "      <td>2521.705631</td>\n",
       "      <td>3251.294574</td>\n",
       "      <td>2863.650043</td>\n",
       "      <td>1301.243655</td>\n",
       "      <td>1057.016848</td>\n",
       "      <td>74.464310</td>\n",
       "      <td>44.893645</td>\n",
       "      <td>470.039155</td>\n",
       "      <td>2788.513673</td>\n",
       "      <td>2403.422972</td>\n",
       "      <td>1082.151913</td>\n",
       "      <td>262.910091</td>\n",
       "      <td>139.519772</td>\n",
       "      <td>2123.173719</td>\n",
       "    </tr>\n",
       "    <tr>\n",
       "      <td>8</td>\n",
       "      <td>2615.354137</td>\n",
       "      <td>3372.037803</td>\n",
       "      <td>2969.997329</td>\n",
       "      <td>1349.567902</td>\n",
       "      <td>1096.271251</td>\n",
       "      <td>77.229689</td>\n",
       "      <td>46.560859</td>\n",
       "      <td>487.494985</td>\n",
       "      <td>2892.070622</td>\n",
       "      <td>2492.678819</td>\n",
       "      <td>1122.339756</td>\n",
       "      <td>272.673775</td>\n",
       "      <td>144.701114</td>\n",
       "      <td>2202.021958</td>\n",
       "    </tr>\n",
       "    <tr>\n",
       "      <td>9</td>\n",
       "      <td>2398.861552</td>\n",
       "      <td>3092.908805</td>\n",
       "      <td>2724.148253</td>\n",
       "      <td>1237.853989</td>\n",
       "      <td>1005.524612</td>\n",
       "      <td>70.836805</td>\n",
       "      <td>42.706666</td>\n",
       "      <td>447.141349</td>\n",
       "      <td>2652.672126</td>\n",
       "      <td>2286.340996</td>\n",
       "      <td>1029.435230</td>\n",
       "      <td>250.102510</td>\n",
       "      <td>132.723111</td>\n",
       "      <td>2019.743995</td>\n",
       "    </tr>\n",
       "    <tr>\n",
       "      <td>10</td>\n",
       "      <td>1395.820478</td>\n",
       "      <td>1799.664280</td>\n",
       "      <td>1585.094360</td>\n",
       "      <td>720.267472</td>\n",
       "      <td>585.082471</td>\n",
       "      <td>41.217661</td>\n",
       "      <td>24.849637</td>\n",
       "      <td>260.177187</td>\n",
       "      <td>1543.504698</td>\n",
       "      <td>1330.348381</td>\n",
       "      <td>598.995292</td>\n",
       "      <td>145.526617</td>\n",
       "      <td>77.227315</td>\n",
       "      <td>1175.224150</td>\n",
       "    </tr>\n",
       "    <tr>\n",
       "      <td>11</td>\n",
       "      <td>801.269985</td>\n",
       "      <td>1033.096299</td>\n",
       "      <td>909.922553</td>\n",
       "      <td>413.469150</td>\n",
       "      <td>335.866274</td>\n",
       "      <td>23.660976</td>\n",
       "      <td>14.264921</td>\n",
       "      <td>149.354573</td>\n",
       "      <td>886.048031</td>\n",
       "      <td>763.685763</td>\n",
       "      <td>343.852921</td>\n",
       "      <td>83.539475</td>\n",
       "      <td>44.332298</td>\n",
       "      <td>674.636783</td>\n",
       "    </tr>\n",
       "  </tbody>\n",
       "</table>\n",
       "</div>"
      ],
      "text/plain": [
       "              0            1            2            3            4  \\\n",
       "0    698.838065   901.028407   793.600819   360.612510   292.930150   \n",
       "1    616.818302   795.278392   700.459140   318.288896   258.550137   \n",
       "2    993.515400  1280.962849  1128.236533   512.671104   416.449289   \n",
       "3   1425.882020  1838.423335  1619.232260   735.779747   597.683290   \n",
       "4   1843.774564  2377.222053  2093.791221   951.419517   772.850230   \n",
       "5   1363.408446  1757.874681  1548.287241   703.542304   571.496403   \n",
       "6   2085.751419  2689.208522  2368.580246  1076.283753   874.279045   \n",
       "7   2521.705631  3251.294574  2863.650043  1301.243655  1057.016848   \n",
       "8   2615.354137  3372.037803  2969.997329  1349.567902  1096.271251   \n",
       "9   2398.861552  3092.908805  2724.148253  1237.853989  1005.524612   \n",
       "10  1395.820478  1799.664280  1585.094360   720.267472   585.082471   \n",
       "11   801.269985  1033.096299   909.922553   413.469150   335.866274   \n",
       "\n",
       "            5          6           7            8            9           10  \\\n",
       "0   20.636229  12.441336  130.261538   772.778343   666.058495   299.895808   \n",
       "1   18.214239  10.981148  114.973275   682.080513   587.885937   264.698265   \n",
       "2   29.337857  17.687444  185.188602  1098.633894   946.913750   426.352139   \n",
       "3   42.105359  25.384819  265.780578  1576.746889  1358.999862   611.895749   \n",
       "4   54.445451  32.824514  343.674626  2038.854385  1757.290815   791.228027   \n",
       "5   40.260555  24.272609  254.135672  1507.663324  1299.456661   585.086157   \n",
       "6   61.590869  37.132401  388.778461  2306.433503  1987.917549   895.068742   \n",
       "7   74.464310  44.893645  470.039155  2788.513673  2403.422972  1082.151913   \n",
       "8   77.229689  46.560859  487.494985  2892.070622  2492.678819  1122.339756   \n",
       "9   70.836805  42.706666  447.141349  2652.672126  2286.340996  1029.435230   \n",
       "10  41.217661  24.849637  260.177187  1543.504698  1330.348381   598.995292   \n",
       "11  23.660976  14.264921  149.354573   886.048031   763.685763   343.852921   \n",
       "\n",
       "            11          12           13  \n",
       "0    72.860042   38.664992   588.393266  \n",
       "1    64.308757   34.127040   519.335958  \n",
       "2   103.582758   54.968764   836.499614  \n",
       "3   148.660798   78.890546  1200.534747  \n",
       "4   192.229788  102.011513  1552.383296  \n",
       "5   142.147376   75.434037  1147.934535  \n",
       "6   217.458013  115.399498  1756.117980  \n",
       "7   262.910091  139.519772  2123.173719  \n",
       "8   272.673775  144.701114  2202.021958  \n",
       "9   250.102510  132.723111  2019.743995  \n",
       "10  145.526617   77.227315  1175.224150  \n",
       "11   83.539475   44.332298   674.636783  "
      ]
     },
     "execution_count": 37,
     "metadata": {},
     "output_type": "execute_result"
    }
   ],
   "source": [
    "from scipy import stats\n",
    "\n",
    "chi2_stat, p_val, dof, exp_freq = stats.chi2_contingency(groupedtable)\n",
    "\n",
    "print(\"Chi2: {}, Degrees of freedom: {}, p-value: {}\".format(chi2_stat,dof,p_val))\n",
    "print(\"With the p-value below 0.01\")\n",
    "\n",
    "print(\"\\nContingency Table\")\n",
    "pd.DataFrame(exp_freq)"
   ]
  },
  {
   "cell_type": "markdown",
   "metadata": {},
   "source": [
    "The p-value is smaller than 0.01, which mean we can reject the null hypothesis with 99% confidence interval (alpha level 1%). There IS dependence (a statistical relationship) within the categorical variables."
   ]
  },
  {
   "cell_type": "code",
   "execution_count": null,
   "metadata": {},
   "outputs": [],
   "source": []
  }
 ],
 "metadata": {
  "kernelspec": {
   "display_name": "Python 3",
   "language": "python",
   "name": "python3"
  },
  "language_info": {
   "codemirror_mode": {
    "name": "ipython",
    "version": 3
   },
   "file_extension": ".py",
   "mimetype": "text/x-python",
   "name": "python",
   "nbconvert_exporter": "python",
   "pygments_lexer": "ipython3",
   "version": "3.7.3"
  }
 },
 "nbformat": 4,
 "nbformat_minor": 4
}
