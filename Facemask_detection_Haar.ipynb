{
 "cells": [
  {
   "cell_type": "markdown",
   "metadata": {},
   "source": [
    "# Face Mask Detection - Haar Cascades and NN\n",
    "\n",
    "Similar to the previous Drowsiness Detector, this project will predict the contents of a real-time camera feed. The goal is to detect a face, and then predict if the face contains a mask or not."
   ]
  },
  {
   "cell_type": "code",
   "execution_count": 1,
   "metadata": {},
   "outputs": [
    {
     "name": "stderr",
     "output_type": "stream",
     "text": [
      "Using TensorFlow backend.\n"
     ]
    }
   ],
   "source": [
    "from keras.optimizers import RMSprop\n",
    "from keras.preprocessing.image import ImageDataGenerator\n",
    "\n",
    "import cv2\n",
    "\n",
    "from keras.models import Sequential\n",
    "from keras.layers import Conv2D, Input, ZeroPadding2D, BatchNormalization, Activation, MaxPooling2D, Flatten, Dense,Dropout\n",
    "from keras.models import Model, load_model\n",
    "from keras.callbacks import TensorBoard, ModelCheckpoint\n",
    "\n",
    "from sklearn.model_selection import train_test_split\n",
    "from sklearn.metrics import f1_score\n",
    "from sklearn.utils import shuffle\n",
    "\n",
    "import imutils\n",
    "import numpy as np"
   ]
  },
  {
   "cell_type": "markdown",
   "metadata": {},
   "source": [
    "## Step 1: Download Data\n",
    "### Training Data\n",
    "The zip contains folders for train and validation set, each with mask and without mask."
   ]
  },
  {
   "cell_type": "code",
   "execution_count": 2,
   "metadata": {},
   "outputs": [
    {
     "name": "stdout",
     "output_type": "stream",
     "text": [
      "File exists\n"
     ]
    }
   ],
   "source": [
    "import os\n",
    "import wget\n",
    "\n",
    "url = 'https://data-flair.s3.ap-south-1.amazonaws.com/Data-Science-Data/face-mask-dataset.zip'\n",
    "out_dir = f'{os.getcwd()}\\\\Data\\\\facemask_data'\n",
    "localdataset_zip = out_dir + '\\\\face-mask-dataset.zip'\n",
    "\n",
    "if os.path.exists(localdataset_zip):\n",
    "    print(\"File exists\")\n",
    "else:\n",
    "    wget.download(url, out=out_dir)\n",
    "    print(\"Download Finished\")"
   ]
  },
  {
   "cell_type": "markdown",
   "metadata": {},
   "source": [
    "### Haar Cascades kernel\n",
    "The kernel detects frontal faces."
   ]
  },
  {
   "cell_type": "code",
   "execution_count": 3,
   "metadata": {},
   "outputs": [
    {
     "name": "stdout",
     "output_type": "stream",
     "text": [
      "File exists\n"
     ]
    }
   ],
   "source": [
    "url = 'https://raw.githubusercontent.com/opencv/opencv/master/data/haarcascades/haarcascade_frontalface_alt.xml'\n",
    "localhaar = out_dir + '\\\\haarcascade_frontalface_alt.xml'\n",
    "\n",
    "if os.path.exists(localhaar):\n",
    "    print(\"File exists\")\n",
    "else:\n",
    "    wget.download(url, out=out_dir)\n",
    "    print(\"Download Finished\")"
   ]
  },
  {
   "cell_type": "markdown",
   "metadata": {},
   "source": [
    "## Step 2: Unzipping"
   ]
  },
  {
   "cell_type": "code",
   "execution_count": 4,
   "metadata": {},
   "outputs": [],
   "source": [
    "import zipfile\n",
    "\n",
    "# unzip the dataset file\n",
    "zip_ref1 = zipfile.ZipFile(localdataset_zip, 'r')\n",
    "zip_ref1.extractall(out_dir)\n",
    "zip_ref1.close()\n",
    "\n",
    "dataset_dir = out_dir + '\\\\Dataset'\n",
    "\n",
    "# unzip the test file\n",
    "localtest_zip = dataset_dir + '\\\\test.zip'\n",
    "zipref2 = zipfile.ZipFile(localtest_zip, 'r')\n",
    "zipref2.extractall(dataset_dir)\n",
    "zipref2.close()\n",
    "\n",
    "# unzip the train file\n",
    "localtrain_zip = dataset_dir + '\\\\train.zip'\n",
    "zipref3 = zipfile.ZipFile(localtrain_zip, 'r')\n",
    "zipref3.extractall(dataset_dir)\n",
    "zipref3.close()"
   ]
  },
  {
   "cell_type": "code",
   "execution_count": 5,
   "metadata": {},
   "outputs": [
    {
     "name": "stdout",
     "output_type": "stream",
     "text": [
      "total train with mask images : 658\n",
      "total train witout mask images : 656\n",
      "total test with maks images : 97\n",
      "total test without images : 97\n"
     ]
    }
   ],
   "source": [
    "train_with_mask_dir = dataset_dir + '\\\\train\\\\with_mask'\n",
    "print('total train with mask images :', len(os.listdir(train_with_mask_dir) ))\n",
    "train_without_mask_dir = dataset_dir + '\\\\train\\\\without_mask'\n",
    "print('total train witout mask images :', len(os.listdir(train_without_mask_dir) ))\n",
    "\n",
    "test_with_mask_dir = dataset_dir + '\\\\test\\\\with_mask'\n",
    "print('total test with maks images :', len(os.listdir(test_with_mask_dir) ))\n",
    "test_without_mask_dir = dataset_dir + '\\\\test\\\\without_mask'\n",
    "print('total test without images :', len(os.listdir(test_without_mask_dir) ))"
   ]
  },
  {
   "cell_type": "markdown",
   "metadata": {},
   "source": [
    "## Images with mask:\n",
    "\n",
    "![with_mask](Data\\\\facemask_data\\\\with_mask.png)\n",
    "\n",
    "## Images without mask:\n",
    "![without_mask](Data\\\\facemask_data\\\\without_mask.png)"
   ]
  },
  {
   "cell_type": "markdown",
   "metadata": {},
   "source": [
    "## Step 3: Pre-Processing - Image Data Generator and Image Augmentation\n",
    "\n",
    "Labeling in TensorFlow happens via  the folder name. On-the-fly training image augmentation zooms, rotates, mirrors without saving new versions of the images. Rescaling normalizes the pixel values."
   ]
  },
  {
   "cell_type": "code",
   "execution_count": 6,
   "metadata": {},
   "outputs": [
    {
     "name": "stdout",
     "output_type": "stream",
     "text": [
      "Found 1314 images belonging to 2 classes.\n",
      "Found 194 images belonging to 2 classes.\n"
     ]
    }
   ],
   "source": [
    "training_directory = dataset_dir + \"\\\\train\"\n",
    "\n",
    "train_datagen = ImageDataGenerator(rescale=1./255.,\n",
    "                                    rotation_range=40,\n",
    "                                    width_shift_range=0.2,\n",
    "                                    height_shift_range=0.2,\n",
    "                                    shear_range=0.2,\n",
    "                                    zoom_range=0.2,\n",
    "                                    horizontal_flip=True,\n",
    "                                    fill_mode='nearest')\n",
    "\n",
    "train_generator = train_datagen.flow_from_directory(training_directory,\n",
    "                                                    batch_size=10, \n",
    "                                                    target_size=(150, 150))\n",
    "\n",
    "\n",
    "\n",
    "validation_directory = dataset_dir + \"\\\\test\"\n",
    "\n",
    "validation_datagen = ImageDataGenerator(rescale=1./255.)\n",
    "\n",
    "validation_generator = validation_datagen.flow_from_directory(validation_directory,\n",
    "                                                                batch_size=10,\n",
    "                                                                target_size=(150, 150))"
   ]
  },
  {
   "cell_type": "markdown",
   "metadata": {},
   "source": [
    "## Step 4: Design Model"
   ]
  },
  {
   "cell_type": "code",
   "execution_count": 7,
   "metadata": {},
   "outputs": [],
   "source": [
    "model = Sequential([Conv2D(100, (3,3), activation='relu', input_shape=(150, 150, 3)),\n",
    "                    MaxPooling2D(2,2),\n",
    "        \n",
    "                    Conv2D(100, (3,3), activation='relu'),\n",
    "                    MaxPooling2D(2,2),\n",
    "        \n",
    "                    Flatten(),\n",
    "                    Dropout(0.5),\n",
    "                    Dense(50, activation='relu'),\n",
    "                    Dense(2, activation='softmax')\n",
    "                    ])\n",
    "\n",
    "model.compile(optimizer='adam',loss='binary_crossentropy',metrics=['accuracy'])"
   ]
  },
  {
   "cell_type": "markdown",
   "metadata": {},
   "source": [
    "Initialize callback checkpoint to keep saving a model if it improved validation loss after the previous one. The last save should be the best model."
   ]
  },
  {
   "cell_type": "code",
   "execution_count": 8,
   "metadata": {},
   "outputs": [],
   "source": [
    "checkpoint = ModelCheckpoint(out_dir+'\\\\model1-{epoch:03d}.model',\n",
    "                             monitor='val_loss',\n",
    "                             verbose=1,\n",
    "                             save_best_only=True,mode='auto'\n",
    "                            )"
   ]
  },
  {
   "cell_type": "markdown",
   "metadata": {},
   "source": [
    "## Step 5: Train Model"
   ]
  },
  {
   "cell_type": "code",
   "execution_count": 9,
   "metadata": {},
   "outputs": [
    {
     "name": "stdout",
     "output_type": "stream",
     "text": [
      "Epoch 1/10\n",
      "132/132 [==============================] - 15s 117ms/step - loss: 0.5455 - accuracy: 0.7344 - val_loss: 0.1351 - val_accuracy: 0.9381\n",
      "\n",
      "Epoch 00001: val_loss improved from inf to 0.13511, saving model to C:\\Users\\ChristianV700\\Documents\\GitHub\\DataScienceProjects\\Data\\facemask_data\\model1-001.model\n",
      "Epoch 2/10\n",
      "132/132 [==============================] - 11s 81ms/step - loss: 0.3956 - accuracy: 0.8531 - val_loss: 0.0808 - val_accuracy: 0.9330\n",
      "\n",
      "Epoch 00002: val_loss improved from 0.13511 to 0.08085, saving model to C:\\Users\\ChristianV700\\Documents\\GitHub\\DataScienceProjects\\Data\\facemask_data\\model1-002.model\n",
      "Epoch 3/10\n",
      "132/132 [==============================] - 11s 85ms/step - loss: 0.3893 - accuracy: 0.8615 - val_loss: 0.0912 - val_accuracy: 0.9639\n",
      "\n",
      "Epoch 00003: val_loss did not improve from 0.08085\n",
      "Epoch 4/10\n",
      "132/132 [==============================] - 11s 83ms/step - loss: 0.2748 - accuracy: 0.9018 - val_loss: 0.0364 - val_accuracy: 0.9639\n",
      "\n",
      "Epoch 00004: val_loss improved from 0.08085 to 0.03639, saving model to C:\\Users\\ChristianV700\\Documents\\GitHub\\DataScienceProjects\\Data\\facemask_data\\model1-004.model\n",
      "Epoch 5/10\n",
      "132/132 [==============================] - 11s 84ms/step - loss: 0.2910 - accuracy: 0.9011 - val_loss: 0.0858 - val_accuracy: 0.9433\n",
      "\n",
      "Epoch 00005: val_loss did not improve from 0.03639\n",
      "Epoch 6/10\n",
      "132/132 [==============================] - 11s 85ms/step - loss: 0.2471 - accuracy: 0.9072 - val_loss: 0.0113 - val_accuracy: 0.9175\n",
      "\n",
      "Epoch 00006: val_loss improved from 0.03639 to 0.01128, saving model to C:\\Users\\ChristianV700\\Documents\\GitHub\\DataScienceProjects\\Data\\facemask_data\\model1-006.model\n",
      "Epoch 7/10\n",
      "132/132 [==============================] - 11s 82ms/step - loss: 0.2479 - accuracy: 0.9094 - val_loss: 0.0783 - val_accuracy: 0.9639\n",
      "\n",
      "Epoch 00007: val_loss did not improve from 0.01128\n",
      "Epoch 8/10\n",
      "132/132 [==============================] - 11s 84ms/step - loss: 0.2279 - accuracy: 0.9262 - val_loss: 0.0315 - val_accuracy: 0.9433\n",
      "\n",
      "Epoch 00008: val_loss did not improve from 0.01128\n",
      "Epoch 9/10\n",
      "132/132 [==============================] - 11s 84ms/step - loss: 0.2253 - accuracy: 0.9315 - val_loss: 0.1753 - val_accuracy: 0.9845\n",
      "\n",
      "Epoch 00009: val_loss did not improve from 0.01128\n",
      "Epoch 10/10\n",
      "132/132 [==============================] - 11s 85ms/step - loss: 0.1991 - accuracy: 0.9346 - val_loss: 0.0153 - val_accuracy: 0.9845\n",
      "\n",
      "Epoch 00010: val_loss did not improve from 0.01128\n"
     ]
    }
   ],
   "source": [
    "history = model.fit_generator(train_generator,\n",
    "                                epochs=10,\n",
    "                                validation_data=validation_generator,\n",
    "                                callbacks=[checkpoint])"
   ]
  },
  {
   "cell_type": "code",
   "execution_count": 10,
   "metadata": {},
   "outputs": [
    {
     "data": {
      "text/plain": [
       "Text(0.5, 1.0, 'Loss')"
      ]
     },
     "execution_count": 10,
     "metadata": {},
     "output_type": "execute_result"
    },
    {
     "data": {
      "image/png": "[encoded data removed]",
      "text/plain": [
       "<Figure size 432x288 with 1 Axes>"
      ]
     },
     "metadata": {
      "needs_background": "light"
     },
     "output_type": "display_data"
    },
    {
     "data": {
      "image/png": "[encoded data removed]",
      "text/plain": [
       "<Figure size 432x288 with 1 Axes>"
      ]
     },
     "metadata": {
      "needs_background": "light"
     },
     "output_type": "display_data"
    }
   ],
   "source": [
    "from matplotlib import pyplot as plt\n",
    "\n",
    "# extract contents from history\n",
    "acc      = history.history['accuracy']\n",
    "val_acc  = history.history['val_accuracy']\n",
    "loss     = history.history['loss']\n",
    "val_loss = history.history['val_loss']\n",
    "\n",
    "epochs   = range(len(acc)) # Get number of epochs\n",
    "\n",
    "# Accuracy plot\n",
    "plt.plot  (epochs,acc,label='Training Accuracy')\n",
    "plt.plot  (epochs,val_acc,label='Validation Accuracy' )\n",
    "plt.legend(bbox_to_anchor=(1.05, 1),loc=2, borderaxespad=0.)\n",
    "plt.title ('Accuracy')\n",
    "plt.figure()\n",
    "\n",
    "# Loss plot\n",
    "plt.plot  (epochs,loss,label='Training Loss' )\n",
    "plt.plot  (epochs,val_loss,label='Validation Loss' )\n",
    "plt.legend(bbox_to_anchor=(1.05, 1),loc=2,borderaxespad=0.)\n",
    "plt.title ('Loss')"
   ]
  },
  {
   "cell_type": "markdown",
   "metadata": {},
   "source": [
    " Accuracy is instantly very high (>90%) with little distance between Training and Validation sets.\n",
    " \n",
    " ## Step 6: Make Predictions on Camera Feed"
   ]
  },
  {
   "cell_type": "code",
   "execution_count": 11,
   "metadata": {},
   "outputs": [],
   "source": [
    "import cv2\n",
    "import numpy as np\n",
    "from keras.models import load_model"
   ]
  },
  {
   "cell_type": "code",
   "execution_count": 13,
   "metadata": {},
   "outputs": [
    {
     "name": "stdout",
     "output_type": "stream",
     "text": [
      "Video stream open.\n"
     ]
    }
   ],
   "source": [
    "# load the best face mask model\n",
    "model=load_model(out_dir+\"./model1-006.model\")\n",
    "\n",
    "# Capture accesses the video feed. The \"0\" is the number of your video device, in case you have multiple.\n",
    "cap = cv2.VideoCapture(0)\n",
    "if cap.isOpened() == True:\n",
    "    print(\"Video stream open.\")\n",
    "else:\n",
    "    print(\"Problem opening video stream.\")\n",
    "\n",
    "results={0:'without mask',1:'mask'}\n",
    "GR_dict={0:(0,0,255),1:(0,255,0)}\n",
    "rect_size = 4\n",
    "\n",
    "# load haar cascade file\n",
    "haarcascade = cv2.CascadeClassifier(localhaar)"
   ]
  },
  {
   "cell_type": "code",
   "execution_count": 14,
   "metadata": {},
   "outputs": [],
   "source": [
    "while True:\n",
    "    (rval, im) = cap.read()\n",
    "    im=cv2.flip(im,1,1) \n",
    "        \n",
    "    rerect_size = cv2.resize(im, (im.shape[1] // rect_size, im.shape[0] // rect_size))\n",
    "    faces = haarcascade.detectMultiScale(rerect_size)\n",
    "    \n",
    "    for f in faces:\n",
    "        (x, y, w, h) = [v * rect_size for v in f] \n",
    "            \n",
    "        face_img = im[y:y+h, x:x+w]\n",
    "        rerect_sized=cv2.resize(face_img,(150,150))\n",
    "        normalized=rerect_sized/255.0\n",
    "        reshaped=np.reshape(normalized,(1,150,150,3))\n",
    "        reshaped = np.vstack([reshaped])\n",
    "        result=model.predict(reshaped)\n",
    "\n",
    "        label=np.argmax(result,axis=1)[0]\n",
    "\n",
    "        cv2.rectangle(im,(x,y),(x+w,y+h),GR_dict[label],2)\n",
    "        cv2.rectangle(im,(x,y-40),(x+w,y),GR_dict[label],-1)\n",
    "        cv2.putText(im, results[label], (x, y-10),cv2.FONT_HERSHEY_SIMPLEX,0.8,(255,255,255),2)\n",
    "    cv2.imshow('LIVE',   im)\n",
    "\n",
    "    # break the infinite loop when pressing q\n",
    "    if cv2.waitKey(1) & 0xFF == ord('q'):\n",
    "        break\n",
    "\n",
    "cap.release()\n",
    "cv2.destroyAllWindows()"
   ]
  },
  {
   "cell_type": "markdown",
   "metadata": {},
   "source": [
    "## Summary\n",
    "The haar cacade has its issues with detecting a face when it is wearing a mask. With the eyes only visible, the haar cascade's detection limits are too narrow. Without finding a person, the neural network can't predict if the person is wearing a mask or not."
   ]
  },
  {
   "cell_type": "code",
   "execution_count": null,
   "metadata": {},
   "outputs": [],
   "source": []
  }
 ],
 "metadata": {
  "kernelspec": {
   "display_name": "Python 3",
   "language": "python",
   "name": "python3"
  },
  "language_info": {
   "codemirror_mode": {
    "name": "ipython",
    "version": 3
   },
   "file_extension": ".py",
   "mimetype": "text/x-python",
   "name": "python",
   "nbconvert_exporter": "python",
   "pygments_lexer": "ipython3",
   "version": "3.7.9"
  }
 },
 "nbformat": 4,
 "nbformat_minor": 4
}
