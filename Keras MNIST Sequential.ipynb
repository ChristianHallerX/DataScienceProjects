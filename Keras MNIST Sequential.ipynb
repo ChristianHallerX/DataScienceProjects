{
 "cells": [
  {
   "cell_type": "markdown",
   "metadata": {},
   "source": [
    "# MNIST with Keras high-level language (Sequential model)\n",
    "\n",
    "## Define dense layers"
   ]
  },
  {
   "cell_type": "code",
   "execution_count": 1,
   "metadata": {},
   "outputs": [],
   "source": [
    "num_classes = 10 # ten handwritten digits (0 to 9) to classify"
   ]
  },
  {
   "cell_type": "code",
   "execution_count": 2,
   "metadata": {},
   "outputs": [
    {
     "name": "stderr",
     "output_type": "stream",
     "text": [
      "Using TensorFlow backend.\n"
     ]
    },
    {
     "data": {
      "text/plain": [
       "<keras.layers.core.Dense at 0x7f0750894198>"
      ]
     },
     "execution_count": 2,
     "metadata": {},
     "output_type": "execute_result"
    }
   ],
   "source": [
    "from keras.layers import Dense, Activation\n",
    "\n",
    "Dense(units=num_classes, # number of output neurons\n",
    "      activation = None, # activation function by name\n",
    "      use_bias = True, # use bias term or not\n",
    "      kernel_initializer = 'glorot_uniform',\n",
    "      bias_initializer = 'zeros')"
   ]
  },
  {
   "cell_type": "markdown",
   "metadata": {},
   "source": [
    "## Define dropout layers"
   ]
  },
  {
   "cell_type": "code",
   "execution_count": 3,
   "metadata": {},
   "outputs": [
    {
     "data": {
      "text/plain": [
       "<keras.layers.core.Dropout at 0x7f07508940f0>"
      ]
     },
     "execution_count": 3,
     "metadata": {},
     "output_type": "execute_result"
    }
   ],
   "source": [
    "from keras.layers import Dropout\n",
    "\n",
    "rate = 0.2 # dropout rate 0 to 1\n",
    "\n",
    "Dropout(rate,  # fraction of units to drop\n",
    "       seed = None) # random seed for reproducibility"
   ]
  },
  {
   "cell_type": "markdown",
   "metadata": {},
   "source": [
    "## Imports and loading data"
   ]
  },
  {
   "cell_type": "code",
   "execution_count": 4,
   "metadata": {},
   "outputs": [],
   "source": [
    "import keras\n",
    "from keras.datasets import mnist\n",
    "from keras.utils import to_categorical\n",
    "from keras.models import Sequential\n",
    "from keras.layers import Dropout, Dense\n",
    "\n",
    "batch_size = 128\n",
    "epochs = 20\n",
    "\n",
    "(x_train, y_train), (x_test, y_test) = mnist.load_data()"
   ]
  },
  {
   "cell_type": "markdown",
   "metadata": {},
   "source": [
    "## Data preprocessing"
   ]
  },
  {
   "cell_type": "code",
   "execution_count": 5,
   "metadata": {},
   "outputs": [
    {
     "name": "stdout",
     "output_type": "stream",
     "text": [
      "\n",
      "x_train shape: (60000, 784)\n",
      "y_train shape: (60000, 10)\n",
      "\n",
      "x_test shape: (10000, 784)\n",
      "y_test shape: (10000, 10)\n"
     ]
    }
   ],
   "source": [
    "x_train = x_train.reshape(60000, 784) # 60000 pictures, 28*28 pixels\n",
    "x_test = x_test.reshape(10000, 784) # 10000 pictures, 28*28\n",
    "x_train = x_train.astype('float32') # used to be integer greysacle, now needs to be float when converted 0 to 1\n",
    "x_test = x_test.astype('float32') # used to be integer greysacle, now needs to be float when converted 0 to 1\n",
    "x_train /= 255 # normalize greyscale 0 to 255 to values 0 to 1\n",
    "x_test /= 255 # normalize greyscale 0 to 255 to values 0 to 1\n",
    "\n",
    "y_train = keras.utils.to_categorical(y_train, num_classes)\n",
    "y_test = keras.utils.to_categorical(y_test, num_classes)\n",
    "\n",
    "# check vector sizes\n",
    "print('\\nx_train shape:', x_train.shape)\n",
    "print('y_train shape:', y_train.shape)\n",
    "\n",
    "print('\\nx_test shape:', x_test.shape)\n",
    "print('y_test shape:', y_test.shape)"
   ]
  },
  {
   "cell_type": "markdown",
   "metadata": {},
   "source": [
    "\n",
    "## Defining and compiling the model"
   ]
  },
  {
   "cell_type": "code",
   "execution_count": 6,
   "metadata": {},
   "outputs": [
    {
     "name": "stdout",
     "output_type": "stream",
     "text": [
      "WARNING:tensorflow:From /opt/conda/envs/Python36/lib/python3.6/site-packages/tensorflow/python/framework/op_def_library.py:263: colocate_with (from tensorflow.python.framework.ops) is deprecated and will be removed in a future version.\n",
      "Instructions for updating:\n",
      "Colocations handled automatically by placer.\n",
      "WARNING:tensorflow:From /opt/conda/envs/Python36/lib/python3.6/site-packages/keras/backend/tensorflow_backend.py:3445: calling dropout (from tensorflow.python.ops.nn_ops) with keep_prob is deprecated and will be removed in a future version.\n",
      "Instructions for updating:\n",
      "Please use `rate` instead of `keep_prob`. Rate should be set to `rate = 1 - keep_prob`.\n",
      "_________________________________________________________________\n",
      "Layer (type)                 Output Shape              Param #   \n",
      "=================================================================\n",
      "dense_2 (Dense)              (None, 512)               401920    \n",
      "_________________________________________________________________\n",
      "dropout_2 (Dropout)          (None, 512)               0         \n",
      "_________________________________________________________________\n",
      "dense_3 (Dense)              (None, 512)               262656    \n",
      "_________________________________________________________________\n",
      "dropout_3 (Dropout)          (None, 512)               0         \n",
      "_________________________________________________________________\n",
      "dense_4 (Dense)              (None, 10)                5130      \n",
      "=================================================================\n",
      "Total params: 669,706\n",
      "Trainable params: 669,706\n",
      "Non-trainable params: 0\n",
      "_________________________________________________________________\n"
     ]
    }
   ],
   "source": [
    "from keras.optimizers import SGD # Stochastic Gradient Descent\n",
    "from keras.utils.vis_utils import plot_model\n",
    "import pydot\n",
    "\n",
    "# define model layers\n",
    "model = Sequential()\n",
    "model.add(Dense(512, activation = 'relu', input_shape=(784,))) # first layer only\n",
    "model.add(Dropout(rate))\n",
    "model.add(Dense(512, activation = 'relu'))\n",
    "model.add(Dropout(rate))\n",
    "model.add(Dense(num_classes, activation = 'softmax')) # output layer with 10 endpoints and softmax probability (0 to 1)\n",
    "\n",
    "sgd = SGD(lr=0.01, decay=1e-6, momentum=0.9, nesterov=True) # lr = learning rate , decay = earning rate decay over each update\n",
    "model.compile(loss='categorical_crossentropy', optimizer=sgd, metrics=['accuracy'])\n",
    "\n",
    "# not so nice model representation\n",
    "model.summary()"
   ]
  },
  {
   "cell_type": "code",
   "execution_count": 7,
   "metadata": {},
   "outputs": [
    {
     "data": {
      "image/svg+xml": [
       "<svg height=\"410pt\" viewBox=\"0.00 0.00 165.00 410.00\" width=\"165pt\" xmlns=\"http://www.w3.org/2000/svg\" xmlns:xlink=\"http://www.w3.org/1999/xlink\">\n",
       "<g class=\"graph\" id=\"graph0\" transform=\"scale(1 1) rotate(0) translate(4 406)\">\n",
       "<title>G</title>\n",
       "<polygon fill=\"#ffffff\" points=\"-4,4 -4,-406 161,-406 161,4 -4,4\" stroke=\"transparent\"/>\n",
       "<!-- 139668344294536 -->\n",
       "<g class=\"node\" id=\"node1\">\n",
       "<title>139668344294536</title>\n",
       "<polygon fill=\"none\" points=\"13,-292.5 13,-328.5 144,-328.5 144,-292.5 13,-292.5\" stroke=\"#000000\"/>\n",
       "<text fill=\"#000000\" font-family=\"Times,serif\" font-size=\"14.00\" text-anchor=\"middle\" x=\"78.5\" y=\"-306.8\">dense_2: Dense</text>\n",
       "</g>\n",
       "<!-- 139668344294424 -->\n",
       "<g class=\"node\" id=\"node2\">\n",
       "<title>139668344294424</title>\n",
       "<polygon fill=\"none\" points=\"0,-219.5 0,-255.5 157,-255.5 157,-219.5 0,-219.5\" stroke=\"#000000\"/>\n",
       "<text fill=\"#000000\" font-family=\"Times,serif\" font-size=\"14.00\" text-anchor=\"middle\" x=\"78.5\" y=\"-233.8\">dropout_2: Dropout</text>\n",
       "</g>\n",
       "<!-- 139668344294536&#45;&gt;139668344294424 -->\n",
       "<g class=\"edge\" id=\"edge2\">\n",
       "<title>139668344294536-&gt;139668344294424</title>\n",
       "<path d=\"M78.5,-292.4551C78.5,-284.3828 78.5,-274.6764 78.5,-265.6817\" fill=\"none\" stroke=\"#000000\"/>\n",
       "<polygon fill=\"#000000\" points=\"82.0001,-265.5903 78.5,-255.5904 75.0001,-265.5904 82.0001,-265.5903\" stroke=\"#000000\"/>\n",
       "</g>\n",
       "<!-- 139668344295264 -->\n",
       "<g class=\"node\" id=\"node3\">\n",
       "<title>139668344295264</title>\n",
       "<polygon fill=\"none\" points=\"13,-146.5 13,-182.5 144,-182.5 144,-146.5 13,-146.5\" stroke=\"#000000\"/>\n",
       "<text fill=\"#000000\" font-family=\"Times,serif\" font-size=\"14.00\" text-anchor=\"middle\" x=\"78.5\" y=\"-160.8\">dense_3: Dense</text>\n",
       "</g>\n",
       "<!-- 139668344294424&#45;&gt;139668344295264 -->\n",
       "<g class=\"edge\" id=\"edge3\">\n",
       "<title>139668344294424-&gt;139668344295264</title>\n",
       "<path d=\"M78.5,-219.4551C78.5,-211.3828 78.5,-201.6764 78.5,-192.6817\" fill=\"none\" stroke=\"#000000\"/>\n",
       "<polygon fill=\"#000000\" points=\"82.0001,-192.5903 78.5,-182.5904 75.0001,-192.5904 82.0001,-192.5903\" stroke=\"#000000\"/>\n",
       "</g>\n",
       "<!-- 139668335432312 -->\n",
       "<g class=\"node\" id=\"node4\">\n",
       "<title>139668335432312</title>\n",
       "<polygon fill=\"none\" points=\"0,-73.5 0,-109.5 157,-109.5 157,-73.5 0,-73.5\" stroke=\"#000000\"/>\n",
       "<text fill=\"#000000\" font-family=\"Times,serif\" font-size=\"14.00\" text-anchor=\"middle\" x=\"78.5\" y=\"-87.8\">dropout_3: Dropout</text>\n",
       "</g>\n",
       "<!-- 139668344295264&#45;&gt;139668335432312 -->\n",
       "<g class=\"edge\" id=\"edge4\">\n",
       "<title>139668344295264-&gt;139668335432312</title>\n",
       "<path d=\"M78.5,-146.4551C78.5,-138.3828 78.5,-128.6764 78.5,-119.6817\" fill=\"none\" stroke=\"#000000\"/>\n",
       "<polygon fill=\"#000000\" points=\"82.0001,-119.5903 78.5,-109.5904 75.0001,-119.5904 82.0001,-119.5903\" stroke=\"#000000\"/>\n",
       "</g>\n",
       "<!-- 139668344295208 -->\n",
       "<g class=\"node\" id=\"node5\">\n",
       "<title>139668344295208</title>\n",
       "<polygon fill=\"none\" points=\"13,-.5 13,-36.5 144,-36.5 144,-.5 13,-.5\" stroke=\"#000000\"/>\n",
       "<text fill=\"#000000\" font-family=\"Times,serif\" font-size=\"14.00\" text-anchor=\"middle\" x=\"78.5\" y=\"-14.8\">dense_4: Dense</text>\n",
       "</g>\n",
       "<!-- 139668335432312&#45;&gt;139668344295208 -->\n",
       "<g class=\"edge\" id=\"edge5\">\n",
       "<title>139668335432312-&gt;139668344295208</title>\n",
       "<path d=\"M78.5,-73.4551C78.5,-65.3828 78.5,-55.6764 78.5,-46.6817\" fill=\"none\" stroke=\"#000000\"/>\n",
       "<polygon fill=\"#000000\" points=\"82.0001,-46.5903 78.5,-36.5904 75.0001,-46.5904 82.0001,-46.5903\" stroke=\"#000000\"/>\n",
       "</g>\n",
       "<!-- 139668344294872 -->\n",
       "<g class=\"node\" id=\"node6\">\n",
       "<title>139668344294872</title>\n",
       "<polygon fill=\"none\" points=\"2.5,-365.5 2.5,-401.5 154.5,-401.5 154.5,-365.5 2.5,-365.5\" stroke=\"#000000\"/>\n",
       "<text fill=\"#000000\" font-family=\"Times,serif\" font-size=\"14.00\" text-anchor=\"middle\" x=\"78.5\" y=\"-379.8\">139668344294872</text>\n",
       "</g>\n",
       "<!-- 139668344294872&#45;&gt;139668344294536 -->\n",
       "<g class=\"edge\" id=\"edge1\">\n",
       "<title>139668344294872-&gt;139668344294536</title>\n",
       "<path d=\"M78.5,-365.4551C78.5,-357.3828 78.5,-347.6764 78.5,-338.6817\" fill=\"none\" stroke=\"#000000\"/>\n",
       "<polygon fill=\"#000000\" points=\"82.0001,-338.5903 78.5,-328.5904 75.0001,-338.5904 82.0001,-338.5903\" stroke=\"#000000\"/>\n",
       "</g>\n",
       "</g>\n",
       "</svg>"
      ],
      "text/plain": [
       "<IPython.core.display.SVG object>"
      ]
     },
     "execution_count": 7,
     "metadata": {},
     "output_type": "execute_result"
    }
   ],
   "source": [
    "from IPython.display import SVG\n",
    "from keras.utils.vis_utils import model_to_dot\n",
    "\n",
    "# graphical representation of model layers saved to file. For some reason the show_shapes does not work.\n",
    "plot_model(model, to_file='model_plot.png', show_shapes=True)\n",
    "\n",
    "# show graph\n",
    "SVG(model_to_dot(model).create(prog='dot', format='svg'))"
   ]
  },
  {
   "cell_type": "markdown",
   "metadata": {},
   "source": [
    "## Running and evaluating"
   ]
  },
  {
   "cell_type": "code",
   "execution_count": 8,
   "metadata": {},
   "outputs": [
    {
     "name": "stdout",
     "output_type": "stream",
     "text": [
      "WARNING:tensorflow:From /opt/conda/envs/Python36/lib/python3.6/site-packages/tensorflow/python/ops/math_ops.py:3066: to_int32 (from tensorflow.python.ops.math_ops) is deprecated and will be removed in a future version.\n",
      "Instructions for updating:\n",
      "Use tf.cast instead.\n",
      "Train on 60000 samples, validate on 10000 samples\n",
      "Epoch 1/20\n",
      "60000/60000 [==============================] - 66s 1ms/step - loss: 0.4805 - acc: 0.8629 - val_loss: 0.2198 - val_acc: 0.9363\n",
      "Epoch 2/20\n",
      "60000/60000 [==============================] - 65s 1ms/step - loss: 0.2215 - acc: 0.9355 - val_loss: 0.1541 - val_acc: 0.9532\n",
      "Epoch 3/20\n",
      "60000/60000 [==============================] - 66s 1ms/step - loss: 0.1629 - acc: 0.9521 - val_loss: 0.1227 - val_acc: 0.9620\n",
      "Epoch 4/20\n",
      "60000/60000 [==============================] - 66s 1ms/step - loss: 0.1336 - acc: 0.9601 - val_loss: 0.1048 - val_acc: 0.9676\n",
      "Epoch 5/20\n",
      "60000/60000 [==============================] - 67s 1ms/step - loss: 0.1114 - acc: 0.9672 - val_loss: 0.0923 - val_acc: 0.9712\n",
      "Epoch 6/20\n",
      "60000/60000 [==============================] - 68s 1ms/step - loss: 0.0985 - acc: 0.9708 - val_loss: 0.0836 - val_acc: 0.9739\n",
      "Epoch 7/20\n",
      "60000/60000 [==============================] - 66s 1ms/step - loss: 0.0838 - acc: 0.9751 - val_loss: 0.0775 - val_acc: 0.9749\n",
      "Epoch 8/20\n",
      "60000/60000 [==============================] - 65s 1ms/step - loss: 0.0764 - acc: 0.9769 - val_loss: 0.0726 - val_acc: 0.9783\n",
      "Epoch 9/20\n",
      "60000/60000 [==============================] - 63s 1ms/step - loss: 0.0691 - acc: 0.9792 - val_loss: 0.0690 - val_acc: 0.9775\n",
      "Epoch 10/20\n",
      "60000/60000 [==============================] - 66s 1ms/step - loss: 0.0624 - acc: 0.9812 - val_loss: 0.0688 - val_acc: 0.9780\n",
      "Epoch 11/20\n",
      "60000/60000 [==============================] - 65s 1ms/step - loss: 0.0571 - acc: 0.9831 - val_loss: 0.0639 - val_acc: 0.9800\n",
      "Epoch 12/20\n",
      "60000/60000 [==============================] - 66s 1ms/step - loss: 0.0507 - acc: 0.9846 - val_loss: 0.0627 - val_acc: 0.9796\n",
      "Epoch 13/20\n",
      "60000/60000 [==============================] - 65s 1ms/step - loss: 0.0472 - acc: 0.9858 - val_loss: 0.0621 - val_acc: 0.9812\n",
      "Epoch 14/20\n",
      "60000/60000 [==============================] - 66s 1ms/step - loss: 0.0427 - acc: 0.9877 - val_loss: 0.0585 - val_acc: 0.9811\n",
      "Epoch 15/20\n",
      "60000/60000 [==============================] - 65s 1ms/step - loss: 0.0409 - acc: 0.9875 - val_loss: 0.0590 - val_acc: 0.9808\n",
      "Epoch 16/20\n",
      "60000/60000 [==============================] - 65s 1ms/step - loss: 0.0365 - acc: 0.9890 - val_loss: 0.0581 - val_acc: 0.9807\n",
      "Epoch 17/20\n",
      "60000/60000 [==============================] - 66s 1ms/step - loss: 0.0354 - acc: 0.9893 - val_loss: 0.0559 - val_acc: 0.9821\n",
      "Epoch 18/20\n",
      "60000/60000 [==============================] - 64s 1ms/step - loss: 0.0322 - acc: 0.9904 - val_loss: 0.0574 - val_acc: 0.9814\n",
      "Epoch 19/20\n",
      "60000/60000 [==============================] - 65s 1ms/step - loss: 0.0299 - acc: 0.9906 - val_loss: 0.0560 - val_acc: 0.9818\n",
      "Epoch 20/20\n",
      "60000/60000 [==============================] - 64s 1ms/step - loss: 0.0287 - acc: 0.9914 - val_loss: 0.0562 - val_acc: 0.9829\n",
      "Test loss:  0.05617065113708377\n",
      "Test accuracy:  0.9829\n"
     ]
    },
    {
     "data": {
      "text/plain": [
       "<Figure size 640x480 with 1 Axes>"
      ]
     },
     "metadata": {},
     "output_type": "display_data"
    },
    {
     "data": {
      "text/plain": [
       "<Figure size 640x480 with 1 Axes>"
      ]
     },
     "metadata": {},
     "output_type": "display_data"
    }
   ],
   "source": [
    "# Run model and save values in history variable\n",
    "history = model.fit(x_train, y_train, batch_size=batch_size, epochs=epochs, validation_data=(x_test, y_test))\n",
    "\n",
    "# Show final score\n",
    "score = model.evaluate(x_test, y_test, verbose=0)\n",
    "print('Test loss: ', score[0])\n",
    "print('Test accuracy: ', score[1])"
   ]
  },
  {
   "cell_type": "code",
   "execution_count": 10,
   "metadata": {},
   "outputs": [
    {
     "data": {
      "image/png": "[encoded data removed]",
      "text/plain": [
       "<Figure size 432x288 with 1 Axes>"
      ]
     },
     "metadata": {
      "needs_background": "light"
     },
     "output_type": "display_data"
    },
    {
     "data": {
      "image/png": "[encoded data removed]",
      "text/plain": [
       "<Figure size 432x288 with 1 Axes>"
      ]
     },
     "metadata": {
      "needs_background": "light"
     },
     "output_type": "display_data"
    }
   ],
   "source": [
    "import matplotlib.pyplot as plt\n",
    "\n",
    "# Plot training & validation accuracy values\n",
    "plt.plot(history.history['acc'])\n",
    "plt.plot(history.history['val_acc'])\n",
    "plt.title('Model accuracy')\n",
    "plt.ylabel('Accuracy')\n",
    "plt.xlabel('Epoch')\n",
    "plt.legend(['Train', 'Test'], loc='upper left')\n",
    "plt.show()\n",
    "\n",
    "# Plot training & validation loss values\n",
    "plt.plot(history.history['loss'])\n",
    "plt.plot(history.history['val_loss'])\n",
    "plt.title('Model loss')\n",
    "plt.ylabel('Loss')\n",
    "plt.xlabel('Epoch')\n",
    "plt.legend(['Train', 'Test'], loc='upper left')\n",
    "plt.show()"
   ]
  },
  {
   "cell_type": "code",
   "execution_count": null,
   "metadata": {},
   "outputs": [],
   "source": []
  }
 ],
 "metadata": {
  "kernelspec": {
   "display_name": "Python 3.6",
   "language": "python",
   "name": "python3"
  },
  "language_info": {
   "codemirror_mode": {
    "name": "ipython",
    "version": 3
   },
   "file_extension": ".py",
   "mimetype": "text/x-python",
   "name": "python",
   "nbconvert_exporter": "python",
   "pygments_lexer": "ipython3",
   "version": "3.6.8"
  }
 },
 "nbformat": 4,
 "nbformat_minor": 4
}
