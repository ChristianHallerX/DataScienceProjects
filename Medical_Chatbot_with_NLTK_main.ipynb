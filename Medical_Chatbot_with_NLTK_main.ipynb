{
 "cells": [
  {
   "cell_type": "markdown",
   "metadata": {},
   "source": [
    "# Medical Chatbot with NLTK\n",
    "\n",
    "A chatbot is smart code that is capable of communicating similar to a human.\n",
    "\n",
    "Chatbots are used a lot in customer interaction, marketing on social network sites and instantly messaging the client.\n",
    "\n",
    "There are two basic types of chatbot models based on how they are built:\n",
    "- **Retrieval based**.\n",
    "A retrieval-based chatbot uses predefined input patterns and responses. It then uses some type of heuristic approach to select the appropriate response. It is widely used in the industry to make goal-oriented chatbots where we can customize the tone and flow of the chatbot to drive our customers with the best experience.\n",
    "\n",
    "- **Generative based models** are not based on some predefined responses.\n",
    "They are based on *seq 2 seq* neural networks. It is the same idea as machine translation. In machine translation, we translate the source code from one language to another language but here, we are going to transform input into an output. It needs a large amount of data and it is based on Deep Neural Networks (DNN).\n",
    "\n",
    "## Scope of this chatbot\n",
    "\n",
    "Build a chatbot using deep learning techniques following the retrieval-based concept. The chatbot will be trained on the dataset which contains conversation categories (intents), patterns, and responses. The model uses a Deep Neural Network with a single hidden layer to classify which category the input message belongs to and then the chatbot will select a random response from the list of responses, which have similar meaning.\n",
    "\n",
    "Topics the chatbot will be helpful with is helping doctors/patients finding **(1) Adverse drug reaction**, **(2) Blood pressure**, **(3) Hospitals** and **(4)Pharmacies**. It may be used on websites pertaining to hospital, pharmaceutical online stores etc. or modified to fit completely different purposes. Furthermore, this is just a prototype whose functionality can be greatly expanded in topics it can reply to, depth of conversation, answer variert and so on.\n",
    "\n",
    "\n",
    "## Preparation\n",
    "The training set and DNN for inference for the chatbot was created in a **<a href=\"https://github.com/ChristianHallerX/DataScienceProjects/blob/master/Data/chatbot_data/Medical_Chatbot_with_NLTK_Train.ipynb\" target=\"_blank\">separate notebook</a>**. The model was trained from the **intents.json** file, which contains:\n",
    "- \"tag\", a shorthand for the topic of the conversation,\n",
    "- \"patterns\", the user input, multiple alternatives possible for this topic,\n",
    "- \"responses\", the chatbot replies,\n",
    "- \"context\", a field that correlates an entry with the tag field of another entry, for multiple interactions with user\n",
    "\n",
    "Files generated in that notebook are:\n",
    "- **intents.json**, the original file containing the tags, sentences trained on, and selection of replies\n",
    "- **words.pkl**, a pickle file of the user input words vocacabulary (lemmatized)\n",
    "- **classes.pkl**, a pickle file containing the unique tags/topics of intents\n",
    "- **chatbot_model.h5**, a file containing the weights of the trained DNN for prediction\n",
    "\n",
    "Download the necessary files from **<a href=\"https://github.com/ChristianHallerX/DataScienceProjects/tree/master/Data/chatbot_data\" target=\"_blank\">this repository</a>** to get started.\n",
    "\n",
    "## Step 1: Imports"
   ]
  },
  {
   "cell_type": "code",
   "execution_count": 1,
   "metadata": {},
   "outputs": [
    {
     "name": "stderr",
     "output_type": "stream",
     "text": [
      "Using TensorFlow backend.\n"
     ]
    }
   ],
   "source": [
    "import nltk\n",
    "from nltk.stem import WordNetLemmatizer\n",
    "import pickle\n",
    "import numpy as np\n",
    "from keras.models import load_model\n",
    "import json\n",
    "import random\n",
    "import os\n",
    "\n",
    "lemmatizer = WordNetLemmatizer()"
   ]
  },
  {
   "cell_type": "markdown",
   "metadata": {},
   "source": [
    "## Step 2: Load Files\n",
    "\n",
    "Loading words, model, and replies into objects."
   ]
  },
  {
   "cell_type": "code",
   "execution_count": 2,
   "metadata": {},
   "outputs": [],
   "source": [
    "intents = json.loads(open(f'{os.getcwd()}\\\\Data\\\\chatbot_data\\\\intents.json').read())\n",
    "words = pickle.load(open(f'{os.getcwd()}\\\\Data\\\\chatbot_data\\\\words.pkl','rb'))\n",
    "classes = pickle.load(open(f'{os.getcwd()}\\\\Data\\\\chatbot_data\\\\classes.pkl','rb'))\n",
    "model = load_model(f'{os.getcwd()}\\\\Data\\\\chatbot_data\\\\chatbot_model.h5')"
   ]
  },
  {
   "cell_type": "markdown",
   "metadata": {},
   "source": [
    "## Step 3: Preprocessing the input - Some helper functions\n",
    "\n",
    "For class prediction, we need to provide input in the same way as we did for training. These helper functions perform text preprocessing when the user clicked \"Send\" and then predict the class."
   ]
  },
  {
   "cell_type": "code",
   "execution_count": 3,
   "metadata": {},
   "outputs": [],
   "source": [
    "def clean_up_sentence(sentence):\n",
    "    \n",
    "    # tokenize input pattern - split words into array\n",
    "    sentence_words = nltk.word_tokenize(sentence)\n",
    "    \n",
    "    # stem each word - create short form for word\n",
    "    sentence_words = [lemmatizer.lemmatize(word.lower()) for word in sentence_words]\n",
    "    \n",
    "    return sentence_words\n",
    "    \n",
    "\n",
    "# return bag of words array: 0 or 1 for each word in the bag that exists in the sentence\n",
    "def bow(sentence, words, show_details=True):\n",
    "    \n",
    "    # tokenize the pattern\n",
    "    sentence_words = clean_up_sentence(sentence)\n",
    "    \n",
    "    # bag of words - matrix of N words, vocabulary matrix\n",
    "    bag = [0]*len(words)\n",
    "    \n",
    "    for s in sentence_words:\n",
    "        for i,w in enumerate(words):\n",
    "            if w == s: \n",
    "                # assign 1 if current word is in the vocabulary position\n",
    "                bag[i] = 1\n",
    "                if show_details:\n",
    "                    print (\"found in bag: %s\" % w)\n",
    "                    \n",
    "    return(np.array(bag))\n",
    "\n",
    "\n",
    "def predict_class(sentence, model):\n",
    "    \n",
    "    # filter out predictions below a threshold\n",
    "    p = bow(sentence, words,show_details=False)\n",
    "    res = model.predict(np.array([p]))[0]\n",
    "    ERROR_THRESHOLD = 0.25\n",
    "    results = [[i,r] for i,r in enumerate(res) if r>ERROR_THRESHOLD]\n",
    "    \n",
    "    # sort by strength of probability\n",
    "    results.sort(key=lambda x: x[1], reverse=True)\n",
    "    return_list = []\n",
    "    \n",
    "    for r in results:\n",
    "        return_list.append({\"intent\": classes[r[0]], \"probability\": str(r[1])})\n",
    "    \n",
    "    return return_list"
   ]
  },
  {
   "cell_type": "markdown",
   "metadata": {},
   "source": [
    "## Step 4: Selecting a response\n",
    "\n",
    "After predicting the class (tag) of the user input, these functions select a random response from the list of intent (i.e. from intents.json file)."
   ]
  },
  {
   "cell_type": "code",
   "execution_count": 4,
   "metadata": {},
   "outputs": [],
   "source": [
    "def getResponse(ints, intents_json):\n",
    "    tag = ints[0]['intent']\n",
    "    list_of_intents = intents_json['intents']\n",
    "    for i in list_of_intents:\n",
    "        if(i['tag']== tag):\n",
    "            result = random.choice(i['responses'])\n",
    "            break\n",
    "    return result\n",
    "\n",
    "def chatbot_response(text):\n",
    "    ints = predict_class(text, model)\n",
    "    res = getResponse(ints, intents)\n",
    "    return res"
   ]
  },
  {
   "cell_type": "markdown",
   "metadata": {},
   "source": [
    "## Step 5: GUI\n",
    "\n",
    "Code for the Graphical User Interface.\n",
    "\n",
    "The GUI uses the *tkinter* library, which is an Python interface to the Tk GUI toolkit. Tkinter is Python's de-facto standard GUI.\n",
    "\n",
    "Taksks of the GUI are: (1) Accept the input message from the user and then (2) use the helper functions to get the response from the bot and then (3) display everything in a window."
   ]
  },
  {
   "cell_type": "code",
   "execution_count": 5,
   "metadata": {},
   "outputs": [],
   "source": [
    "import tkinter\n",
    "from tkinter import *\n",
    "\n",
    "# send function: add entry to chat window and get chatbot response\n",
    "def send():\n",
    "    # get written message and save to variable\n",
    "    msg = EntryBox.get(\"1.0\",'end-1c').strip()\n",
    "    # remove message from entry box\n",
    "    EntryBox.delete(\"0.0\",END)\n",
    "    \n",
    "    if msg == \"Message\":\n",
    "        # if the user clicks send before entering their own message, \"Message\" gets inserted again\n",
    "        # no prediction/response\n",
    "        EntryBox.insert(END, \"Message\")\n",
    "        pass\n",
    "        # if user clicks send and proper entry\n",
    "    elif msg != '':\n",
    "        # activate chat window and insert message\n",
    "        ChatLog.config(state=NORMAL)\n",
    "        ChatLog.insert(END, \"You: \" + msg + '\\n\\n')\n",
    "        ChatLog.config(foreground=\"black\", font=(\"Verdana\", 12 ))\n",
    "        \n",
    "        # insert bot response to chat window\n",
    "        res = chatbot_response(msg)\n",
    "        ChatLog.insert(END, \"MedInfo: \" + res + '\\n\\n')\n",
    "        \n",
    "        # make window read-only again\n",
    "        ChatLog.config(state=DISABLED)\n",
    "        ChatLog.yview(END)\n",
    "\n",
    "def clear_search(event):\n",
    "    EntryBox.delete(\"0.0\",END)\n",
    "    EntryBox.config(foreground=\"black\", font=(\"Verdana\", 12))"
   ]
  },
  {
   "cell_type": "markdown",
   "metadata": {},
   "source": [
    "### Execute this Cell to start the chatbot GUI\n",
    "\n",
    "Here, everything comes together. The different objects on the screen are defined and what functions are executed when they are interacted with. The ChatLog text field's state is always set to \"Normal\" for text inserting and afterwards set to \"Disabled\" so the user cannot interact with it."
   ]
  },
  {
   "cell_type": "code",
   "execution_count": 6,
   "metadata": {},
   "outputs": [],
   "source": [
    "base = Tk()\n",
    "base.title(\"MedInfo\")\n",
    "base.geometry(\"400x500\")\n",
    "base.resizable(width=FALSE, height=FALSE)\n",
    "\n",
    "# create chat window\n",
    "ChatLog = Text(base, bd=0, bg=\"white\", height=\"8\", width=\"50\", font=\"Arial\",)\n",
    "\n",
    "# initial greeting in chat window\n",
    "ChatLog.config(foreground=\"black\", font=(\"Verdana\", 12 ))\n",
    "ChatLog.insert(END, \"MedInfo: Hello, I can help with... \\n\\t- Adverse Drug Reaction \\n\\t- Blood Pressure \\n\\t- Pharmacy Search \\n\\t- Hospital Search\\n\\n\")\n",
    "\n",
    "# disable window = read-only\n",
    "ChatLog.config(state=DISABLED)\n",
    "\n",
    "# bind scrollbar to ChatLog window\n",
    "scrollbar = Scrollbar(base, command=ChatLog.yview, cursor=\"double_arrow\")\n",
    "ChatLog['yscrollcommand'] = scrollbar.set\n",
    "\n",
    "# create Button to send message\n",
    "SendButton = Button(base, font=(\"Verdana\",12,'bold'), text=\"Send\", width=\"9\", height=5,\n",
    "                    bd=0, bg=\"blue\", activebackground=\"gold\",fg='#ffffff',\n",
    "                    command= send )\n",
    "\n",
    "# create the box to enter message\n",
    "EntryBox = Text(base, bd=0, bg=\"white\",width=\"29\", height=\"5\", font=\"Arial\")\n",
    "\n",
    "# display a grey text in EntryBox that's removed upon clicking or tab focus\n",
    "EntryBox.insert(END, \"Message\")\n",
    "EntryBox.config(foreground=\"grey\", font=(\"Verdana\", 12))\n",
    "EntryBox.bind(\"<Button-1>\", clear_search)\n",
    "EntryBox.bind(\"<FocusIn>\", clear_search) \n",
    "\n",
    "# place components at given coordinates in window (x=0 y=0 top left corner)\n",
    "scrollbar.place(x=376,y=6, height=386)\n",
    "ChatLog.place(x=6,y=6, height=386, width=370)\n",
    "EntryBox.place(x=6, y=401, height=90, width=265)\n",
    "SendButton.place(x=282, y=401, height=90)\n",
    "\n",
    "base.mainloop()"
   ]
  },
  {
   "attachments": {
    "f692e4db-a491-4539-961a-f2f71d53c6fa.png": {
     "image/png": "[encoded data removed]"
    }
   },
   "cell_type": "markdown",
   "metadata": {},
   "source": [
    "## Screenshot of GUI\n",
    "![grafik.png](attachment:f692e4db-a491-4539-961a-f2f71d53c6fa.png)"
   ]
  },
  {
   "cell_type": "code",
   "execution_count": null,
   "metadata": {},
   "outputs": [],
   "source": []
  }
 ],
 "metadata": {
  "kernelspec": {
   "display_name": "Python 3",
   "language": "python",
   "name": "python3"
  },
  "language_info": {
   "codemirror_mode": {
    "name": "ipython",
    "version": 3
   },
   "file_extension": ".py",
   "mimetype": "text/x-python",
   "name": "python",
   "nbconvert_exporter": "python",
   "pygments_lexer": "ipython3",
   "version": "3.7.7"
  }
 },
 "nbformat": 4,
 "nbformat_minor": 4
}
